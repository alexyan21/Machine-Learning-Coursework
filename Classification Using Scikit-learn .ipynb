{
 "cells": [
  {
   "cell_type": "markdown",
   "metadata": {},
   "source": [
    "#### NOTE: This course work made and compared classifiers using scikit-learn package"
   ]
  },
  {
   "cell_type": "markdown",
   "metadata": {},
   "source": [
    "## Classification using scikit-learn "
   ]
  },
  {
   "cell_type": "markdown",
   "metadata": {},
   "source": [
    "### a.Load and preprocess the data using Numpy or Pandas and the preprocessing functions from scikit-learn. "
   ]
  },
  {
   "cell_type": "code",
   "execution_count": 1,
   "metadata": {},
   "outputs": [],
   "source": [
    "#read in the necessary libraries\n",
    "import math\n",
    "import operator\n",
    "import numpy as np\n",
    "import pandas as pd\n",
    "import matplotlib.pyplot as plt\n",
    "import sys"
   ]
  },
  {
   "cell_type": "code",
   "execution_count": 2,
   "metadata": {
    "scrolled": true
   },
   "outputs": [
    {
     "data": {
      "text/html": [
       "<div>\n",
       "<style scoped>\n",
       "    .dataframe tbody tr th:only-of-type {\n",
       "        vertical-align: middle;\n",
       "    }\n",
       "\n",
       "    .dataframe tbody tr th {\n",
       "        vertical-align: top;\n",
       "    }\n",
       "\n",
       "    .dataframe thead th {\n",
       "        text-align: right;\n",
       "    }\n",
       "</style>\n",
       "<table border=\"1\" class=\"dataframe\">\n",
       "  <thead>\n",
       "    <tr style=\"text-align: right;\">\n",
       "      <th></th>\n",
       "      <th>age</th>\n",
       "      <th>income</th>\n",
       "      <th>children</th>\n",
       "      <th>gender</th>\n",
       "      <th>region</th>\n",
       "      <th>married</th>\n",
       "      <th>car</th>\n",
       "      <th>savings_acct</th>\n",
       "      <th>current_acct</th>\n",
       "      <th>mortgage</th>\n",
       "      <th>pep</th>\n",
       "    </tr>\n",
       "    <tr>\n",
       "      <th>id</th>\n",
       "      <th></th>\n",
       "      <th></th>\n",
       "      <th></th>\n",
       "      <th></th>\n",
       "      <th></th>\n",
       "      <th></th>\n",
       "      <th></th>\n",
       "      <th></th>\n",
       "      <th></th>\n",
       "      <th></th>\n",
       "      <th></th>\n",
       "    </tr>\n",
       "  </thead>\n",
       "  <tbody>\n",
       "    <tr>\n",
       "      <th>ID12101</th>\n",
       "      <td>48</td>\n",
       "      <td>17546.0</td>\n",
       "      <td>1</td>\n",
       "      <td>FEMALE</td>\n",
       "      <td>INNER_CITY</td>\n",
       "      <td>NO</td>\n",
       "      <td>NO</td>\n",
       "      <td>NO</td>\n",
       "      <td>NO</td>\n",
       "      <td>NO</td>\n",
       "      <td>YES</td>\n",
       "    </tr>\n",
       "    <tr>\n",
       "      <th>ID12102</th>\n",
       "      <td>40</td>\n",
       "      <td>30085.1</td>\n",
       "      <td>3</td>\n",
       "      <td>MALE</td>\n",
       "      <td>TOWN</td>\n",
       "      <td>YES</td>\n",
       "      <td>YES</td>\n",
       "      <td>NO</td>\n",
       "      <td>YES</td>\n",
       "      <td>YES</td>\n",
       "      <td>NO</td>\n",
       "    </tr>\n",
       "    <tr>\n",
       "      <th>ID12103</th>\n",
       "      <td>51</td>\n",
       "      <td>16575.4</td>\n",
       "      <td>0</td>\n",
       "      <td>FEMALE</td>\n",
       "      <td>INNER_CITY</td>\n",
       "      <td>YES</td>\n",
       "      <td>YES</td>\n",
       "      <td>YES</td>\n",
       "      <td>YES</td>\n",
       "      <td>NO</td>\n",
       "      <td>NO</td>\n",
       "    </tr>\n",
       "    <tr>\n",
       "      <th>ID12104</th>\n",
       "      <td>23</td>\n",
       "      <td>20375.4</td>\n",
       "      <td>3</td>\n",
       "      <td>FEMALE</td>\n",
       "      <td>TOWN</td>\n",
       "      <td>YES</td>\n",
       "      <td>NO</td>\n",
       "      <td>NO</td>\n",
       "      <td>YES</td>\n",
       "      <td>NO</td>\n",
       "      <td>NO</td>\n",
       "    </tr>\n",
       "    <tr>\n",
       "      <th>ID12105</th>\n",
       "      <td>57</td>\n",
       "      <td>50576.3</td>\n",
       "      <td>0</td>\n",
       "      <td>FEMALE</td>\n",
       "      <td>RURAL</td>\n",
       "      <td>YES</td>\n",
       "      <td>NO</td>\n",
       "      <td>YES</td>\n",
       "      <td>NO</td>\n",
       "      <td>NO</td>\n",
       "      <td>NO</td>\n",
       "    </tr>\n",
       "  </tbody>\n",
       "</table>\n",
       "</div>"
      ],
      "text/plain": [
       "         age   income  children  gender      region married  car savings_acct  \\\n",
       "id                                                                              \n",
       "ID12101   48  17546.0         1  FEMALE  INNER_CITY      NO   NO           NO   \n",
       "ID12102   40  30085.1         3    MALE        TOWN     YES  YES           NO   \n",
       "ID12103   51  16575.4         0  FEMALE  INNER_CITY     YES  YES          YES   \n",
       "ID12104   23  20375.4         3  FEMALE        TOWN     YES   NO           NO   \n",
       "ID12105   57  50576.3         0  FEMALE       RURAL     YES   NO          YES   \n",
       "\n",
       "        current_acct mortgage  pep  \n",
       "id                                  \n",
       "ID12101           NO       NO  YES  \n",
       "ID12102          YES      YES   NO  \n",
       "ID12103          YES       NO   NO  \n",
       "ID12104          YES       NO   NO  \n",
       "ID12105           NO       NO   NO  "
      ]
     },
     "execution_count": 2,
     "metadata": {},
     "output_type": "execute_result"
    }
   ],
   "source": [
    "#load in data\n",
    "bank = pd.read_csv('~/desktop/bank_data.csv', index_col=0, sep=',')\n",
    "bank.head(5)"
   ]
  },
  {
   "cell_type": "code",
   "execution_count": 3,
   "metadata": {
    "scrolled": true
   },
   "outputs": [
    {
     "data": {
      "text/html": [
       "<div>\n",
       "<style scoped>\n",
       "    .dataframe tbody tr th:only-of-type {\n",
       "        vertical-align: middle;\n",
       "    }\n",
       "\n",
       "    .dataframe tbody tr th {\n",
       "        vertical-align: top;\n",
       "    }\n",
       "\n",
       "    .dataframe thead th {\n",
       "        text-align: right;\n",
       "    }\n",
       "</style>\n",
       "<table border=\"1\" class=\"dataframe\">\n",
       "  <thead>\n",
       "    <tr style=\"text-align: right;\">\n",
       "      <th></th>\n",
       "      <th>age</th>\n",
       "      <th>income</th>\n",
       "      <th>children</th>\n",
       "      <th>gender</th>\n",
       "      <th>region</th>\n",
       "      <th>married</th>\n",
       "      <th>car</th>\n",
       "      <th>savings_acct</th>\n",
       "      <th>current_acct</th>\n",
       "      <th>mortgage</th>\n",
       "    </tr>\n",
       "    <tr>\n",
       "      <th>id</th>\n",
       "      <th></th>\n",
       "      <th></th>\n",
       "      <th></th>\n",
       "      <th></th>\n",
       "      <th></th>\n",
       "      <th></th>\n",
       "      <th></th>\n",
       "      <th></th>\n",
       "      <th></th>\n",
       "      <th></th>\n",
       "    </tr>\n",
       "  </thead>\n",
       "  <tbody>\n",
       "    <tr>\n",
       "      <th>ID12101</th>\n",
       "      <td>48</td>\n",
       "      <td>17546.0</td>\n",
       "      <td>1</td>\n",
       "      <td>FEMALE</td>\n",
       "      <td>INNER_CITY</td>\n",
       "      <td>NO</td>\n",
       "      <td>NO</td>\n",
       "      <td>NO</td>\n",
       "      <td>NO</td>\n",
       "      <td>NO</td>\n",
       "    </tr>\n",
       "    <tr>\n",
       "      <th>ID12102</th>\n",
       "      <td>40</td>\n",
       "      <td>30085.1</td>\n",
       "      <td>3</td>\n",
       "      <td>MALE</td>\n",
       "      <td>TOWN</td>\n",
       "      <td>YES</td>\n",
       "      <td>YES</td>\n",
       "      <td>NO</td>\n",
       "      <td>YES</td>\n",
       "      <td>YES</td>\n",
       "    </tr>\n",
       "    <tr>\n",
       "      <th>ID12103</th>\n",
       "      <td>51</td>\n",
       "      <td>16575.4</td>\n",
       "      <td>0</td>\n",
       "      <td>FEMALE</td>\n",
       "      <td>INNER_CITY</td>\n",
       "      <td>YES</td>\n",
       "      <td>YES</td>\n",
       "      <td>YES</td>\n",
       "      <td>YES</td>\n",
       "      <td>NO</td>\n",
       "    </tr>\n",
       "    <tr>\n",
       "      <th>ID12104</th>\n",
       "      <td>23</td>\n",
       "      <td>20375.4</td>\n",
       "      <td>3</td>\n",
       "      <td>FEMALE</td>\n",
       "      <td>TOWN</td>\n",
       "      <td>YES</td>\n",
       "      <td>NO</td>\n",
       "      <td>NO</td>\n",
       "      <td>YES</td>\n",
       "      <td>NO</td>\n",
       "    </tr>\n",
       "    <tr>\n",
       "      <th>ID12105</th>\n",
       "      <td>57</td>\n",
       "      <td>50576.3</td>\n",
       "      <td>0</td>\n",
       "      <td>FEMALE</td>\n",
       "      <td>RURAL</td>\n",
       "      <td>YES</td>\n",
       "      <td>NO</td>\n",
       "      <td>YES</td>\n",
       "      <td>NO</td>\n",
       "      <td>NO</td>\n",
       "    </tr>\n",
       "  </tbody>\n",
       "</table>\n",
       "</div>"
      ],
      "text/plain": [
       "         age   income  children  gender      region married  car savings_acct  \\\n",
       "id                                                                              \n",
       "ID12101   48  17546.0         1  FEMALE  INNER_CITY      NO   NO           NO   \n",
       "ID12102   40  30085.1         3    MALE        TOWN     YES  YES           NO   \n",
       "ID12103   51  16575.4         0  FEMALE  INNER_CITY     YES  YES          YES   \n",
       "ID12104   23  20375.4         3  FEMALE        TOWN     YES   NO           NO   \n",
       "ID12105   57  50576.3         0  FEMALE       RURAL     YES   NO          YES   \n",
       "\n",
       "        current_acct mortgage  \n",
       "id                             \n",
       "ID12101           NO       NO  \n",
       "ID12102          YES      YES  \n",
       "ID12103          YES       NO  \n",
       "ID12104          YES       NO  \n",
       "ID12105           NO       NO  "
      ]
     },
     "execution_count": 3,
     "metadata": {},
     "output_type": "execute_result"
    }
   ],
   "source": [
    "###Preprocess the data using Numpy or Pandas and the preprocessing functions from scikit-learn.\n",
    "# Separate the target attribute (\"pep\")\n",
    "# bank_records : train, bank_target : target\n",
    "bank_records = bank[['age','income', 'children', 'gender','region','married','car','savings_acct','current_acct','mortgage']]\n",
    "bank_records.head(5)"
   ]
  },
  {
   "cell_type": "code",
   "execution_count": 4,
   "metadata": {
    "scrolled": true
   },
   "outputs": [
    {
     "data": {
      "text/plain": [
       "id\n",
       "ID12101    YES\n",
       "ID12102     NO\n",
       "ID12103     NO\n",
       "ID12104     NO\n",
       "ID12105     NO\n",
       "Name: pep, dtype: object"
      ]
     },
     "execution_count": 4,
     "metadata": {},
     "output_type": "execute_result"
    }
   ],
   "source": [
    "bank_target = bank.pep\n",
    "bank_target.head(5)"
   ]
  },
  {
   "cell_type": "code",
   "execution_count": 5,
   "metadata": {
    "scrolled": false
   },
   "outputs": [
    {
     "data": {
      "text/html": [
       "<div>\n",
       "<style scoped>\n",
       "    .dataframe tbody tr th:only-of-type {\n",
       "        vertical-align: middle;\n",
       "    }\n",
       "\n",
       "    .dataframe tbody tr th {\n",
       "        vertical-align: top;\n",
       "    }\n",
       "\n",
       "    .dataframe thead th {\n",
       "        text-align: right;\n",
       "    }\n",
       "</style>\n",
       "<table border=\"1\" class=\"dataframe\">\n",
       "  <thead>\n",
       "    <tr style=\"text-align: right;\">\n",
       "      <th></th>\n",
       "      <th>age</th>\n",
       "      <th>income</th>\n",
       "      <th>children</th>\n",
       "      <th>gender_FEMALE</th>\n",
       "      <th>gender_MALE</th>\n",
       "      <th>region_INNER_CITY</th>\n",
       "      <th>region_RURAL</th>\n",
       "      <th>region_SUBURBAN</th>\n",
       "      <th>region_TOWN</th>\n",
       "      <th>married_NO</th>\n",
       "      <th>married_YES</th>\n",
       "      <th>car_NO</th>\n",
       "      <th>car_YES</th>\n",
       "      <th>savings_acct_NO</th>\n",
       "      <th>savings_acct_YES</th>\n",
       "      <th>current_acct_NO</th>\n",
       "      <th>current_acct_YES</th>\n",
       "      <th>mortgage_NO</th>\n",
       "      <th>mortgage_YES</th>\n",
       "    </tr>\n",
       "    <tr>\n",
       "      <th>id</th>\n",
       "      <th></th>\n",
       "      <th></th>\n",
       "      <th></th>\n",
       "      <th></th>\n",
       "      <th></th>\n",
       "      <th></th>\n",
       "      <th></th>\n",
       "      <th></th>\n",
       "      <th></th>\n",
       "      <th></th>\n",
       "      <th></th>\n",
       "      <th></th>\n",
       "      <th></th>\n",
       "      <th></th>\n",
       "      <th></th>\n",
       "      <th></th>\n",
       "      <th></th>\n",
       "      <th></th>\n",
       "      <th></th>\n",
       "    </tr>\n",
       "  </thead>\n",
       "  <tbody>\n",
       "    <tr>\n",
       "      <th>ID12101</th>\n",
       "      <td>48</td>\n",
       "      <td>17546.0</td>\n",
       "      <td>1</td>\n",
       "      <td>1</td>\n",
       "      <td>0</td>\n",
       "      <td>1</td>\n",
       "      <td>0</td>\n",
       "      <td>0</td>\n",
       "      <td>0</td>\n",
       "      <td>1</td>\n",
       "      <td>0</td>\n",
       "      <td>1</td>\n",
       "      <td>0</td>\n",
       "      <td>1</td>\n",
       "      <td>0</td>\n",
       "      <td>1</td>\n",
       "      <td>0</td>\n",
       "      <td>1</td>\n",
       "      <td>0</td>\n",
       "    </tr>\n",
       "    <tr>\n",
       "      <th>ID12102</th>\n",
       "      <td>40</td>\n",
       "      <td>30085.1</td>\n",
       "      <td>3</td>\n",
       "      <td>0</td>\n",
       "      <td>1</td>\n",
       "      <td>0</td>\n",
       "      <td>0</td>\n",
       "      <td>0</td>\n",
       "      <td>1</td>\n",
       "      <td>0</td>\n",
       "      <td>1</td>\n",
       "      <td>0</td>\n",
       "      <td>1</td>\n",
       "      <td>1</td>\n",
       "      <td>0</td>\n",
       "      <td>0</td>\n",
       "      <td>1</td>\n",
       "      <td>0</td>\n",
       "      <td>1</td>\n",
       "    </tr>\n",
       "    <tr>\n",
       "      <th>ID12103</th>\n",
       "      <td>51</td>\n",
       "      <td>16575.4</td>\n",
       "      <td>0</td>\n",
       "      <td>1</td>\n",
       "      <td>0</td>\n",
       "      <td>1</td>\n",
       "      <td>0</td>\n",
       "      <td>0</td>\n",
       "      <td>0</td>\n",
       "      <td>0</td>\n",
       "      <td>1</td>\n",
       "      <td>0</td>\n",
       "      <td>1</td>\n",
       "      <td>0</td>\n",
       "      <td>1</td>\n",
       "      <td>0</td>\n",
       "      <td>1</td>\n",
       "      <td>1</td>\n",
       "      <td>0</td>\n",
       "    </tr>\n",
       "    <tr>\n",
       "      <th>ID12104</th>\n",
       "      <td>23</td>\n",
       "      <td>20375.4</td>\n",
       "      <td>3</td>\n",
       "      <td>1</td>\n",
       "      <td>0</td>\n",
       "      <td>0</td>\n",
       "      <td>0</td>\n",
       "      <td>0</td>\n",
       "      <td>1</td>\n",
       "      <td>0</td>\n",
       "      <td>1</td>\n",
       "      <td>1</td>\n",
       "      <td>0</td>\n",
       "      <td>1</td>\n",
       "      <td>0</td>\n",
       "      <td>0</td>\n",
       "      <td>1</td>\n",
       "      <td>1</td>\n",
       "      <td>0</td>\n",
       "    </tr>\n",
       "    <tr>\n",
       "      <th>ID12105</th>\n",
       "      <td>57</td>\n",
       "      <td>50576.3</td>\n",
       "      <td>0</td>\n",
       "      <td>1</td>\n",
       "      <td>0</td>\n",
       "      <td>0</td>\n",
       "      <td>1</td>\n",
       "      <td>0</td>\n",
       "      <td>0</td>\n",
       "      <td>0</td>\n",
       "      <td>1</td>\n",
       "      <td>1</td>\n",
       "      <td>0</td>\n",
       "      <td>0</td>\n",
       "      <td>1</td>\n",
       "      <td>1</td>\n",
       "      <td>0</td>\n",
       "      <td>1</td>\n",
       "      <td>0</td>\n",
       "    </tr>\n",
       "  </tbody>\n",
       "</table>\n",
       "</div>"
      ],
      "text/plain": [
       "         age   income  children  gender_FEMALE  gender_MALE  \\\n",
       "id                                                            \n",
       "ID12101   48  17546.0         1              1            0   \n",
       "ID12102   40  30085.1         3              0            1   \n",
       "ID12103   51  16575.4         0              1            0   \n",
       "ID12104   23  20375.4         3              1            0   \n",
       "ID12105   57  50576.3         0              1            0   \n",
       "\n",
       "         region_INNER_CITY  region_RURAL  region_SUBURBAN  region_TOWN  \\\n",
       "id                                                                       \n",
       "ID12101                  1             0                0            0   \n",
       "ID12102                  0             0                0            1   \n",
       "ID12103                  1             0                0            0   \n",
       "ID12104                  0             0                0            1   \n",
       "ID12105                  0             1                0            0   \n",
       "\n",
       "         married_NO  married_YES  car_NO  car_YES  savings_acct_NO  \\\n",
       "id                                                                   \n",
       "ID12101           1            0       1        0                1   \n",
       "ID12102           0            1       0        1                1   \n",
       "ID12103           0            1       0        1                0   \n",
       "ID12104           0            1       1        0                1   \n",
       "ID12105           0            1       1        0                0   \n",
       "\n",
       "         savings_acct_YES  current_acct_NO  current_acct_YES  mortgage_NO  \\\n",
       "id                                                                          \n",
       "ID12101                 0                1                 0            1   \n",
       "ID12102                 0                0                 1            0   \n",
       "ID12103                 1                0                 1            1   \n",
       "ID12104                 0                0                 1            1   \n",
       "ID12105                 1                1                 0            1   \n",
       "\n",
       "         mortgage_YES  \n",
       "id                     \n",
       "ID12101             0  \n",
       "ID12102             1  \n",
       "ID12103             0  \n",
       "ID12104             0  \n",
       "ID12105             0  "
      ]
     },
     "execution_count": 5,
     "metadata": {},
     "output_type": "execute_result"
    }
   ],
   "source": [
    "#Convert the selected dataset into the Standard Spreadsheet format\n",
    "#get_dummies\" function to create dummy variables and converting to standard spreadsheet format\n",
    "bank_matrix = pd.get_dummies(bank_records[['age','income', 'children', 'gender','region','married','car','savings_acct','current_acct','mortgage']])\n",
    "bank_matrix.head(5)"
   ]
  },
  {
   "cell_type": "code",
   "execution_count": 6,
   "metadata": {
    "scrolled": true
   },
   "outputs": [
    {
     "name": "stderr",
     "output_type": "stream",
     "text": [
      "/Users/Alexkilledme/anaconda2/lib/python2.7/site-packages/sklearn/cross_validation.py:41: DeprecationWarning: This module was deprecated in version 0.18 in favor of the model_selection module into which all the refactored classes and functions are moved. Also note that the interface of the new CV iterators are different from that of this module. This module will be removed in 0.20.\n",
      "  \"This module will be removed in 0.20.\", DeprecationWarning)\n"
     ]
    }
   ],
   "source": [
    "#Split the transformed data into training and test sets (using 80%-20% randomized split)\n",
    "from sklearn.cross_validation import train_test_split\n",
    "bank_train, bank_test, bank_target_train, bank_target_test = train_test_split(bank_matrix, bank_target, test_size=0.2, random_state=33)"
   ]
  },
  {
   "cell_type": "code",
   "execution_count": 7,
   "metadata": {},
   "outputs": [
    {
     "name": "stdout",
     "output_type": "stream",
     "text": [
      "(480, 19) (120, 19)\n"
     ]
    }
   ],
   "source": [
    "# bank_record:\n",
    "print bank_train.shape,bank_test.shape"
   ]
  },
  {
   "cell_type": "code",
   "execution_count": 8,
   "metadata": {},
   "outputs": [
    {
     "name": "stdout",
     "output_type": "stream",
     "text": [
      "(480,) (120,)\n"
     ]
    }
   ],
   "source": [
    "# bank_target:\n",
    "print bank_target_train.shape, bank_target_test.shape"
   ]
  },
  {
   "cell_type": "markdown",
   "metadata": {},
   "source": [
    "### b.Run scikit-learn's KNN classifier on the test set."
   ]
  },
  {
   "cell_type": "code",
   "execution_count": 9,
   "metadata": {},
   "outputs": [],
   "source": [
    "###Normalize the data so that the values are between 0 and 1"
   ]
  },
  {
   "cell_type": "code",
   "execution_count": 10,
   "metadata": {},
   "outputs": [],
   "source": [
    "from sklearn import preprocessing"
   ]
  },
  {
   "cell_type": "code",
   "execution_count": 11,
   "metadata": {},
   "outputs": [],
   "source": [
    "min_max_scaler = preprocessing.MinMaxScaler().fit(bank_train)\n",
    "bank_train_norm = min_max_scaler.transform(bank_train)\n",
    "bank_test_norm = min_max_scaler.transform(bank_test)"
   ]
  },
  {
   "cell_type": "code",
   "execution_count": 12,
   "metadata": {
    "scrolled": false
   },
   "outputs": [
    {
     "data": {
      "text/plain": [
       "array([[0.57, 0.46, 0.67, 1.  , 0.  , 1.  , 0.  , 0.  , 0.  , 0.  , 1.  , 0.  , 1.  , 0.  , 1.  ,\n",
       "        0.  , 1.  , 1.  , 0.  ],\n",
       "       [0.8 , 0.78, 0.  , 1.  , 0.  , 0.  , 1.  , 0.  , 0.  , 0.  , 1.  , 1.  , 0.  , 0.  , 1.  ,\n",
       "        1.  , 0.  , 1.  , 0.  ],\n",
       "       [0.14, 0.16, 0.  , 1.  , 0.  , 1.  , 0.  , 0.  , 0.  , 0.  , 1.  , 1.  , 0.  , 0.  , 1.  ,\n",
       "        0.  , 1.  , 1.  , 0.  ],\n",
       "       [0.35, 0.18, 0.33, 0.  , 1.  , 1.  , 0.  , 0.  , 0.  , 0.  , 1.  , 1.  , 0.  , 0.  , 1.  ,\n",
       "        0.  , 1.  , 1.  , 0.  ],\n",
       "       [0.33, 0.18, 0.  , 1.  , 0.  , 0.  , 0.  , 0.  , 1.  , 0.  , 1.  , 0.  , 1.  , 0.  , 1.  ,\n",
       "        1.  , 0.  , 0.  , 1.  ]])"
      ]
     },
     "execution_count": 12,
     "metadata": {},
     "output_type": "execute_result"
    }
   ],
   "source": [
    "np.set_printoptions(precision=2, linewidth=100)\n",
    "bank_train_norm[0:5]"
   ]
  },
  {
   "cell_type": "code",
   "execution_count": 13,
   "metadata": {
    "scrolled": true
   },
   "outputs": [
    {
     "data": {
      "text/plain": [
       "array([[0.29, 0.12, 0.  , 1.  , 0.  , 0.  , 0.  , 0.  , 1.  , 0.  , 1.  , 0.  , 1.  , 0.  , 1.  ,\n",
       "        0.  , 1.  , 0.  , 1.  ],\n",
       "       [0.84, 0.41, 0.33, 1.  , 0.  , 1.  , 0.  , 0.  , 0.  , 1.  , 0.  , 0.  , 1.  , 1.  , 0.  ,\n",
       "        0.  , 1.  , 1.  , 0.  ],\n",
       "       [0.88, 0.62, 1.  , 0.  , 1.  , 0.  , 1.  , 0.  , 0.  , 0.  , 1.  , 1.  , 0.  , 0.  , 1.  ,\n",
       "        0.  , 1.  , 0.  , 1.  ],\n",
       "       [0.71, 0.75, 1.  , 0.  , 1.  , 0.  , 1.  , 0.  , 0.  , 0.  , 1.  , 0.  , 1.  , 0.  , 1.  ,\n",
       "        1.  , 0.  , 1.  , 0.  ],\n",
       "       [0.96, 0.56, 0.33, 0.  , 1.  , 1.  , 0.  , 0.  , 0.  , 0.  , 1.  , 0.  , 1.  , 0.  , 1.  ,\n",
       "        1.  , 0.  , 0.  , 1.  ]])"
      ]
     },
     "execution_count": 13,
     "metadata": {},
     "output_type": "execute_result"
    }
   ],
   "source": [
    "bank_test_norm[0:5]"
   ]
  },
  {
   "cell_type": "code",
   "execution_count": 14,
   "metadata": {},
   "outputs": [],
   "source": [
    "###scikit-learn's KNN classifier\n",
    "from sklearn import neighbors, tree, naive_bayes"
   ]
  },
  {
   "cell_type": "code",
   "execution_count": 15,
   "metadata": {},
   "outputs": [
    {
     "data": {
      "text/plain": [
       "KNeighborsClassifier(algorithm='auto', leaf_size=30, metric='minkowski',\n",
       "           metric_params=None, n_jobs=1, n_neighbors=5, p=2,\n",
       "           weights='uniform')"
      ]
     },
     "execution_count": 15,
     "metadata": {},
     "output_type": "execute_result"
    }
   ],
   "source": [
    "#Training\n",
    "n_neighbors = 5\n",
    "knnclf = neighbors.KNeighborsClassifier(n_neighbors, weights='uniform')\n",
    "knnclf.fit(bank_train_norm, bank_target_train)\n",
    "#Tried to run this with 2 - 5 neighbors, and with a weight of distance and uniform"
   ]
  },
  {
   "cell_type": "code",
   "execution_count": 16,
   "metadata": {},
   "outputs": [
    {
     "name": "stdout",
     "output_type": "stream",
     "text": [
      "['YES' 'YES' 'YES' 'NO' 'YES' 'YES' 'YES' 'NO' 'NO' 'YES' 'NO' 'YES' 'NO' 'NO' 'NO' 'NO' 'YES' 'NO'\n",
      " 'YES' 'NO' 'NO' 'YES' 'NO' 'NO' 'YES' 'NO' 'YES' 'YES' 'YES' 'YES' 'NO' 'NO' 'NO' 'YES' 'NO' 'YES'\n",
      " 'NO' 'YES' 'NO' 'YES' 'NO' 'NO' 'YES' 'NO' 'YES' 'NO' 'YES' 'NO' 'NO' 'YES' 'YES' 'YES' 'YES' 'NO'\n",
      " 'YES' 'YES' 'YES' 'NO' 'NO' 'NO' 'NO' 'NO' 'YES' 'YES' 'NO' 'NO' 'NO' 'NO' 'NO' 'YES' 'YES' 'YES'\n",
      " 'YES' 'NO' 'NO' 'NO' 'NO' 'YES' 'YES' 'NO' 'YES' 'YES' 'YES' 'YES' 'NO' 'YES' 'YES' 'YES' 'NO'\n",
      " 'YES' 'NO' 'NO' 'NO' 'NO' 'NO' 'NO' 'NO' 'NO' 'NO' 'NO' 'NO' 'NO' 'NO' 'YES' 'NO' 'NO' 'NO' 'NO'\n",
      " 'YES' 'NO' 'YES' 'NO' 'NO' 'YES' 'NO' 'NO' 'NO' 'NO' 'NO' 'NO']\n"
     ]
    }
   ],
   "source": [
    "#Testing\n",
    "knnpreds_test = knnclf.predict(bank_test_norm)\n",
    "print (knnpreds_test)"
   ]
  },
  {
   "cell_type": "code",
   "execution_count": 17,
   "metadata": {},
   "outputs": [],
   "source": [
    "###the confusion matrix, classification report, and the average accuracy score\n",
    "from sklearn.metrics import classification_report, confusion_matrix\n",
    "\n",
    "#Classification report\n",
    "knnClfReport = classification_report(bank_target_test, knnpreds_test)\n",
    "#Confusion matrix\n",
    "knnCm = (confusion_matrix(bank_target_test, knnpreds_test))\n",
    "#The average accuracy score\n",
    "knnTestScore = knnclf.score(bank_test_norm, bank_target_test)\n",
    "knnTrainScore = knnclf.score(bank_train_norm, bank_target_train)"
   ]
  },
  {
   "cell_type": "code",
   "execution_count": 18,
   "metadata": {},
   "outputs": [
    {
     "name": "stdout",
     "output_type": "stream",
     "text": [
      "             precision    recall  f1-score   support\n",
      "\n",
      "         NO       0.69      0.73      0.71        66\n",
      "        YES       0.64      0.59      0.62        54\n",
      "\n",
      "avg / total       0.67      0.67      0.67       120\n",
      "\n"
     ]
    }
   ],
   "source": [
    "print(knnClfReport)"
   ]
  },
  {
   "cell_type": "code",
   "execution_count": 19,
   "metadata": {},
   "outputs": [
    {
     "name": "stdout",
     "output_type": "stream",
     "text": [
      "[[48 18]\n",
      " [22 32]]\n"
     ]
    }
   ],
   "source": [
    "print(knnCm)"
   ]
  },
  {
   "cell_type": "code",
   "execution_count": 20,
   "metadata": {},
   "outputs": [
    {
     "name": "stdout",
     "output_type": "stream",
     "text": [
      "0.6666666666666666\n"
     ]
    }
   ],
   "source": [
    "print(knnTestScore)"
   ]
  },
  {
   "cell_type": "code",
   "execution_count": 21,
   "metadata": {},
   "outputs": [
    {
     "name": "stdout",
     "output_type": "stream",
     "text": [
      "0.7833333333333333\n"
     ]
    }
   ],
   "source": [
    "print(knnTrainScore)"
   ]
  },
  {
   "cell_type": "code",
   "execution_count": 22,
   "metadata": {
    "scrolled": true
   },
   "outputs": [
    {
     "data": {
      "image/png": "[encoded data removed]",
      "text/plain": [
       "<matplotlib.figure.Figure at 0x10e537810>"
      ]
     },
     "metadata": {},
     "output_type": "display_data"
    }
   ],
   "source": [
    "plt.matshow(knnCm)\n",
    "plt.title('Knn Confusion matrix')\n",
    "plt.colorbar()\n",
    "plt.ylabel('Actual')\n",
    "plt.xlabel('Predicted')\n",
    "plt.show()"
   ]
  },
  {
   "cell_type": "code",
   "execution_count": 23,
   "metadata": {
    "scrolled": false
   },
   "outputs": [
    {
     "name": "stderr",
     "output_type": "stream",
     "text": [
      "/Users/Alexkilledme/anaconda2/lib/python2.7/site-packages/matplotlib/cbook/deprecation.py:106: MatplotlibDeprecationWarning: Adding an axes using the same arguments as a previous axes currently reuses the earlier instance.  In a future version, a new instance will always be created and returned.  Meanwhile, this warning can be suppressed, and the future behavior ensured, by passing a unique label to each axes instance.\n",
      "  warnings.warn(message, mplDeprecation, stacklevel=1)\n"
     ]
    },
    {
     "data": {
      "image/png": "[encoded data removed]",
      "text/plain": [
       "<matplotlib.figure.Figure at 0x1131d2e90>"
      ]
     },
     "metadata": {},
     "output_type": "display_data"
    }
   ],
   "source": [
    "### Experiment with different values of K and the weight parameter for KNN\n",
    "\n",
    "# experiment K = 1~20 and weights = 'distance' then visulize it\n",
    "\n",
    "fig= plt.figure(figsize=(10,5))\n",
    "K= list(range(1,21))\n",
    "\n",
    "for i in range(1,21):\n",
    "        \n",
    "        #Knn wiht weights='distance'\n",
    "        knnclf = neighbors.KNeighborsClassifier(i, weights='distance')\n",
    "        knnclf.fit(bank_train_norm, bank_target_train)\n",
    "\n",
    "        accuracy = knnclf.score(bank_test_norm, bank_target_test)\n",
    "\n",
    "        ax1=fig.add_subplot(121)\n",
    "        ax1.set_title('Weight = distance')\n",
    "        ax1.set_xlabel('K')\n",
    "        ax1.set_ylabel('Accuracy')\n",
    "        plt.plot(i,accuracy,'bs')\n",
    "        plt.grid(linestyle='--')\n",
    "        plt.xticks(K)\n",
    "        \n",
    "        #Knn wiht weights='uniform'\n",
    "        knnclf = neighbors.KNeighborsClassifier(i, weights='uniform')\n",
    "        knnclf.fit(bank_train_norm, bank_target_train)\n",
    "\n",
    "        accuracy = knnclf.score(bank_test_norm, bank_target_test)\n",
    "\n",
    "        ax2=fig.add_subplot(122)\n",
    "        ax2.set_title('Weight = uniform')\n",
    "        ax2.set_xlabel('K')\n",
    "        ax2.set_ylabel('Accuracy')\n",
    "        plt.plot(i,accuracy,'ro')\n",
    "        plt.grid(linestyle='--')\n",
    "        plt.xticks(K)\n",
    "\n",
    "\n",
    "plt.show()"
   ]
  },
  {
   "cell_type": "markdown",
   "metadata": {},
   "source": [
    "After trying to use k value from 1~20, and comparing distance and uniform as weight, I found that with k=17,k=18 and Uniform as weight, I got about 0.70 testing score which was the highest in my experiments."
   ]
  },
  {
   "cell_type": "code",
   "execution_count": 24,
   "metadata": {
    "scrolled": true
   },
   "outputs": [
    {
     "name": "stdout",
     "output_type": "stream",
     "text": [
      "['NO' 'YES' 'NO' 'NO' 'NO' 'YES' 'NO' 'NO' 'NO' 'YES' 'NO' 'YES' 'NO' 'NO' 'NO' 'NO' 'YES' 'NO'\n",
      " 'YES' 'NO' 'NO' 'YES' 'NO' 'NO' 'YES' 'NO' 'YES' 'YES' 'YES' 'YES' 'NO' 'YES' 'NO' 'NO' 'NO' 'NO'\n",
      " 'NO' 'YES' 'NO' 'NO' 'YES' 'NO' 'YES' 'NO' 'YES' 'NO' 'NO' 'NO' 'NO' 'YES' 'YES' 'YES' 'YES' 'YES'\n",
      " 'YES' 'NO' 'NO' 'YES' 'YES' 'NO' 'YES' 'NO' 'YES' 'NO' 'NO' 'NO' 'NO' 'NO' 'NO' 'YES' 'NO' 'NO'\n",
      " 'NO' 'NO' 'NO' 'YES' 'NO' 'NO' 'NO' 'NO' 'NO' 'YES' 'YES' 'NO' 'NO' 'NO' 'YES' 'NO' 'NO' 'NO' 'NO'\n",
      " 'NO' 'NO' 'NO' 'NO' 'NO' 'NO' 'NO' 'NO' 'NO' 'NO' 'NO' 'YES' 'NO' 'YES' 'NO' 'NO' 'NO' 'YES' 'NO'\n",
      " 'YES' 'NO' 'NO' 'YES' 'NO' 'NO' 'YES' 'NO' 'NO' 'NO']\n",
      "0.7 0.7083333333333334\n"
     ]
    }
   ],
   "source": [
    "### Checking if there is an overfitting in the model for k=17 and k=18\n",
    "#Training\n",
    "n_neighbors = 18\n",
    "knnclf = neighbors.KNeighborsClassifier(n_neighbors, weights='uniform')\n",
    "knnclf.fit(bank_train_norm, bank_target_train)\n",
    "#Tried to run this with 2 - 5 neighbors, and with a weight of distance and uniform\n",
    "\n",
    "#Testing\n",
    "knnpreds_test = knnclf.predict(bank_test_norm)\n",
    "print (knnpreds_test)\n",
    "\n",
    "###the confusion matrix, classification report, and the average accuracy score\n",
    "from sklearn.metrics import classification_report, confusion_matrix\n",
    "\n",
    "#Classification report\n",
    "knnClfReport = classification_report(bank_target_test, knnpreds_test)\n",
    "#Confusion matrix\n",
    "knnCm = (confusion_matrix(bank_target_test, knnpreds_test))\n",
    "#The average accuracy score\n",
    "knnTestScore = knnclf.score(bank_test_norm, bank_target_test)\n",
    "knnTrainScore = knnclf.score(bank_train_norm, bank_target_train)\n",
    "\n",
    "print(knnTestScore),(knnTrainScore)"
   ]
  },
  {
   "cell_type": "markdown",
   "metadata": {},
   "source": [
    "After trying k=17 and k=18 for test and train scores, we found that there is no overfitting since test and train scores are almost the same."
   ]
  },
  {
   "cell_type": "markdown",
   "metadata": {},
   "source": [
    "### c.Repeat the classification using scikit-learn's decision tree classifier (using the default parameters) and the Naive Bayes (Gaussian) classifier. "
   ]
  },
  {
   "cell_type": "code",
   "execution_count": 25,
   "metadata": {},
   "outputs": [],
   "source": [
    "### scikit-learn's decision tree classifier"
   ]
  },
  {
   "cell_type": "code",
   "execution_count": 26,
   "metadata": {},
   "outputs": [],
   "source": [
    "from sklearn import tree"
   ]
  },
  {
   "cell_type": "code",
   "execution_count": 27,
   "metadata": {
    "scrolled": true
   },
   "outputs": [
    {
     "name": "stdout",
     "output_type": "stream",
     "text": [
      "['NO' 'YES' 'NO' 'YES' 'YES' 'YES' 'YES' 'YES' 'YES' 'NO' 'NO' 'YES' 'NO' 'NO' 'NO' 'NO' 'NO' 'NO'\n",
      " 'YES' 'NO' 'YES' 'NO' 'NO' 'NO' 'YES' 'NO' 'YES' 'YES' 'NO' 'YES' 'NO' 'NO' 'NO' 'YES' 'NO' 'YES'\n",
      " 'NO' 'YES' 'NO' 'YES' 'YES' 'NO' 'NO' 'NO' 'YES' 'NO' 'NO' 'YES' 'NO' 'YES' 'YES' 'YES' 'YES'\n",
      " 'YES' 'NO' 'YES' 'YES' 'YES' 'NO' 'NO' 'YES' 'NO' 'YES' 'YES' 'YES' 'YES' 'NO' 'NO' 'YES' 'YES'\n",
      " 'YES' 'NO' 'NO' 'YES' 'NO' 'NO' 'NO' 'NO' 'YES' 'NO' 'NO' 'YES' 'YES' 'NO' 'NO' 'YES' 'NO' 'NO'\n",
      " 'YES' 'YES' 'NO' 'NO' 'NO' 'NO' 'YES' 'NO' 'NO' 'NO' 'NO' 'NO' 'NO' 'NO' 'YES' 'YES' 'NO' 'YES'\n",
      " 'NO' 'NO' 'YES' 'NO' 'YES' 'NO' 'NO' 'NO' 'NO' 'NO' 'NO' 'NO' 'NO' 'NO']\n"
     ]
    }
   ],
   "source": [
    "treeclf = tree.DecisionTreeClassifier()\n",
    "treeclf = treeclf.fit(bank_train, bank_target_train)\n",
    "treepreds_test = treeclf.predict(bank_test)\n",
    "print (treepreds_test)"
   ]
  },
  {
   "cell_type": "code",
   "execution_count": 28,
   "metadata": {},
   "outputs": [],
   "source": [
    "#report\n",
    "treeClfReport = classification_report(bank_target_test, treepreds_test)\n",
    "\n",
    "#matrix\n",
    "treeCm = confusion_matrix(bank_target_test, treepreds_test)\n",
    "\n",
    "#Accuracy\n",
    "treeTestScore = treeclf.score(bank_test_norm, bank_target_test)\n",
    "treeTrainScore = treeclf.score(bank_train_norm, bank_target_train)"
   ]
  },
  {
   "cell_type": "code",
   "execution_count": 29,
   "metadata": {
    "scrolled": true
   },
   "outputs": [
    {
     "name": "stdout",
     "output_type": "stream",
     "text": [
      "             precision    recall  f1-score   support\n",
      "\n",
      "         NO       0.81      0.86      0.84        66\n",
      "        YES       0.82      0.76      0.79        54\n",
      "\n",
      "avg / total       0.82      0.82      0.82       120\n",
      "\n"
     ]
    }
   ],
   "source": [
    "print(treeClfReport)"
   ]
  },
  {
   "cell_type": "code",
   "execution_count": 30,
   "metadata": {},
   "outputs": [
    {
     "name": "stdout",
     "output_type": "stream",
     "text": [
      "[[57  9]\n",
      " [13 41]]\n"
     ]
    }
   ],
   "source": [
    "print(treeCm)"
   ]
  },
  {
   "cell_type": "code",
   "execution_count": 31,
   "metadata": {
    "scrolled": true
   },
   "outputs": [
    {
     "name": "stdout",
     "output_type": "stream",
     "text": [
      "0.625 0.68125\n"
     ]
    }
   ],
   "source": [
    "print(treeTestScore),(treeTrainScore)"
   ]
  },
  {
   "cell_type": "code",
   "execution_count": 32,
   "metadata": {},
   "outputs": [
    {
     "data": {
      "image/png": "[encoded data removed]",
      "text/plain": [
       "<matplotlib.figure.Figure at 0x10e55bb50>"
      ]
     },
     "metadata": {},
     "output_type": "display_data"
    }
   ],
   "source": [
    "# confusion matrix\n",
    "plt.matshow(treeCm)\n",
    "plt.title('Confusion matrix')\n",
    "plt.colorbar()\n",
    "plt.ylabel('Actual')\n",
    "plt.xlabel('Predicted')\n",
    "plt.grid(False)\n",
    "plt.show()"
   ]
  },
  {
   "cell_type": "code",
   "execution_count": 33,
   "metadata": {},
   "outputs": [
    {
     "name": "stdout",
     "output_type": "stream",
     "text": [
      "['NO' 'YES' 'NO' 'YES' 'YES' 'NO' 'NO' 'NO' 'NO' 'YES' 'NO' 'YES' 'NO' 'NO' 'NO' 'NO' 'YES' 'NO'\n",
      " 'YES' 'NO' 'YES' 'YES' 'NO' 'NO' 'NO' 'NO' 'YES' 'YES' 'NO' 'YES' 'YES' 'NO' 'NO' 'NO' 'NO' 'NO'\n",
      " 'YES' 'YES' 'NO' 'NO' 'NO' 'NO' 'YES' 'NO' 'YES' 'NO' 'NO' 'NO' 'NO' 'NO' 'YES' 'YES' 'NO' 'NO'\n",
      " 'YES' 'YES' 'YES' 'NO' 'NO' 'NO' 'YES' 'NO' 'YES' 'NO' 'NO' 'NO' 'NO' 'NO' 'NO' 'YES' 'NO' 'NO'\n",
      " 'NO' 'NO' 'NO' 'NO' 'NO' 'YES' 'YES' 'NO' 'NO' 'YES' 'NO' 'NO' 'YES' 'NO' 'NO' 'NO' 'YES' 'NO'\n",
      " 'NO' 'YES' 'NO' 'NO' 'YES' 'NO' 'NO' 'YES' 'NO' 'NO' 'NO' 'YES' 'NO' 'YES' 'NO' 'NO' 'YES' 'NO'\n",
      " 'YES' 'NO' 'NO' 'NO' 'YES' 'YES' 'NO' 'NO' 'NO' 'NO' 'NO' 'NO']\n"
     ]
    }
   ],
   "source": [
    "### scikit-learn's Naive Bayes (Gaussian) classifier\n",
    "from sklearn import naive_bayes\n",
    "\n",
    "nbclf = naive_bayes.GaussianNB()\n",
    "nbclf = nbclf.fit(bank_train, bank_target_train)\n",
    "nbpreds_test = nbclf.predict(bank_test)\n",
    "print (nbpreds_test)"
   ]
  },
  {
   "cell_type": "code",
   "execution_count": 34,
   "metadata": {},
   "outputs": [],
   "source": [
    "#report\n",
    "nbClfReport = classification_report(bank_target_test, nbpreds_test)\n",
    "\n",
    "#matrix\n",
    "nbCm = confusion_matrix(bank_target_test, nbpreds_test)\n",
    "\n",
    "#accuracy\n",
    "nbTestScore = nbclf.score(bank_test_norm, bank_target_test)\n",
    "nbTrainScore = nbclf.score(bank_train_norm, bank_target_train)"
   ]
  },
  {
   "cell_type": "code",
   "execution_count": 35,
   "metadata": {},
   "outputs": [
    {
     "name": "stdout",
     "output_type": "stream",
     "text": [
      "             precision    recall  f1-score   support\n",
      "\n",
      "         NO       0.60      0.74      0.67        66\n",
      "        YES       0.56      0.41      0.47        54\n",
      "\n",
      "avg / total       0.59      0.59      0.58       120\n",
      "\n"
     ]
    }
   ],
   "source": [
    "print(nbClfReport)"
   ]
  },
  {
   "cell_type": "code",
   "execution_count": 36,
   "metadata": {},
   "outputs": [
    {
     "name": "stdout",
     "output_type": "stream",
     "text": [
      "[[49 17]\n",
      " [32 22]]\n"
     ]
    }
   ],
   "source": [
    "print(nbCm)"
   ]
  },
  {
   "cell_type": "code",
   "execution_count": 37,
   "metadata": {},
   "outputs": [
    {
     "name": "stdout",
     "output_type": "stream",
     "text": [
      "0.55\n"
     ]
    }
   ],
   "source": [
    "print(nbTestScore)"
   ]
  },
  {
   "cell_type": "code",
   "execution_count": 38,
   "metadata": {},
   "outputs": [
    {
     "name": "stdout",
     "output_type": "stream",
     "text": [
      "0.5375\n"
     ]
    }
   ],
   "source": [
    "print(nbTrainScore)"
   ]
  },
  {
   "cell_type": "code",
   "execution_count": 39,
   "metadata": {},
   "outputs": [
    {
     "data": {
      "image/png": "[encoded data removed]",
      "text/plain": [
       "<matplotlib.figure.Figure at 0x1130e3550>"
      ]
     },
     "metadata": {},
     "output_type": "display_data"
    }
   ],
   "source": [
    "#Confusion matrix\n",
    "plt.matshow(nbCm)\n",
    "plt.title('Confusion matrix')\n",
    "plt.colorbar()\n",
    "plt.ylabel('Actual')\n",
    "plt.xlabel('Predicted')\n",
    "plt.grid(False)\n",
    "plt.show()"
   ]
  },
  {
   "cell_type": "markdown",
   "metadata": {},
   "source": [
    "### d. Discuss your observations based on the above experiments."
   ]
  },
  {
   "cell_type": "markdown",
   "metadata": {},
   "source": [
    "After comparison, we can see that KNN has the highest accuracy which means it is the best classifier.  \n",
    "For decision tree, we can see that train score is little higher than test score which means the model has little overfitting. \n",
    "For Naive Bayes classifier, we can see that there are lowest accuracies rate for both training and testing which means the model is too simple to explain variance and need to be complicated.\n",
    "For KNN, we found that different weight method and k values affect accuracies of training data and testing data, through adjust these two parameter we can aviod overfitting or underfitting problems(like what we did before.)"
   ]
  }
 ],
 "metadata": {
  "kernelspec": {
   "display_name": "Python 2",
   "language": "python",
   "name": "python2"
  },
  "language_info": {
   "codemirror_mode": {
    "name": "ipython",
    "version": 2
   },
   "file_extension": ".py",
   "mimetype": "text/x-python",
   "name": "python",
   "nbconvert_exporter": "python",
   "pygments_lexer": "ipython2",
   "version": "2.7.14"
  }
 },
 "nbformat": 4,
 "nbformat_minor": 2
}
