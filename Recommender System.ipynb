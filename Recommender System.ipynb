{
 "cells": [
  {
   "cell_type": "markdown",
   "metadata": {},
   "source": [
    "## Item-Based Joke Recommendation"
   ]
  },
  {
   "cell_type": "code",
   "execution_count": 1,
   "metadata": {},
   "outputs": [],
   "source": [
    "### Note: functions in 2b and 2c are all written in itemBasedRec.py"
   ]
  },
  {
   "cell_type": "markdown",
   "metadata": {},
   "source": [
    "### a. Load in the joke ratings data and the joke text data into appropriate data structures."
   ]
  },
  {
   "cell_type": "code",
   "execution_count": 2,
   "metadata": {},
   "outputs": [],
   "source": [
    "import numpy as np\n",
    "import pandas as pd"
   ]
  },
  {
   "cell_type": "code",
   "execution_count": 3,
   "metadata": {},
   "outputs": [
    {
     "name": "stdout",
     "output_type": "stream",
     "text": [
      "(1000, 100)\n",
      "(100, 2)\n"
     ]
    }
   ],
   "source": [
    "#input data\n",
    "jokes=pd.read_csv('/Users/Alexkilledme/Desktop/2018SQ/CSC478 - Machine Learning/hw/hw4/jokes/jokes.csv',header=None)\n",
    "jokes_df=pd.read_csv('/Users/Alexkilledme/Desktop/2018SQ/CSC478 - Machine Learning/hw/hw4/jokes/modified_jester_data.csv',header=None)\n",
    "print(jokes_df.shape)\n",
    "print(jokes.shape)"
   ]
  },
  {
   "cell_type": "code",
   "execution_count": 4,
   "metadata": {},
   "outputs": [
    {
     "data": {
      "text/html": [
       "<div>\n",
       "<style scoped>\n",
       "    .dataframe tbody tr th:only-of-type {\n",
       "        vertical-align: middle;\n",
       "    }\n",
       "\n",
       "    .dataframe tbody tr th {\n",
       "        vertical-align: top;\n",
       "    }\n",
       "\n",
       "    .dataframe thead th {\n",
       "        text-align: right;\n",
       "    }\n",
       "</style>\n",
       "<table border=\"1\" class=\"dataframe\">\n",
       "  <thead>\n",
       "    <tr style=\"text-align: right;\">\n",
       "      <th></th>\n",
       "      <th>0</th>\n",
       "      <th>1</th>\n",
       "    </tr>\n",
       "  </thead>\n",
       "  <tbody>\n",
       "    <tr>\n",
       "      <th>0</th>\n",
       "      <td>0</td>\n",
       "      <td>A man visits the doctor. The doctor says \"I ha...</td>\n",
       "    </tr>\n",
       "    <tr>\n",
       "      <th>1</th>\n",
       "      <td>1</td>\n",
       "      <td>This couple had an excellent relationship goin...</td>\n",
       "    </tr>\n",
       "    <tr>\n",
       "      <th>2</th>\n",
       "      <td>2</td>\n",
       "      <td>Q. What's 200 feet long and has 4 teeth? A. Th...</td>\n",
       "    </tr>\n",
       "    <tr>\n",
       "      <th>3</th>\n",
       "      <td>3</td>\n",
       "      <td>Q. What's the difference between a man and a t...</td>\n",
       "    </tr>\n",
       "    <tr>\n",
       "      <th>4</th>\n",
       "      <td>4</td>\n",
       "      <td>Q. What's O. J. Simpson's Internet address? A....</td>\n",
       "    </tr>\n",
       "  </tbody>\n",
       "</table>\n",
       "</div>"
      ],
      "text/plain": [
       "   0                                                  1\n",
       "0  0  A man visits the doctor. The doctor says \"I ha...\n",
       "1  1  This couple had an excellent relationship goin...\n",
       "2  2  Q. What's 200 feet long and has 4 teeth? A. Th...\n",
       "3  3  Q. What's the difference between a man and a t...\n",
       "4  4  Q. What's O. J. Simpson's Internet address? A...."
      ]
     },
     "execution_count": 4,
     "metadata": {},
     "output_type": "execute_result"
    }
   ],
   "source": [
    "jokes.head()"
   ]
  },
  {
   "cell_type": "code",
   "execution_count": 5,
   "metadata": {},
   "outputs": [
    {
     "name": "stdout",
     "output_type": "stream",
     "text": [
      "<type 'numpy.ndarray'>\n"
     ]
    },
    {
     "data": {
      "text/plain": [
       "array([[ 3.18, 19.79,  1.34, ...,  0.  ,  0.  ,  0.  ],\n",
       "       [15.08, 10.71, 17.36, ..., 11.34,  6.68, 12.07],\n",
       "       [ 0.  ,  0.  ,  0.  , ...,  0.  ,  0.  ,  0.  ],\n",
       "       ...,\n",
       "       [16.58, 16.63, 15.85, ...,  0.  ,  0.  ,  0.  ],\n",
       "       [ 3.67,  4.45,  3.67, ...,  3.77,  3.77,  3.28],\n",
       "       [ 9.88, 11.73,  9.16, ...,  0.  ,  0.  ,  0.  ]])"
      ]
     },
     "execution_count": 5,
     "metadata": {},
     "output_type": "execute_result"
    }
   ],
   "source": [
    "#transform to numpy array\n",
    "dataMat=np.array(jokes_df)\n",
    "print(type(dataMat))\n",
    "dataMat"
   ]
  },
  {
   "cell_type": "markdown",
   "metadata": {},
   "source": [
    "### b. Complete the definition for the function \"test\". This function iterates over all users and for each performs evaluation (by calling the provided \"cross_validate_user\" function), and returns the error information necessary to compute Mean Absolute Error (MAE). Use this function to perform evaluation (wiht 20% test-ratio for each user) comparing MAE results using standard item-based collaborative filtering (based on the rating prediction function \"standEst\") with results using the SVD-based version of the rating item-based CF (using \"svdEst\" as the prediction engine). "
   ]
  },
  {
   "cell_type": "code",
   "execution_count": 6,
   "metadata": {},
   "outputs": [
    {
     "data": {
      "text/plain": [
       "u'/Users/Alexkilledme/Desktop/2018SQ/CSC478 - Machine Learning/hw/hw4'"
      ]
     },
     "execution_count": 6,
     "metadata": {},
     "output_type": "execute_result"
    }
   ],
   "source": [
    "pwd"
   ]
  },
  {
   "cell_type": "code",
   "execution_count": 7,
   "metadata": {},
   "outputs": [],
   "source": [
    "import itemBasedRec_2 as itemBR"
   ]
  },
  {
   "cell_type": "code",
   "execution_count": 8,
   "metadata": {},
   "outputs": [
    {
     "data": {
      "text/plain": [
       "<module 'itemBasedRec_2' from 'itemBasedRec_2.pyc'>"
      ]
     },
     "execution_count": 8,
     "metadata": {},
     "output_type": "execute_result"
    }
   ],
   "source": [
    "reload(itemBR)"
   ]
  },
  {
   "cell_type": "code",
   "execution_count": 9,
   "metadata": {},
   "outputs": [],
   "source": [
    "#def test(dataMat, test_ratio, Method):\n",
    "#\terror = 0\n",
    "#\tcount = 0\n",
    "#\tfor i in range(np.shape(dataMat)[0]):\n",
    "#\t\tif Method == \"svdEst\":\n",
    "#\t\t\terr, ct = cross_validate_user(dataMat, i, test_ratio, estMethod=svdEst)\n",
    "#\t\tif Method == \"standEst\":\n",
    "#\t\t\terr, ct = cross_validate_user(dataMat, i, test_ratio, estMethod=standEst)\n",
    "#\t\terror += err\n",
    "#\t\tcount += ct\n",
    "#\tMAE = error/count\n",
    "#\tprint 'Mean Absoloute Error for', Method, ':', MAE"
   ]
  },
  {
   "cell_type": "code",
   "execution_count": 10,
   "metadata": {
    "scrolled": false
   },
   "outputs": [
    {
     "name": "stdout",
     "output_type": "stream",
     "text": [
      "Mean Absoloute Error for  standEst  :  3.7242415684995684\n"
     ]
    }
   ],
   "source": [
    "#Call the 'test' function to calculate the overall MAE over 20% of users with the 'standEst' Method\n",
    "itemBR.test(dataMat, 0.2, 'standEst')"
   ]
  },
  {
   "cell_type": "code",
   "execution_count": 11,
   "metadata": {},
   "outputs": [
    {
     "name": "stdout",
     "output_type": "stream",
     "text": [
      "Mean Absoloute Error for  svdEst  :  3.662677251157091\n"
     ]
    }
   ],
   "source": [
    "#Call the 'test' function to calculate the overall MAE over 20% of users with the 'svdEst' Method\n",
    "itemBR.test(dataMat, 0.2, \"svdEst\")"
   ]
  },
  {
   "cell_type": "markdown",
   "metadata": {},
   "source": [
    "### c. Write a new function \"print_most_similar_jokes\" which takes the joke ratings data, a query joke id, a parameter k for the number of nearest neighbors, and a similarity metric function, and prints the text of the query joke as well as the texts of the top k most similar jokes based on user ratings."
   ]
  },
  {
   "cell_type": "code",
   "execution_count": 12,
   "metadata": {},
   "outputs": [],
   "source": [
    "# def print_most_similar_jokes(dataMat, jokes, queryJoke, k, metric=pearsSim):\n",
    "#\timport collections\n",
    "#\tquery_joke_rating = dataMat.T[queryJoke]\n",
    "#\tsim = {}\n",
    "#\tindex = 0\n",
    "#\tfor i in dataMat.T:\n",
    "#\t\tsimilarity = metric(query_joke_rating, i)\n",
    "#\t\tif similarity == 1:\n",
    "#\t\t\tsimilarity = 0 # ignore itself\n",
    "#\t\tsim[index] = similarity\n",
    "#\t\tindex += 1\n",
    "#\tsorted_sim = collections.Counter(sim) \n",
    "#\tprint 'Selected joke:'\n",
    "#\tprint '%s' % jokes[queryJoke], '\\n'\n",
    "#\tprint 'Top', k, 'Recommended jokes are:', '\\n'\n",
    "#\tfor key, value in sorted_sim.most_common(k):\n",
    "#\t\tprint '%s' % jokes[key], '\\n', '-----------------'"
   ]
  },
  {
   "cell_type": "code",
   "execution_count": 13,
   "metadata": {
    "scrolled": true
   },
   "outputs": [
    {
     "name": "stdout",
     "output_type": "stream",
     "text": [
      "Input Query Joke\n",
      "\n",
      "Q. What's the difference between a man and a toilet? A. A toilet doesn't follow you around after you use it.\n",
      "\n",
      "Top 5 Recommended jokes are :\n",
      "\n",
      "Q. What's the difference between a man and a toilet? A. A toilet doesn't follow you around after you use it.\n",
      "What do you get when you run over a parakeet with a lawnmower? Shredded tweet.\n",
      "A country guy goes into a city bar that has a dress code and the maitred' demands he wear a tie. Discouraged the guy goes to his car to sulk when inspiration strikes: He's got jumper cables in the trunk! So he wraps them around his neck sort of like a string tie (a bulky string tie to be sure) and returns to the bar. The maitre d' is reluctant but says to the guy \"Okay you're a pretty resourceful fellow you can come in... but just don't start anything\"!  \n",
      "Q. What's 200 feet long and has 4 teeth? A. The front row at a Willie Nelson Concert.\n",
      "What do you call an American in the finals of the world cup?\"Hey Beer Man!\"\n"
     ]
    }
   ],
   "source": [
    "itemBR.print_most_similar_jokes(dataMat, jokes, 3, 5, itemBR.pearsSim)"
   ]
  }
 ],
 "metadata": {
  "kernelspec": {
   "display_name": "Python 2",
   "language": "python",
   "name": "python2"
  },
  "language_info": {
   "codemirror_mode": {
    "name": "ipython",
    "version": 2
   },
   "file_extension": ".py",
   "mimetype": "text/x-python",
   "name": "python",
   "nbconvert_exporter": "python",
   "pygments_lexer": "ipython2",
   "version": "2.7.14"
  }
 },
 "nbformat": 4,
 "nbformat_minor": 2
}
