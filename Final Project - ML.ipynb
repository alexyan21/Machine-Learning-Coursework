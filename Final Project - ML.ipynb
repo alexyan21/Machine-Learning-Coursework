{
 "cells": [
  {
   "cell_type": "markdown",
   "metadata": {},
   "source": [
    "<font color='blue'> <p> __Project goals__: Using the prospect data, create different models and choose the best one to predict the likelihood a prospect will convert into residents</p > \n",
    "<p> __Methods used__: decision tree, navie bayes, random forest, logistic regression, LDA, PCA, clustering and cross validation </p >\n",
    "<p>__Conclusions__: The best model is Decision Tree (criterion = 'entropy', max_depth = 7, min_samples_leaf = 2, min_samples_split = 20) with 49 features. The accuracy of cross validation is 0.91, and the fl score of predicting a prospect will convert into residents is 0.80</p >\n"
   ]
  },
  {
   "cell_type": "code",
   "execution_count": 1,
   "metadata": {
    "collapsed": true
   },
   "outputs": [],
   "source": [
    "import numpy as np\n",
    "import pandas as pd\n",
    "import matplotlib.pyplot as plt\n",
    "%matplotlib inline\n",
    "import math"
   ]
  },
  {
   "cell_type": "code",
   "execution_count": 2,
   "metadata": {
    "collapsed": true
   },
   "outputs": [],
   "source": [
    "df1 = pd.read_csv('Senior_Lifestyle_Data-DataSet1.txt', delimiter=\" \")\n",
    "df2 = pd.read_csv('Senior_Lifestyle_Data-DataSet2.txt', delimiter=\" \")\n",
    "df3 = pd.read_csv('Senior_Lifestyle_Data-DataSet3.txt', delimiter=\" \")\n",
    "df4 = pd.read_csv('Senior_Lifestyle_Data-DataSet4.txt', delimiter=\" \")"
   ]
  },
  {
   "cell_type": "code",
   "execution_count": 13,
   "metadata": {},
   "outputs": [
    {
     "data": {
      "text/plain": [
       "(178478, 24)"
      ]
     },
     "execution_count": 13,
     "metadata": {},
     "output_type": "execute_result"
    }
   ],
   "source": [
    "df1.shape"
   ]
  },
  {
   "cell_type": "code",
   "execution_count": 11,
   "metadata": {},
   "outputs": [
    {
     "data": {
      "text/html": [
       "<div>\n",
       "<style>\n",
       "    .dataframe thead tr:only-child th {\n",
       "        text-align: right;\n",
       "    }\n",
       "\n",
       "    .dataframe thead th {\n",
       "        text-align: left;\n",
       "    }\n",
       "\n",
       "    .dataframe tbody tr th {\n",
       "        vertical-align: top;\n",
       "    }\n",
       "</style>\n",
       "<table border=\"1\" class=\"dataframe\">\n",
       "  <thead>\n",
       "    <tr style=\"text-align: right;\">\n",
       "      <th></th>\n",
       "      <th>count</th>\n",
       "      <th>unique</th>\n",
       "      <th>top</th>\n",
       "      <th>freq</th>\n",
       "      <th>mean</th>\n",
       "      <th>std</th>\n",
       "      <th>min</th>\n",
       "      <th>25%</th>\n",
       "      <th>50%</th>\n",
       "      <th>75%</th>\n",
       "      <th>max</th>\n",
       "    </tr>\n",
       "  </thead>\n",
       "  <tbody>\n",
       "    <tr>\n",
       "      <th>CommunityCode</th>\n",
       "      <td>164549</td>\n",
       "      <td>NaN</td>\n",
       "      <td>NaN</td>\n",
       "      <td>NaN</td>\n",
       "      <td>594.088</td>\n",
       "      <td>180.166</td>\n",
       "      <td>272</td>\n",
       "      <td>458</td>\n",
       "      <td>503</td>\n",
       "      <td>740</td>\n",
       "      <td>899</td>\n",
       "    </tr>\n",
       "    <tr>\n",
       "      <th>CommunityZipCode</th>\n",
       "      <td>164549</td>\n",
       "      <td>NaN</td>\n",
       "      <td>NaN</td>\n",
       "      <td>NaN</td>\n",
       "      <td>50576.7</td>\n",
       "      <td>24091.1</td>\n",
       "      <td>6413</td>\n",
       "      <td>33021</td>\n",
       "      <td>53129</td>\n",
       "      <td>73135</td>\n",
       "      <td>99324</td>\n",
       "    </tr>\n",
       "    <tr>\n",
       "      <th>ProspectID</th>\n",
       "      <td>178478</td>\n",
       "      <td>178478</td>\n",
       "      <td>6216568d-6c37-e811-8113-e0071b6a8141</td>\n",
       "      <td>1</td>\n",
       "      <td>NaN</td>\n",
       "      <td>NaN</td>\n",
       "      <td>NaN</td>\n",
       "      <td>NaN</td>\n",
       "      <td>NaN</td>\n",
       "      <td>NaN</td>\n",
       "      <td>NaN</td>\n",
       "    </tr>\n",
       "    <tr>\n",
       "      <th>AgeatInquiry</th>\n",
       "      <td>101838</td>\n",
       "      <td>NaN</td>\n",
       "      <td>NaN</td>\n",
       "      <td>NaN</td>\n",
       "      <td>81.5732</td>\n",
       "      <td>9.64054</td>\n",
       "      <td>-31</td>\n",
       "      <td>76</td>\n",
       "      <td>83</td>\n",
       "      <td>88</td>\n",
       "      <td>185</td>\n",
       "    </tr>\n",
       "    <tr>\n",
       "      <th>CareLevel</th>\n",
       "      <td>169672</td>\n",
       "      <td>5</td>\n",
       "      <td>A</td>\n",
       "      <td>72305</td>\n",
       "      <td>NaN</td>\n",
       "      <td>NaN</td>\n",
       "      <td>NaN</td>\n",
       "      <td>NaN</td>\n",
       "      <td>NaN</td>\n",
       "      <td>NaN</td>\n",
       "      <td>NaN</td>\n",
       "    </tr>\n",
       "    <tr>\n",
       "      <th>Gender</th>\n",
       "      <td>174805</td>\n",
       "      <td>2</td>\n",
       "      <td>Female</td>\n",
       "      <td>112344</td>\n",
       "      <td>NaN</td>\n",
       "      <td>NaN</td>\n",
       "      <td>NaN</td>\n",
       "      <td>NaN</td>\n",
       "      <td>NaN</td>\n",
       "      <td>NaN</td>\n",
       "      <td>NaN</td>\n",
       "    </tr>\n",
       "    <tr>\n",
       "      <th>Marital</th>\n",
       "      <td>17023</td>\n",
       "      <td>4</td>\n",
       "      <td>Married</td>\n",
       "      <td>8310</td>\n",
       "      <td>NaN</td>\n",
       "      <td>NaN</td>\n",
       "      <td>NaN</td>\n",
       "      <td>NaN</td>\n",
       "      <td>NaN</td>\n",
       "      <td>NaN</td>\n",
       "      <td>NaN</td>\n",
       "    </tr>\n",
       "    <tr>\n",
       "      <th>Veteran</th>\n",
       "      <td>178478</td>\n",
       "      <td>2</td>\n",
       "      <td>False</td>\n",
       "      <td>101307</td>\n",
       "      <td>NaN</td>\n",
       "      <td>NaN</td>\n",
       "      <td>NaN</td>\n",
       "      <td>NaN</td>\n",
       "      <td>NaN</td>\n",
       "      <td>NaN</td>\n",
       "      <td>NaN</td>\n",
       "    </tr>\n",
       "    <tr>\n",
       "      <th>CurrentResidence</th>\n",
       "      <td>36868</td>\n",
       "      <td>4</td>\n",
       "      <td>Living at Home</td>\n",
       "      <td>24875</td>\n",
       "      <td>NaN</td>\n",
       "      <td>NaN</td>\n",
       "      <td>NaN</td>\n",
       "      <td>NaN</td>\n",
       "      <td>NaN</td>\n",
       "      <td>NaN</td>\n",
       "      <td>NaN</td>\n",
       "    </tr>\n",
       "    <tr>\n",
       "      <th>ZipCode</th>\n",
       "      <td>63631</td>\n",
       "      <td>NaN</td>\n",
       "      <td>NaN</td>\n",
       "      <td>NaN</td>\n",
       "      <td>51561.6</td>\n",
       "      <td>24374</td>\n",
       "      <td>1002</td>\n",
       "      <td>33028</td>\n",
       "      <td>53129</td>\n",
       "      <td>76502</td>\n",
       "      <td>99801</td>\n",
       "    </tr>\n",
       "    <tr>\n",
       "      <th>UnitPreference</th>\n",
       "      <td>6122</td>\n",
       "      <td>6</td>\n",
       "      <td>1 Bed</td>\n",
       "      <td>3096</td>\n",
       "      <td>NaN</td>\n",
       "      <td>NaN</td>\n",
       "      <td>NaN</td>\n",
       "      <td>NaN</td>\n",
       "      <td>NaN</td>\n",
       "      <td>NaN</td>\n",
       "      <td>NaN</td>\n",
       "    </tr>\n",
       "    <tr>\n",
       "      <th>ProvidedEmail</th>\n",
       "      <td>178478</td>\n",
       "      <td>2</td>\n",
       "      <td>False</td>\n",
       "      <td>143998</td>\n",
       "      <td>NaN</td>\n",
       "      <td>NaN</td>\n",
       "      <td>NaN</td>\n",
       "      <td>NaN</td>\n",
       "      <td>NaN</td>\n",
       "      <td>NaN</td>\n",
       "      <td>NaN</td>\n",
       "    </tr>\n",
       "    <tr>\n",
       "      <th>ProvidedPhone</th>\n",
       "      <td>178478</td>\n",
       "      <td>2</td>\n",
       "      <td>False</td>\n",
       "      <td>139404</td>\n",
       "      <td>NaN</td>\n",
       "      <td>NaN</td>\n",
       "      <td>NaN</td>\n",
       "      <td>NaN</td>\n",
       "      <td>NaN</td>\n",
       "      <td>NaN</td>\n",
       "      <td>NaN</td>\n",
       "    </tr>\n",
       "    <tr>\n",
       "      <th>Budget</th>\n",
       "      <td>111947</td>\n",
       "      <td>6</td>\n",
       "      <td>3,000-4,000</td>\n",
       "      <td>30917</td>\n",
       "      <td>NaN</td>\n",
       "      <td>NaN</td>\n",
       "      <td>NaN</td>\n",
       "      <td>NaN</td>\n",
       "      <td>NaN</td>\n",
       "      <td>NaN</td>\n",
       "      <td>NaN</td>\n",
       "    </tr>\n",
       "    <tr>\n",
       "      <th>RequestedVisit</th>\n",
       "      <td>178478</td>\n",
       "      <td>2</td>\n",
       "      <td>False</td>\n",
       "      <td>126016</td>\n",
       "      <td>NaN</td>\n",
       "      <td>NaN</td>\n",
       "      <td>NaN</td>\n",
       "      <td>NaN</td>\n",
       "      <td>NaN</td>\n",
       "      <td>NaN</td>\n",
       "      <td>NaN</td>\n",
       "    </tr>\n",
       "    <tr>\n",
       "      <th>NoCall</th>\n",
       "      <td>178478</td>\n",
       "      <td>2</td>\n",
       "      <td>False</td>\n",
       "      <td>169107</td>\n",
       "      <td>NaN</td>\n",
       "      <td>NaN</td>\n",
       "      <td>NaN</td>\n",
       "      <td>NaN</td>\n",
       "      <td>NaN</td>\n",
       "      <td>NaN</td>\n",
       "      <td>NaN</td>\n",
       "    </tr>\n",
       "    <tr>\n",
       "      <th>NoEmail</th>\n",
       "      <td>178478</td>\n",
       "      <td>2</td>\n",
       "      <td>False</td>\n",
       "      <td>132383</td>\n",
       "      <td>NaN</td>\n",
       "      <td>NaN</td>\n",
       "      <td>NaN</td>\n",
       "      <td>NaN</td>\n",
       "      <td>NaN</td>\n",
       "      <td>NaN</td>\n",
       "      <td>NaN</td>\n",
       "    </tr>\n",
       "    <tr>\n",
       "      <th>InquiryDate</th>\n",
       "      <td>178421</td>\n",
       "      <td>128427</td>\n",
       "      <td>2014-08-12 04:00:00</td>\n",
       "      <td>103</td>\n",
       "      <td>NaN</td>\n",
       "      <td>NaN</td>\n",
       "      <td>NaN</td>\n",
       "      <td>NaN</td>\n",
       "      <td>NaN</td>\n",
       "      <td>NaN</td>\n",
       "      <td>NaN</td>\n",
       "    </tr>\n",
       "    <tr>\n",
       "      <th>ReferralCompany</th>\n",
       "      <td>178478</td>\n",
       "      <td>5</td>\n",
       "      <td>A Place for Mom</td>\n",
       "      <td>105537</td>\n",
       "      <td>NaN</td>\n",
       "      <td>NaN</td>\n",
       "      <td>NaN</td>\n",
       "      <td>NaN</td>\n",
       "      <td>NaN</td>\n",
       "      <td>NaN</td>\n",
       "      <td>NaN</td>\n",
       "    </tr>\n",
       "    <tr>\n",
       "      <th>ProjectedMoveIn</th>\n",
       "      <td>102838</td>\n",
       "      <td>68716</td>\n",
       "      <td>2016-12-01 05:00:00</td>\n",
       "      <td>1036</td>\n",
       "      <td>NaN</td>\n",
       "      <td>NaN</td>\n",
       "      <td>NaN</td>\n",
       "      <td>NaN</td>\n",
       "      <td>NaN</td>\n",
       "      <td>NaN</td>\n",
       "      <td>NaN</td>\n",
       "    </tr>\n",
       "    <tr>\n",
       "      <th>DeactDate</th>\n",
       "      <td>108253</td>\n",
       "      <td>7460</td>\n",
       "      <td>2016-02-03 06:00:00</td>\n",
       "      <td>333</td>\n",
       "      <td>NaN</td>\n",
       "      <td>NaN</td>\n",
       "      <td>NaN</td>\n",
       "      <td>NaN</td>\n",
       "      <td>NaN</td>\n",
       "      <td>NaN</td>\n",
       "      <td>NaN</td>\n",
       "    </tr>\n",
       "    <tr>\n",
       "      <th>DeactReason</th>\n",
       "      <td>106579</td>\n",
       "      <td>8</td>\n",
       "      <td>Request Removal</td>\n",
       "      <td>32769</td>\n",
       "      <td>NaN</td>\n",
       "      <td>NaN</td>\n",
       "      <td>NaN</td>\n",
       "      <td>NaN</td>\n",
       "      <td>NaN</td>\n",
       "      <td>NaN</td>\n",
       "      <td>NaN</td>\n",
       "    </tr>\n",
       "    <tr>\n",
       "      <th>NotQual</th>\n",
       "      <td>13624</td>\n",
       "      <td>5</td>\n",
       "      <td>Not Financially Qualified</td>\n",
       "      <td>7219</td>\n",
       "      <td>NaN</td>\n",
       "      <td>NaN</td>\n",
       "      <td>NaN</td>\n",
       "      <td>NaN</td>\n",
       "      <td>NaN</td>\n",
       "      <td>NaN</td>\n",
       "      <td>NaN</td>\n",
       "    </tr>\n",
       "    <tr>\n",
       "      <th>CurrentStatus</th>\n",
       "      <td>178478</td>\n",
       "      <td>4</td>\n",
       "      <td>Deactivated</td>\n",
       "      <td>108364</td>\n",
       "      <td>NaN</td>\n",
       "      <td>NaN</td>\n",
       "      <td>NaN</td>\n",
       "      <td>NaN</td>\n",
       "      <td>NaN</td>\n",
       "      <td>NaN</td>\n",
       "      <td>NaN</td>\n",
       "    </tr>\n",
       "  </tbody>\n",
       "</table>\n",
       "</div>"
      ],
      "text/plain": [
       "                   count  unique                                   top  \\\n",
       "CommunityCode     164549     NaN                                   NaN   \n",
       "CommunityZipCode  164549     NaN                                   NaN   \n",
       "ProspectID        178478  178478  6216568d-6c37-e811-8113-e0071b6a8141   \n",
       "AgeatInquiry      101838     NaN                                   NaN   \n",
       "CareLevel         169672       5                                     A   \n",
       "Gender            174805       2                                Female   \n",
       "Marital            17023       4                               Married   \n",
       "Veteran           178478       2                                 False   \n",
       "CurrentResidence   36868       4                        Living at Home   \n",
       "ZipCode            63631     NaN                                   NaN   \n",
       "UnitPreference      6122       6                                 1 Bed   \n",
       "ProvidedEmail     178478       2                                 False   \n",
       "ProvidedPhone     178478       2                                 False   \n",
       "Budget            111947       6                           3,000-4,000   \n",
       "RequestedVisit    178478       2                                 False   \n",
       "NoCall            178478       2                                 False   \n",
       "NoEmail           178478       2                                 False   \n",
       "InquiryDate       178421  128427                   2014-08-12 04:00:00   \n",
       "ReferralCompany   178478       5                       A Place for Mom   \n",
       "ProjectedMoveIn   102838   68716                   2016-12-01 05:00:00   \n",
       "DeactDate         108253    7460                   2016-02-03 06:00:00   \n",
       "DeactReason       106579       8                       Request Removal   \n",
       "NotQual            13624       5             Not Financially Qualified   \n",
       "CurrentStatus     178478       4                           Deactivated   \n",
       "\n",
       "                    freq     mean      std   min    25%    50%    75%    max  \n",
       "CommunityCode        NaN  594.088  180.166   272    458    503    740    899  \n",
       "CommunityZipCode     NaN  50576.7  24091.1  6413  33021  53129  73135  99324  \n",
       "ProspectID             1      NaN      NaN   NaN    NaN    NaN    NaN    NaN  \n",
       "AgeatInquiry         NaN  81.5732  9.64054   -31     76     83     88    185  \n",
       "CareLevel          72305      NaN      NaN   NaN    NaN    NaN    NaN    NaN  \n",
       "Gender            112344      NaN      NaN   NaN    NaN    NaN    NaN    NaN  \n",
       "Marital             8310      NaN      NaN   NaN    NaN    NaN    NaN    NaN  \n",
       "Veteran           101307      NaN      NaN   NaN    NaN    NaN    NaN    NaN  \n",
       "CurrentResidence   24875      NaN      NaN   NaN    NaN    NaN    NaN    NaN  \n",
       "ZipCode              NaN  51561.6    24374  1002  33028  53129  76502  99801  \n",
       "UnitPreference      3096      NaN      NaN   NaN    NaN    NaN    NaN    NaN  \n",
       "ProvidedEmail     143998      NaN      NaN   NaN    NaN    NaN    NaN    NaN  \n",
       "ProvidedPhone     139404      NaN      NaN   NaN    NaN    NaN    NaN    NaN  \n",
       "Budget             30917      NaN      NaN   NaN    NaN    NaN    NaN    NaN  \n",
       "RequestedVisit    126016      NaN      NaN   NaN    NaN    NaN    NaN    NaN  \n",
       "NoCall            169107      NaN      NaN   NaN    NaN    NaN    NaN    NaN  \n",
       "NoEmail           132383      NaN      NaN   NaN    NaN    NaN    NaN    NaN  \n",
       "InquiryDate          103      NaN      NaN   NaN    NaN    NaN    NaN    NaN  \n",
       "ReferralCompany   105537      NaN      NaN   NaN    NaN    NaN    NaN    NaN  \n",
       "ProjectedMoveIn     1036      NaN      NaN   NaN    NaN    NaN    NaN    NaN  \n",
       "DeactDate            333      NaN      NaN   NaN    NaN    NaN    NaN    NaN  \n",
       "DeactReason        32769      NaN      NaN   NaN    NaN    NaN    NaN    NaN  \n",
       "NotQual             7219      NaN      NaN   NaN    NaN    NaN    NaN    NaN  \n",
       "CurrentStatus     108364      NaN      NaN   NaN    NaN    NaN    NaN    NaN  "
      ]
     },
     "execution_count": 11,
     "metadata": {},
     "output_type": "execute_result"
    }
   ],
   "source": [
    "df1.describe(include='all').T"
   ]
  },
  {
   "cell_type": "markdown",
   "metadata": {},
   "source": [
    "# <font color='blue'> <p> Data Preprocessing"
   ]
  },
  {
   "cell_type": "markdown",
   "metadata": {},
   "source": [
    "<font color='blue'> Except AgeatInquiry, all of the variables are categorical variables. "
   ]
  },
  {
   "cell_type": "markdown",
   "metadata": {},
   "source": [
    "## <font color='blue'> <p> Merge dataframe df1, df2 and df3\n",
    "### <font color='blue'> <p>df2 transformation\n",
    "<font color='blue'> <p>Df2 shows the sales activities. There might be several sales activities of the company for each prospect. We want to get a dataset that can shows the number of each sales activity for every prospect. Those information could be the additional features of our model."
   ]
  },
  {
   "cell_type": "code",
   "execution_count": 3,
   "metadata": {},
   "outputs": [
    {
     "data": {
      "text/html": [
       "<div>\n",
       "<style>\n",
       "    .dataframe thead tr:only-child th {\n",
       "        text-align: right;\n",
       "    }\n",
       "\n",
       "    .dataframe thead th {\n",
       "        text-align: left;\n",
       "    }\n",
       "\n",
       "    .dataframe tbody tr th {\n",
       "        vertical-align: top;\n",
       "    }\n",
       "</style>\n",
       "<table border=\"1\" class=\"dataframe\">\n",
       "  <thead>\n",
       "    <tr style=\"text-align: right;\">\n",
       "      <th></th>\n",
       "      <th>ProspectID</th>\n",
       "      <th>Activity</th>\n",
       "      <th>dtActivity</th>\n",
       "    </tr>\n",
       "  </thead>\n",
       "  <tbody>\n",
       "    <tr>\n",
       "      <th>0</th>\n",
       "      <td>00004e5d-d6ca-e511-80ef-3863bb36cca0</td>\n",
       "      <td>Personal Letter</td>\n",
       "      <td>2016-02-09 08:00:00</td>\n",
       "    </tr>\n",
       "    <tr>\n",
       "      <th>1</th>\n",
       "      <td>00004e5d-d6ca-e511-80ef-3863bb36cca0</td>\n",
       "      <td>Call</td>\n",
       "      <td>2016-03-05 08:00:00</td>\n",
       "    </tr>\n",
       "    <tr>\n",
       "      <th>2</th>\n",
       "      <td>00004e5d-d6ca-e511-80ef-3863bb36cca0</td>\n",
       "      <td>Email</td>\n",
       "      <td>2016-02-03 18:29:36</td>\n",
       "    </tr>\n",
       "    <tr>\n",
       "      <th>3</th>\n",
       "      <td>00004e5d-d6ca-e511-80ef-3863bb36cca0</td>\n",
       "      <td>Call</td>\n",
       "      <td>2016-03-24 07:00:00</td>\n",
       "    </tr>\n",
       "    <tr>\n",
       "      <th>4</th>\n",
       "      <td>00004e5d-d6ca-e511-80ef-3863bb36cca0</td>\n",
       "      <td>Email</td>\n",
       "      <td>2016-03-24 07:00:00</td>\n",
       "    </tr>\n",
       "  </tbody>\n",
       "</table>\n",
       "</div>"
      ],
      "text/plain": [
       "                             ProspectID         Activity           dtActivity\n",
       "0  00004e5d-d6ca-e511-80ef-3863bb36cca0  Personal Letter  2016-02-09 08:00:00\n",
       "1  00004e5d-d6ca-e511-80ef-3863bb36cca0             Call  2016-03-05 08:00:00\n",
       "2  00004e5d-d6ca-e511-80ef-3863bb36cca0            Email  2016-02-03 18:29:36\n",
       "3  00004e5d-d6ca-e511-80ef-3863bb36cca0             Call  2016-03-24 07:00:00\n",
       "4  00004e5d-d6ca-e511-80ef-3863bb36cca0            Email  2016-03-24 07:00:00"
      ]
     },
     "execution_count": 3,
     "metadata": {},
     "output_type": "execute_result"
    }
   ],
   "source": [
    "# Original df2\n",
    "df2.head()"
   ]
  },
  {
   "cell_type": "code",
   "execution_count": 141,
   "metadata": {
    "collapsed": true
   },
   "outputs": [],
   "source": [
    "df2_trans = pd.DataFrame(columns = ['ProspectID', 'PersonalLetter', 'Call', 'Email', 'Tour', 'Visit', 'Assessment',\n",
    "       'CommunityEvent', 'MassCommunication', 'TextMessage',\n",
    "       'ShortStay', 'Gift'])\n",
    "m = 0\n",
    "for i in df2.ProspectID.unique():\n",
    "    df_new = df2.loc[df2['ProspectID'] == i]\n",
    "    List = []\n",
    "    try:\n",
    "        Personal_Letter = df_new.Activity.value_counts()['Personal Letter'] \n",
    "    except KeyError:\n",
    "        Personal_Letter = 0\n",
    "    try:\n",
    "        Call = df_new.Activity.value_counts()['Call']\n",
    "    except KeyError:\n",
    "        Call = 0\n",
    "    try:\n",
    "        Email = df_new.Activity.value_counts()['Email']\n",
    "    except KeyError:\n",
    "        Email = 0\n",
    "    try:\n",
    "        Tour = df_new.Activity.value_counts()['Tour']\n",
    "    except KeyError:\n",
    "        Tour = 0\n",
    "    try:\n",
    "        Visit = df_new.Activity.value_counts()['Visit']\n",
    "    except KeyError:\n",
    "        Visit = 0\n",
    "    try:\n",
    "        Assessment = df_new.Activity.value_counts()['Assessment']\n",
    "    except KeyError:\n",
    "        Assessment = 0\n",
    "    try:\n",
    "        Community_Event = df_new.Activity.value_counts()['Community Event']\n",
    "    except KeyError:\n",
    "        Community_Event = 0\n",
    "    try:\n",
    "        Mass_Communication = df_new.Activity.value_counts()['Mass Communication']\n",
    "    except KeyError:\n",
    "        Mass_Communication = 0\n",
    "    try:\n",
    "        Text_Message = df_new.Activity.value_counts()['Text Message']\n",
    "    except KeyError:\n",
    "        Text_Message = 0\n",
    "    try:\n",
    "        Short_Stay = df_new.Activity.value_counts()['Short Stay']\n",
    "    except KeyError:\n",
    "        Short_Stay = 0\n",
    "    try:\n",
    "        Gift = df_new.Activity.value_counts()['Gift']\n",
    "    except KeyError:\n",
    "        Gift = 0\n",
    "    List = [i, Personal_Letter, Call, Email, Tour, Visit, Assessment,\n",
    "       Community_Event, Mass_Communication, Text_Message,\n",
    "       Short_Stay, Gift]\n",
    "    df2_trans.loc[m] = List\n",
    "    m += 1"
   ]
  },
  {
   "cell_type": "code",
   "execution_count": 144,
   "metadata": {},
   "outputs": [
    {
     "data": {
      "text/plain": [
       "(143069, 12)"
      ]
     },
     "execution_count": 144,
     "metadata": {},
     "output_type": "execute_result"
    }
   ],
   "source": [
    "df2_trans.shape"
   ]
  },
  {
   "cell_type": "code",
   "execution_count": 143,
   "metadata": {
    "collapsed": true
   },
   "outputs": [],
   "source": [
    "df2_trans.to_csv(\"df2_trans.csv\", float_format=\"%1.2f\")"
   ]
  },
  {
   "cell_type": "code",
   "execution_count": 4,
   "metadata": {
    "collapsed": true
   },
   "outputs": [],
   "source": [
    "df2_trans = pd.read_csv('df2_trans.csv')\n",
    "df2_trans.drop(['Unnamed: 0'], inplace=True, axis = 1)"
   ]
  },
  {
   "cell_type": "code",
   "execution_count": 5,
   "metadata": {},
   "outputs": [
    {
     "data": {
      "text/html": [
       "<div>\n",
       "<style>\n",
       "    .dataframe thead tr:only-child th {\n",
       "        text-align: right;\n",
       "    }\n",
       "\n",
       "    .dataframe thead th {\n",
       "        text-align: left;\n",
       "    }\n",
       "\n",
       "    .dataframe tbody tr th {\n",
       "        vertical-align: top;\n",
       "    }\n",
       "</style>\n",
       "<table border=\"1\" class=\"dataframe\">\n",
       "  <thead>\n",
       "    <tr style=\"text-align: right;\">\n",
       "      <th></th>\n",
       "      <th>ProspectID</th>\n",
       "      <th>Personal Letter</th>\n",
       "      <th>Call</th>\n",
       "      <th>Email</th>\n",
       "      <th>Tour</th>\n",
       "      <th>Visit</th>\n",
       "      <th>Assessment</th>\n",
       "      <th>Community Event</th>\n",
       "      <th>Mass Communication</th>\n",
       "      <th>Text Message</th>\n",
       "      <th>Short Stay</th>\n",
       "      <th>Gift</th>\n",
       "    </tr>\n",
       "  </thead>\n",
       "  <tbody>\n",
       "    <tr>\n",
       "      <th>0</th>\n",
       "      <td>00004e5d-d6ca-e511-80ef-3863bb36cca0</td>\n",
       "      <td>1</td>\n",
       "      <td>2</td>\n",
       "      <td>2</td>\n",
       "      <td>1</td>\n",
       "      <td>0</td>\n",
       "      <td>0</td>\n",
       "      <td>0</td>\n",
       "      <td>0</td>\n",
       "      <td>0</td>\n",
       "      <td>0</td>\n",
       "      <td>0</td>\n",
       "    </tr>\n",
       "    <tr>\n",
       "      <th>1</th>\n",
       "      <td>00005ac8-1d93-e611-80e9-5065f38a3b81</td>\n",
       "      <td>0</td>\n",
       "      <td>0</td>\n",
       "      <td>1</td>\n",
       "      <td>0</td>\n",
       "      <td>0</td>\n",
       "      <td>0</td>\n",
       "      <td>0</td>\n",
       "      <td>0</td>\n",
       "      <td>0</td>\n",
       "      <td>0</td>\n",
       "      <td>0</td>\n",
       "    </tr>\n",
       "    <tr>\n",
       "      <th>2</th>\n",
       "      <td>0000d788-d370-e411-bfcd-6c3be5a8a144</td>\n",
       "      <td>0</td>\n",
       "      <td>4</td>\n",
       "      <td>8</td>\n",
       "      <td>0</td>\n",
       "      <td>0</td>\n",
       "      <td>0</td>\n",
       "      <td>0</td>\n",
       "      <td>0</td>\n",
       "      <td>0</td>\n",
       "      <td>0</td>\n",
       "      <td>0</td>\n",
       "    </tr>\n",
       "    <tr>\n",
       "      <th>3</th>\n",
       "      <td>00022c39-0826-45c3-969d-653e1cd0e652</td>\n",
       "      <td>0</td>\n",
       "      <td>1</td>\n",
       "      <td>0</td>\n",
       "      <td>0</td>\n",
       "      <td>0</td>\n",
       "      <td>0</td>\n",
       "      <td>0</td>\n",
       "      <td>0</td>\n",
       "      <td>0</td>\n",
       "      <td>0</td>\n",
       "      <td>0</td>\n",
       "    </tr>\n",
       "    <tr>\n",
       "      <th>4</th>\n",
       "      <td>0002bef2-ff5f-e611-8106-3863bb2eb148</td>\n",
       "      <td>0</td>\n",
       "      <td>1</td>\n",
       "      <td>2</td>\n",
       "      <td>0</td>\n",
       "      <td>0</td>\n",
       "      <td>0</td>\n",
       "      <td>0</td>\n",
       "      <td>0</td>\n",
       "      <td>0</td>\n",
       "      <td>0</td>\n",
       "      <td>0</td>\n",
       "    </tr>\n",
       "  </tbody>\n",
       "</table>\n",
       "</div>"
      ],
      "text/plain": [
       "                             ProspectID  Personal Letter  Call  Email  Tour  \\\n",
       "0  00004e5d-d6ca-e511-80ef-3863bb36cca0                1     2      2     1   \n",
       "1  00005ac8-1d93-e611-80e9-5065f38a3b81                0     0      1     0   \n",
       "2  0000d788-d370-e411-bfcd-6c3be5a8a144                0     4      8     0   \n",
       "3  00022c39-0826-45c3-969d-653e1cd0e652                0     1      0     0   \n",
       "4  0002bef2-ff5f-e611-8106-3863bb2eb148                0     1      2     0   \n",
       "\n",
       "   Visit  Assessment  Community Event  Mass Communication  Text Message  \\\n",
       "0      0           0                0                   0             0   \n",
       "1      0           0                0                   0             0   \n",
       "2      0           0                0                   0             0   \n",
       "3      0           0                0                   0             0   \n",
       "4      0           0                0                   0             0   \n",
       "\n",
       "   Short Stay  Gift  \n",
       "0           0     0  \n",
       "1           0     0  \n",
       "2           0     0  \n",
       "3           0     0  \n",
       "4           0     0  "
      ]
     },
     "execution_count": 5,
     "metadata": {},
     "output_type": "execute_result"
    }
   ],
   "source": [
    "# df2 after transformation\n",
    "df2_trans.head()"
   ]
  },
  {
   "cell_type": "markdown",
   "metadata": {},
   "source": [
    "### <font color='blue'> <p>df3 transformation\n",
    "<font color='blue'> <p>Since df3 displays the significant date prospect converted into residents, we assume all the records in df3 are prospects already moved in, so we add a new column \"moveIn\" to df3, assigned its value to 1. Then we creat a new dataframe df1_3 by merging df1 and df3 together. For all the records have missing value under column 'moveIn', we assign its value to 0, indicating prospects did not move in."
   ]
  },
  {
   "cell_type": "code",
   "execution_count": 7,
   "metadata": {},
   "outputs": [
    {
     "data": {
      "text/html": [
       "<div>\n",
       "<style>\n",
       "    .dataframe thead tr:only-child th {\n",
       "        text-align: right;\n",
       "    }\n",
       "\n",
       "    .dataframe thead th {\n",
       "        text-align: left;\n",
       "    }\n",
       "\n",
       "    .dataframe tbody tr th {\n",
       "        vertical-align: top;\n",
       "    }\n",
       "</style>\n",
       "<table border=\"1\" class=\"dataframe\">\n",
       "  <thead>\n",
       "    <tr style=\"text-align: right;\">\n",
       "      <th></th>\n",
       "      <th>CommunityCode</th>\n",
       "      <th>CommunityZipCode</th>\n",
       "      <th>ProspectID</th>\n",
       "      <th>AgeatInquiry</th>\n",
       "      <th>CareLevel</th>\n",
       "      <th>Gender</th>\n",
       "      <th>Marital</th>\n",
       "      <th>Veteran</th>\n",
       "      <th>CurrentResidence</th>\n",
       "      <th>ZipCode</th>\n",
       "      <th>...</th>\n",
       "      <th>NoCall</th>\n",
       "      <th>NoEmail</th>\n",
       "      <th>InquiryDate</th>\n",
       "      <th>ReferralCompany</th>\n",
       "      <th>ProjectedMoveIn</th>\n",
       "      <th>DeactDate</th>\n",
       "      <th>DeactReason</th>\n",
       "      <th>NotQual</th>\n",
       "      <th>CurrentStatus</th>\n",
       "      <th>moveIn</th>\n",
       "    </tr>\n",
       "  </thead>\n",
       "  <tbody>\n",
       "    <tr>\n",
       "      <th>0</th>\n",
       "      <td>731.0</td>\n",
       "      <td>54311.0</td>\n",
       "      <td>0f0d9652-7697-4d03-84da-000137b878db</td>\n",
       "      <td>NaN</td>\n",
       "      <td>A</td>\n",
       "      <td>Female</td>\n",
       "      <td>NaN</td>\n",
       "      <td>False</td>\n",
       "      <td>NaN</td>\n",
       "      <td>NaN</td>\n",
       "      <td>...</td>\n",
       "      <td>False</td>\n",
       "      <td>False</td>\n",
       "      <td>2011-04-15 17:54:00</td>\n",
       "      <td>SeniorLiving.net</td>\n",
       "      <td>NaN</td>\n",
       "      <td>2012-09-18 05:00:00</td>\n",
       "      <td>Request Removal</td>\n",
       "      <td>NaN</td>\n",
       "      <td>Deactivated</td>\n",
       "      <td>0.0</td>\n",
       "    </tr>\n",
       "    <tr>\n",
       "      <th>1</th>\n",
       "      <td>415.0</td>\n",
       "      <td>60010.0</td>\n",
       "      <td>59a04927-19ee-42de-840f-545a4e8b5533</td>\n",
       "      <td>77.0</td>\n",
       "      <td>I</td>\n",
       "      <td>Female</td>\n",
       "      <td>Widow</td>\n",
       "      <td>False</td>\n",
       "      <td>Living at Home</td>\n",
       "      <td>NaN</td>\n",
       "      <td>...</td>\n",
       "      <td>False</td>\n",
       "      <td>True</td>\n",
       "      <td>2012-12-17 20:29:00</td>\n",
       "      <td>A Place for Mom</td>\n",
       "      <td>NaN</td>\n",
       "      <td>2013-01-19 06:00:00</td>\n",
       "      <td>NaN</td>\n",
       "      <td>NaN</td>\n",
       "      <td>Deactivated</td>\n",
       "      <td>0.0</td>\n",
       "    </tr>\n",
       "    <tr>\n",
       "      <th>2</th>\n",
       "      <td>491.0</td>\n",
       "      <td>30052.0</td>\n",
       "      <td>87305eb0-2ed2-430c-9b4e-00019a38134a</td>\n",
       "      <td>NaN</td>\n",
       "      <td>NaN</td>\n",
       "      <td>Female</td>\n",
       "      <td>NaN</td>\n",
       "      <td>False</td>\n",
       "      <td>NaN</td>\n",
       "      <td>NaN</td>\n",
       "      <td>...</td>\n",
       "      <td>False</td>\n",
       "      <td>True</td>\n",
       "      <td>2014-09-23 04:00:00</td>\n",
       "      <td>A Place for Mom</td>\n",
       "      <td>NaN</td>\n",
       "      <td>2014-12-17 05:00:00</td>\n",
       "      <td>Duplicate Lead</td>\n",
       "      <td>NaN</td>\n",
       "      <td>Deactivated</td>\n",
       "      <td>0.0</td>\n",
       "    </tr>\n",
       "    <tr>\n",
       "      <th>3</th>\n",
       "      <td>775.0</td>\n",
       "      <td>33462.0</td>\n",
       "      <td>50dd6777-4333-48bb-9ac5-00041d493ef0</td>\n",
       "      <td>NaN</td>\n",
       "      <td>NaN</td>\n",
       "      <td>Female</td>\n",
       "      <td>NaN</td>\n",
       "      <td>False</td>\n",
       "      <td>NaN</td>\n",
       "      <td>NaN</td>\n",
       "      <td>...</td>\n",
       "      <td>True</td>\n",
       "      <td>True</td>\n",
       "      <td>2013-10-17 04:00:00</td>\n",
       "      <td>Caring.com</td>\n",
       "      <td>NaN</td>\n",
       "      <td>2013-10-17 04:00:00</td>\n",
       "      <td>Duplicate Lead</td>\n",
       "      <td>NaN</td>\n",
       "      <td>Deactivated</td>\n",
       "      <td>0.0</td>\n",
       "    </tr>\n",
       "    <tr>\n",
       "      <th>4</th>\n",
       "      <td>492.0</td>\n",
       "      <td>33021.0</td>\n",
       "      <td>f7ce16ab-bbaf-45ae-be5b-0004e020269f</td>\n",
       "      <td>NaN</td>\n",
       "      <td>A</td>\n",
       "      <td>Female</td>\n",
       "      <td>NaN</td>\n",
       "      <td>False</td>\n",
       "      <td>NaN</td>\n",
       "      <td>NaN</td>\n",
       "      <td>...</td>\n",
       "      <td>False</td>\n",
       "      <td>True</td>\n",
       "      <td>2013-10-22 04:00:00</td>\n",
       "      <td>Caring.com</td>\n",
       "      <td>NaN</td>\n",
       "      <td>2014-12-24 05:00:00</td>\n",
       "      <td>Not Qualified</td>\n",
       "      <td>NaN</td>\n",
       "      <td>Deactivated</td>\n",
       "      <td>0.0</td>\n",
       "    </tr>\n",
       "  </tbody>\n",
       "</table>\n",
       "<p>5 rows × 25 columns</p>\n",
       "</div>"
      ],
      "text/plain": [
       "   CommunityCode  CommunityZipCode                            ProspectID  \\\n",
       "0          731.0           54311.0  0f0d9652-7697-4d03-84da-000137b878db   \n",
       "1          415.0           60010.0  59a04927-19ee-42de-840f-545a4e8b5533   \n",
       "2          491.0           30052.0  87305eb0-2ed2-430c-9b4e-00019a38134a   \n",
       "3          775.0           33462.0  50dd6777-4333-48bb-9ac5-00041d493ef0   \n",
       "4          492.0           33021.0  f7ce16ab-bbaf-45ae-be5b-0004e020269f   \n",
       "\n",
       "   AgeatInquiry CareLevel  Gender Marital  Veteran CurrentResidence  ZipCode  \\\n",
       "0           NaN         A  Female     NaN    False              NaN      NaN   \n",
       "1          77.0         I  Female   Widow    False   Living at Home      NaN   \n",
       "2           NaN       NaN  Female     NaN    False              NaN      NaN   \n",
       "3           NaN       NaN  Female     NaN    False              NaN      NaN   \n",
       "4           NaN         A  Female     NaN    False              NaN      NaN   \n",
       "\n",
       "   ...   NoCall  NoEmail          InquiryDate   ReferralCompany  \\\n",
       "0  ...    False    False  2011-04-15 17:54:00  SeniorLiving.net   \n",
       "1  ...    False     True  2012-12-17 20:29:00   A Place for Mom   \n",
       "2  ...    False     True  2014-09-23 04:00:00   A Place for Mom   \n",
       "3  ...     True     True  2013-10-17 04:00:00        Caring.com   \n",
       "4  ...    False     True  2013-10-22 04:00:00        Caring.com   \n",
       "\n",
       "   ProjectedMoveIn            DeactDate      DeactReason NotQual  \\\n",
       "0              NaN  2012-09-18 05:00:00  Request Removal     NaN   \n",
       "1              NaN  2013-01-19 06:00:00              NaN     NaN   \n",
       "2              NaN  2014-12-17 05:00:00   Duplicate Lead     NaN   \n",
       "3              NaN  2013-10-17 04:00:00   Duplicate Lead     NaN   \n",
       "4              NaN  2014-12-24 05:00:00    Not Qualified     NaN   \n",
       "\n",
       "  CurrentStatus moveIn  \n",
       "0   Deactivated    0.0  \n",
       "1   Deactivated    0.0  \n",
       "2   Deactivated    0.0  \n",
       "3   Deactivated    0.0  \n",
       "4   Deactivated    0.0  \n",
       "\n",
       "[5 rows x 25 columns]"
      ]
     },
     "execution_count": 7,
     "metadata": {},
     "output_type": "execute_result"
    }
   ],
   "source": [
    "new_col = np.ones(5738)\n",
    "df3_tran = df3.assign(moveIn = new_col)\n",
    "df3_tran = df3_tran.drop(['ResidentID', 'dtmovein','dtmoveout', 'istatus','ireason'], axis = 1)\n",
    "\n",
    "df1_3 = df1.merge(df3_tran, on='ProspectID', how='left')\n",
    "df1_3['moveIn'].fillna(0, inplace=True)\n",
    "df1_3.head()"
   ]
  },
  {
   "cell_type": "code",
   "execution_count": 147,
   "metadata": {},
   "outputs": [
    {
     "data": {
      "text/plain": [
       "(178538, 25)"
      ]
     },
     "execution_count": 147,
     "metadata": {},
     "output_type": "execute_result"
    }
   ],
   "source": [
    "df1_3.shape"
   ]
  },
  {
   "cell_type": "code",
   "execution_count": 148,
   "metadata": {},
   "outputs": [
    {
     "data": {
      "text/plain": [
       "(143069, 12)"
      ]
     },
     "execution_count": 148,
     "metadata": {},
     "output_type": "execute_result"
    }
   ],
   "source": [
    "df2_trans.shape"
   ]
  },
  {
   "cell_type": "code",
   "execution_count": 40,
   "metadata": {
    "collapsed": true
   },
   "outputs": [],
   "source": [
    "df_total = df1_3.merge(df2_trans, on='ProspectID', how='left')"
   ]
  },
  {
   "cell_type": "code",
   "execution_count": 41,
   "metadata": {},
   "outputs": [
    {
     "data": {
      "text/plain": [
       "(178538, 36)"
      ]
     },
     "execution_count": 41,
     "metadata": {},
     "output_type": "execute_result"
    }
   ],
   "source": [
    "df_total.shape"
   ]
  },
  {
   "cell_type": "markdown",
   "metadata": {},
   "source": [
    "## <font color='blue'> <p> Missing Value\n",
    "<font color='blue'> <p> ID, zipcode and date should not be in the model.\n",
    "So communityCode, CommunityZipCode, ZipCode, DeactDate, ProjectedMoveIn, ProspectID, InquiryDate, NotQual, CurrentStatus and InquiryDate should be dropped"
   ]
  },
  {
   "cell_type": "code",
   "execution_count": 42,
   "metadata": {
    "collapsed": true
   },
   "outputs": [],
   "source": [
    "df_total.drop(['CommunityCode', 'CommunityZipCode','ZipCode', 'DeactDate','ProjectedMoveIn', 'ProspectID', 'InquiryDate', 'NotQual', 'DeactReason', 'CurrentStatus'], inplace=True, axis = 1)"
   ]
  },
  {
   "cell_type": "code",
   "execution_count": 43,
   "metadata": {},
   "outputs": [
    {
     "data": {
      "text/html": [
       "<div>\n",
       "<style>\n",
       "    .dataframe thead tr:only-child th {\n",
       "        text-align: right;\n",
       "    }\n",
       "\n",
       "    .dataframe thead th {\n",
       "        text-align: left;\n",
       "    }\n",
       "\n",
       "    .dataframe tbody tr th {\n",
       "        vertical-align: top;\n",
       "    }\n",
       "</style>\n",
       "<table border=\"1\" class=\"dataframe\">\n",
       "  <thead>\n",
       "    <tr style=\"text-align: right;\">\n",
       "      <th></th>\n",
       "      <th>count</th>\n",
       "      <th>unique</th>\n",
       "      <th>top</th>\n",
       "      <th>freq</th>\n",
       "      <th>mean</th>\n",
       "      <th>std</th>\n",
       "      <th>min</th>\n",
       "      <th>25%</th>\n",
       "      <th>50%</th>\n",
       "      <th>75%</th>\n",
       "      <th>max</th>\n",
       "    </tr>\n",
       "  </thead>\n",
       "  <tbody>\n",
       "    <tr>\n",
       "      <th>AgeatInquiry</th>\n",
       "      <td>101876</td>\n",
       "      <td>NaN</td>\n",
       "      <td>NaN</td>\n",
       "      <td>NaN</td>\n",
       "      <td>81.5717</td>\n",
       "      <td>9.65048</td>\n",
       "      <td>-31</td>\n",
       "      <td>76</td>\n",
       "      <td>83</td>\n",
       "      <td>88</td>\n",
       "      <td>185</td>\n",
       "    </tr>\n",
       "    <tr>\n",
       "      <th>CareLevel</th>\n",
       "      <td>169732</td>\n",
       "      <td>5</td>\n",
       "      <td>A</td>\n",
       "      <td>72328</td>\n",
       "      <td>NaN</td>\n",
       "      <td>NaN</td>\n",
       "      <td>NaN</td>\n",
       "      <td>NaN</td>\n",
       "      <td>NaN</td>\n",
       "      <td>NaN</td>\n",
       "      <td>NaN</td>\n",
       "    </tr>\n",
       "    <tr>\n",
       "      <th>Gender</th>\n",
       "      <td>174865</td>\n",
       "      <td>2</td>\n",
       "      <td>Female</td>\n",
       "      <td>112384</td>\n",
       "      <td>NaN</td>\n",
       "      <td>NaN</td>\n",
       "      <td>NaN</td>\n",
       "      <td>NaN</td>\n",
       "      <td>NaN</td>\n",
       "      <td>NaN</td>\n",
       "      <td>NaN</td>\n",
       "    </tr>\n",
       "    <tr>\n",
       "      <th>Marital</th>\n",
       "      <td>17035</td>\n",
       "      <td>4</td>\n",
       "      <td>Married</td>\n",
       "      <td>8314</td>\n",
       "      <td>NaN</td>\n",
       "      <td>NaN</td>\n",
       "      <td>NaN</td>\n",
       "      <td>NaN</td>\n",
       "      <td>NaN</td>\n",
       "      <td>NaN</td>\n",
       "      <td>NaN</td>\n",
       "    </tr>\n",
       "    <tr>\n",
       "      <th>Veteran</th>\n",
       "      <td>178538</td>\n",
       "      <td>2</td>\n",
       "      <td>False</td>\n",
       "      <td>101338</td>\n",
       "      <td>NaN</td>\n",
       "      <td>NaN</td>\n",
       "      <td>NaN</td>\n",
       "      <td>NaN</td>\n",
       "      <td>NaN</td>\n",
       "      <td>NaN</td>\n",
       "      <td>NaN</td>\n",
       "    </tr>\n",
       "    <tr>\n",
       "      <th>CurrentResidence</th>\n",
       "      <td>36888</td>\n",
       "      <td>4</td>\n",
       "      <td>Living at Home</td>\n",
       "      <td>24885</td>\n",
       "      <td>NaN</td>\n",
       "      <td>NaN</td>\n",
       "      <td>NaN</td>\n",
       "      <td>NaN</td>\n",
       "      <td>NaN</td>\n",
       "      <td>NaN</td>\n",
       "      <td>NaN</td>\n",
       "    </tr>\n",
       "    <tr>\n",
       "      <th>UnitPreference</th>\n",
       "      <td>6141</td>\n",
       "      <td>6</td>\n",
       "      <td>1 Bed</td>\n",
       "      <td>3108</td>\n",
       "      <td>NaN</td>\n",
       "      <td>NaN</td>\n",
       "      <td>NaN</td>\n",
       "      <td>NaN</td>\n",
       "      <td>NaN</td>\n",
       "      <td>NaN</td>\n",
       "      <td>NaN</td>\n",
       "    </tr>\n",
       "    <tr>\n",
       "      <th>ProvidedEmail</th>\n",
       "      <td>178538</td>\n",
       "      <td>2</td>\n",
       "      <td>False</td>\n",
       "      <td>144049</td>\n",
       "      <td>NaN</td>\n",
       "      <td>NaN</td>\n",
       "      <td>NaN</td>\n",
       "      <td>NaN</td>\n",
       "      <td>NaN</td>\n",
       "      <td>NaN</td>\n",
       "      <td>NaN</td>\n",
       "    </tr>\n",
       "    <tr>\n",
       "      <th>ProvidedPhone</th>\n",
       "      <td>178538</td>\n",
       "      <td>2</td>\n",
       "      <td>False</td>\n",
       "      <td>139449</td>\n",
       "      <td>NaN</td>\n",
       "      <td>NaN</td>\n",
       "      <td>NaN</td>\n",
       "      <td>NaN</td>\n",
       "      <td>NaN</td>\n",
       "      <td>NaN</td>\n",
       "      <td>NaN</td>\n",
       "    </tr>\n",
       "    <tr>\n",
       "      <th>Budget</th>\n",
       "      <td>111978</td>\n",
       "      <td>6</td>\n",
       "      <td>3,000-4,000</td>\n",
       "      <td>30923</td>\n",
       "      <td>NaN</td>\n",
       "      <td>NaN</td>\n",
       "      <td>NaN</td>\n",
       "      <td>NaN</td>\n",
       "      <td>NaN</td>\n",
       "      <td>NaN</td>\n",
       "      <td>NaN</td>\n",
       "    </tr>\n",
       "    <tr>\n",
       "      <th>RequestedVisit</th>\n",
       "      <td>178538</td>\n",
       "      <td>2</td>\n",
       "      <td>False</td>\n",
       "      <td>126066</td>\n",
       "      <td>NaN</td>\n",
       "      <td>NaN</td>\n",
       "      <td>NaN</td>\n",
       "      <td>NaN</td>\n",
       "      <td>NaN</td>\n",
       "      <td>NaN</td>\n",
       "      <td>NaN</td>\n",
       "    </tr>\n",
       "    <tr>\n",
       "      <th>NoCall</th>\n",
       "      <td>178538</td>\n",
       "      <td>2</td>\n",
       "      <td>False</td>\n",
       "      <td>169159</td>\n",
       "      <td>NaN</td>\n",
       "      <td>NaN</td>\n",
       "      <td>NaN</td>\n",
       "      <td>NaN</td>\n",
       "      <td>NaN</td>\n",
       "      <td>NaN</td>\n",
       "      <td>NaN</td>\n",
       "    </tr>\n",
       "    <tr>\n",
       "      <th>NoEmail</th>\n",
       "      <td>178538</td>\n",
       "      <td>2</td>\n",
       "      <td>False</td>\n",
       "      <td>132423</td>\n",
       "      <td>NaN</td>\n",
       "      <td>NaN</td>\n",
       "      <td>NaN</td>\n",
       "      <td>NaN</td>\n",
       "      <td>NaN</td>\n",
       "      <td>NaN</td>\n",
       "      <td>NaN</td>\n",
       "    </tr>\n",
       "    <tr>\n",
       "      <th>ReferralCompany</th>\n",
       "      <td>178538</td>\n",
       "      <td>5</td>\n",
       "      <td>A Place for Mom</td>\n",
       "      <td>105581</td>\n",
       "      <td>NaN</td>\n",
       "      <td>NaN</td>\n",
       "      <td>NaN</td>\n",
       "      <td>NaN</td>\n",
       "      <td>NaN</td>\n",
       "      <td>NaN</td>\n",
       "      <td>NaN</td>\n",
       "    </tr>\n",
       "    <tr>\n",
       "      <th>CurrentStatus</th>\n",
       "      <td>178538</td>\n",
       "      <td>4</td>\n",
       "      <td>Deactivated</td>\n",
       "      <td>108364</td>\n",
       "      <td>NaN</td>\n",
       "      <td>NaN</td>\n",
       "      <td>NaN</td>\n",
       "      <td>NaN</td>\n",
       "      <td>NaN</td>\n",
       "      <td>NaN</td>\n",
       "      <td>NaN</td>\n",
       "    </tr>\n",
       "    <tr>\n",
       "      <th>moveIn</th>\n",
       "      <td>178538</td>\n",
       "      <td>NaN</td>\n",
       "      <td>NaN</td>\n",
       "      <td>NaN</td>\n",
       "      <td>0.0321388</td>\n",
       "      <td>0.176369</td>\n",
       "      <td>0</td>\n",
       "      <td>0</td>\n",
       "      <td>0</td>\n",
       "      <td>0</td>\n",
       "      <td>1</td>\n",
       "    </tr>\n",
       "    <tr>\n",
       "      <th>Personal Letter</th>\n",
       "      <td>143124</td>\n",
       "      <td>NaN</td>\n",
       "      <td>NaN</td>\n",
       "      <td>NaN</td>\n",
       "      <td>0.231198</td>\n",
       "      <td>0.657504</td>\n",
       "      <td>0</td>\n",
       "      <td>0</td>\n",
       "      <td>0</td>\n",
       "      <td>0</td>\n",
       "      <td>16</td>\n",
       "    </tr>\n",
       "    <tr>\n",
       "      <th>Call</th>\n",
       "      <td>143124</td>\n",
       "      <td>NaN</td>\n",
       "      <td>NaN</td>\n",
       "      <td>NaN</td>\n",
       "      <td>2.3482</td>\n",
       "      <td>2.79836</td>\n",
       "      <td>0</td>\n",
       "      <td>1</td>\n",
       "      <td>2</td>\n",
       "      <td>3</td>\n",
       "      <td>92</td>\n",
       "    </tr>\n",
       "    <tr>\n",
       "      <th>Email</th>\n",
       "      <td>143124</td>\n",
       "      <td>NaN</td>\n",
       "      <td>NaN</td>\n",
       "      <td>NaN</td>\n",
       "      <td>2.04196</td>\n",
       "      <td>2.13662</td>\n",
       "      <td>0</td>\n",
       "      <td>1</td>\n",
       "      <td>1</td>\n",
       "      <td>3</td>\n",
       "      <td>94</td>\n",
       "    </tr>\n",
       "    <tr>\n",
       "      <th>Tour</th>\n",
       "      <td>143124</td>\n",
       "      <td>NaN</td>\n",
       "      <td>NaN</td>\n",
       "      <td>NaN</td>\n",
       "      <td>0.235991</td>\n",
       "      <td>0.635519</td>\n",
       "      <td>0</td>\n",
       "      <td>0</td>\n",
       "      <td>0</td>\n",
       "      <td>0</td>\n",
       "      <td>14</td>\n",
       "    </tr>\n",
       "    <tr>\n",
       "      <th>Visit</th>\n",
       "      <td>143124</td>\n",
       "      <td>NaN</td>\n",
       "      <td>NaN</td>\n",
       "      <td>NaN</td>\n",
       "      <td>0.0226796</td>\n",
       "      <td>0.197919</td>\n",
       "      <td>0</td>\n",
       "      <td>0</td>\n",
       "      <td>0</td>\n",
       "      <td>0</td>\n",
       "      <td>12</td>\n",
       "    </tr>\n",
       "    <tr>\n",
       "      <th>Assessment</th>\n",
       "      <td>143124</td>\n",
       "      <td>NaN</td>\n",
       "      <td>NaN</td>\n",
       "      <td>NaN</td>\n",
       "      <td>0.00851709</td>\n",
       "      <td>0.0983581</td>\n",
       "      <td>0</td>\n",
       "      <td>0</td>\n",
       "      <td>0</td>\n",
       "      <td>0</td>\n",
       "      <td>4</td>\n",
       "    </tr>\n",
       "    <tr>\n",
       "      <th>Community Event</th>\n",
       "      <td>143124</td>\n",
       "      <td>NaN</td>\n",
       "      <td>NaN</td>\n",
       "      <td>NaN</td>\n",
       "      <td>0.00657472</td>\n",
       "      <td>0.0928851</td>\n",
       "      <td>0</td>\n",
       "      <td>0</td>\n",
       "      <td>0</td>\n",
       "      <td>0</td>\n",
       "      <td>6</td>\n",
       "    </tr>\n",
       "    <tr>\n",
       "      <th>Mass Communication</th>\n",
       "      <td>143124</td>\n",
       "      <td>NaN</td>\n",
       "      <td>NaN</td>\n",
       "      <td>NaN</td>\n",
       "      <td>0.0714765</td>\n",
       "      <td>0.480067</td>\n",
       "      <td>0</td>\n",
       "      <td>0</td>\n",
       "      <td>0</td>\n",
       "      <td>0</td>\n",
       "      <td>22</td>\n",
       "    </tr>\n",
       "    <tr>\n",
       "      <th>Text Message</th>\n",
       "      <td>143124</td>\n",
       "      <td>NaN</td>\n",
       "      <td>NaN</td>\n",
       "      <td>NaN</td>\n",
       "      <td>0.010704</td>\n",
       "      <td>0.191006</td>\n",
       "      <td>0</td>\n",
       "      <td>0</td>\n",
       "      <td>0</td>\n",
       "      <td>0</td>\n",
       "      <td>16</td>\n",
       "    </tr>\n",
       "    <tr>\n",
       "      <th>Short Stay</th>\n",
       "      <td>143124</td>\n",
       "      <td>NaN</td>\n",
       "      <td>NaN</td>\n",
       "      <td>NaN</td>\n",
       "      <td>0.00100612</td>\n",
       "      <td>0.0340416</td>\n",
       "      <td>0</td>\n",
       "      <td>0</td>\n",
       "      <td>0</td>\n",
       "      <td>0</td>\n",
       "      <td>3</td>\n",
       "    </tr>\n",
       "    <tr>\n",
       "      <th>Gift</th>\n",
       "      <td>143124</td>\n",
       "      <td>NaN</td>\n",
       "      <td>NaN</td>\n",
       "      <td>NaN</td>\n",
       "      <td>0.0003214</td>\n",
       "      <td>0.0183104</td>\n",
       "      <td>0</td>\n",
       "      <td>0</td>\n",
       "      <td>0</td>\n",
       "      <td>0</td>\n",
       "      <td>2</td>\n",
       "    </tr>\n",
       "  </tbody>\n",
       "</table>\n",
       "</div>"
      ],
      "text/plain": [
       "                     count unique              top    freq        mean  \\\n",
       "AgeatInquiry        101876    NaN              NaN     NaN     81.5717   \n",
       "CareLevel           169732      5                A   72328         NaN   \n",
       "Gender              174865      2           Female  112384         NaN   \n",
       "Marital              17035      4          Married    8314         NaN   \n",
       "Veteran             178538      2            False  101338         NaN   \n",
       "CurrentResidence     36888      4   Living at Home   24885         NaN   \n",
       "UnitPreference        6141      6            1 Bed    3108         NaN   \n",
       "ProvidedEmail       178538      2            False  144049         NaN   \n",
       "ProvidedPhone       178538      2            False  139449         NaN   \n",
       "Budget              111978      6      3,000-4,000   30923         NaN   \n",
       "RequestedVisit      178538      2            False  126066         NaN   \n",
       "NoCall              178538      2            False  169159         NaN   \n",
       "NoEmail             178538      2            False  132423         NaN   \n",
       "ReferralCompany     178538      5  A Place for Mom  105581         NaN   \n",
       "CurrentStatus       178538      4      Deactivated  108364         NaN   \n",
       "moveIn              178538    NaN              NaN     NaN   0.0321388   \n",
       "Personal Letter     143124    NaN              NaN     NaN    0.231198   \n",
       "Call                143124    NaN              NaN     NaN      2.3482   \n",
       "Email               143124    NaN              NaN     NaN     2.04196   \n",
       "Tour                143124    NaN              NaN     NaN    0.235991   \n",
       "Visit               143124    NaN              NaN     NaN   0.0226796   \n",
       "Assessment          143124    NaN              NaN     NaN  0.00851709   \n",
       "Community Event     143124    NaN              NaN     NaN  0.00657472   \n",
       "Mass Communication  143124    NaN              NaN     NaN   0.0714765   \n",
       "Text Message        143124    NaN              NaN     NaN    0.010704   \n",
       "Short Stay          143124    NaN              NaN     NaN  0.00100612   \n",
       "Gift                143124    NaN              NaN     NaN   0.0003214   \n",
       "\n",
       "                          std  min  25%  50%  75%  max  \n",
       "AgeatInquiry          9.65048  -31   76   83   88  185  \n",
       "CareLevel                 NaN  NaN  NaN  NaN  NaN  NaN  \n",
       "Gender                    NaN  NaN  NaN  NaN  NaN  NaN  \n",
       "Marital                   NaN  NaN  NaN  NaN  NaN  NaN  \n",
       "Veteran                   NaN  NaN  NaN  NaN  NaN  NaN  \n",
       "CurrentResidence          NaN  NaN  NaN  NaN  NaN  NaN  \n",
       "UnitPreference            NaN  NaN  NaN  NaN  NaN  NaN  \n",
       "ProvidedEmail             NaN  NaN  NaN  NaN  NaN  NaN  \n",
       "ProvidedPhone             NaN  NaN  NaN  NaN  NaN  NaN  \n",
       "Budget                    NaN  NaN  NaN  NaN  NaN  NaN  \n",
       "RequestedVisit            NaN  NaN  NaN  NaN  NaN  NaN  \n",
       "NoCall                    NaN  NaN  NaN  NaN  NaN  NaN  \n",
       "NoEmail                   NaN  NaN  NaN  NaN  NaN  NaN  \n",
       "ReferralCompany           NaN  NaN  NaN  NaN  NaN  NaN  \n",
       "CurrentStatus             NaN  NaN  NaN  NaN  NaN  NaN  \n",
       "moveIn               0.176369    0    0    0    0    1  \n",
       "Personal Letter      0.657504    0    0    0    0   16  \n",
       "Call                  2.79836    0    1    2    3   92  \n",
       "Email                 2.13662    0    1    1    3   94  \n",
       "Tour                 0.635519    0    0    0    0   14  \n",
       "Visit                0.197919    0    0    0    0   12  \n",
       "Assessment          0.0983581    0    0    0    0    4  \n",
       "Community Event     0.0928851    0    0    0    0    6  \n",
       "Mass Communication   0.480067    0    0    0    0   22  \n",
       "Text Message         0.191006    0    0    0    0   16  \n",
       "Short Stay          0.0340416    0    0    0    0    3  \n",
       "Gift                0.0183104    0    0    0    0    2  "
      ]
     },
     "execution_count": 43,
     "metadata": {},
     "output_type": "execute_result"
    }
   ],
   "source": [
    "df_total.describe(include='all').T"
   ]
  },
  {
   "cell_type": "markdown",
   "metadata": {},
   "source": [
    "### <font color='blue'> <p> Categorical Variable missing values (moveIn = 0)\n",
    "<font color='blue'> <p>Since the proportion of prospects did not move In is higher than prospects moved In, and we focus more on moveIn records. So if the varable is prospect not move in and contains missing value, we will drop the missing value directly. Otherwise, we will keep the missing value for further operation. After this step, the dataframe contains 25,656 records."
   ]
  },
  {
   "cell_type": "code",
   "execution_count": 44,
   "metadata": {
    "collapsed": true
   },
   "outputs": [],
   "source": [
    "# AgeatInquiry\n",
    "for inx in df_total[df_total.AgeatInquiry.isnull()].index:\n",
    "    if df_total.loc[inx]['moveIn'] == 0:\n",
    "        df_total.drop([inx], axis=0, inplace=True)\n",
    "    else:\n",
    "        continue\n",
    "        \n",
    "# CareLevel\n",
    "for inx in df_total[df_total.CareLevel.isnull()].index:\n",
    "    if df_total.loc[inx]['moveIn'] == 0:\n",
    "        df_total.drop([inx], axis=0, inplace=True)\n",
    "    else:\n",
    "        continue\n",
    "        \n",
    "# Gender\n",
    "for inx in df_total[df_total.Gender.isnull()].index:\n",
    "    if df_total.loc[inx]['moveIn'] == 0:\n",
    "        df_total.drop([inx], axis=0, inplace=True)\n",
    "    else:\n",
    "        continue\n",
    "\n",
    "# Budget\n",
    "for inx in df_total[df_total.Budget.isnull()].index:\n",
    "    if df_total.loc[inx]['moveIn'] == 0:\n",
    "        df_total.drop([inx], axis=0, inplace=True)\n",
    "    else:\n",
    "        continue\n",
    "\n",
    "# Call\n",
    "for inx in df_total[df_total.Call.isnull()].index:\n",
    "    if df_total.loc[inx]['moveIn'] == 0:\n",
    "        df_total.drop([inx], axis=0, inplace=True)\n",
    "    else:\n",
    "        continue\n",
    "        \n",
    "#CurrentResidence\n",
    "for inx in df_total[df_total.CurrentResidence.isnull()].index:\n",
    "    if df_total.loc[inx]['moveIn'] == 0:\n",
    "        df_total.drop([inx], axis=0, inplace=True)\n",
    "    else:\n",
    "        continue"
   ]
  },
  {
   "cell_type": "code",
   "execution_count": 50,
   "metadata": {},
   "outputs": [
    {
     "data": {
      "text/plain": [
       "(25656, 27)"
      ]
     },
     "execution_count": 50,
     "metadata": {},
     "output_type": "execute_result"
    }
   ],
   "source": [
    "df_total.shape"
   ]
  },
  {
   "cell_type": "markdown",
   "metadata": {},
   "source": [
    "### <font color='blue'> <p> Other variables\n",
    "<font color='blue'> <p>For other varables we do the data cleaning according to the following steps:\n",
    "\n",
    "1) Remove outliers\n",
    "\n",
    "For numerical attribute 'AgeatInquiry', we can see either from its boxplot or historgram, it has outliers like negative value. so we utilze IQR method to remove these outliers. After this process, the dataframe has 23,711 records.\n",
    "\n",
    "2) Missing Values\n",
    "\n",
    "For attributes 'UnitPreference' and 'Marital', since their missing values amounts are large, if they have missing values, we consider customers have no preference or not intend to disclose marriage status, so we will fill all their missing value as 'Unknown'\n",
    "For numberical attributes 'AgeatInquiry', we fill in its missing value with its mean value. For other categorical variables, we fill in their missing value with their modes."
   ]
  },
  {
   "cell_type": "code",
   "execution_count": 51,
   "metadata": {
    "collapsed": true
   },
   "outputs": [],
   "source": [
    "# treat the missing values in UnitPreference and Marital as Unknown \n",
    "df_total['UnitPreference'].fillna('Unknown', inplace=True)\n",
    "df_total['Marital'].fillna('Unknown', inplace=True)"
   ]
  },
  {
   "cell_type": "code",
   "execution_count": 8,
   "metadata": {},
   "outputs": [
    {
     "data": {
      "text/html": [
       "<div>\n",
       "<style>\n",
       "    .dataframe thead tr:only-child th {\n",
       "        text-align: right;\n",
       "    }\n",
       "\n",
       "    .dataframe thead th {\n",
       "        text-align: left;\n",
       "    }\n",
       "\n",
       "    .dataframe tbody tr th {\n",
       "        vertical-align: top;\n",
       "    }\n",
       "</style>\n",
       "<table border=\"1\" class=\"dataframe\">\n",
       "  <thead>\n",
       "    <tr style=\"text-align: right;\">\n",
       "      <th></th>\n",
       "      <th>0</th>\n",
       "    </tr>\n",
       "  </thead>\n",
       "  <tbody>\n",
       "    <tr>\n",
       "      <th>AgeatInquiry</th>\n",
       "      <td>1757</td>\n",
       "    </tr>\n",
       "    <tr>\n",
       "      <th>CareLevel</th>\n",
       "      <td>118</td>\n",
       "    </tr>\n",
       "    <tr>\n",
       "      <th>Gender</th>\n",
       "      <td>15</td>\n",
       "    </tr>\n",
       "    <tr>\n",
       "      <th>CurrentResidence</th>\n",
       "      <td>3157</td>\n",
       "    </tr>\n",
       "    <tr>\n",
       "      <th>Budget</th>\n",
       "      <td>2059</td>\n",
       "    </tr>\n",
       "    <tr>\n",
       "      <th>PersonalLetter</th>\n",
       "      <td>877</td>\n",
       "    </tr>\n",
       "    <tr>\n",
       "      <th>Call</th>\n",
       "      <td>877</td>\n",
       "    </tr>\n",
       "    <tr>\n",
       "      <th>Email</th>\n",
       "      <td>877</td>\n",
       "    </tr>\n",
       "    <tr>\n",
       "      <th>Tour</th>\n",
       "      <td>877</td>\n",
       "    </tr>\n",
       "    <tr>\n",
       "      <th>Visit</th>\n",
       "      <td>877</td>\n",
       "    </tr>\n",
       "    <tr>\n",
       "      <th>Assessment</th>\n",
       "      <td>877</td>\n",
       "    </tr>\n",
       "    <tr>\n",
       "      <th>CommunityEvent</th>\n",
       "      <td>877</td>\n",
       "    </tr>\n",
       "    <tr>\n",
       "      <th>MassCommunication</th>\n",
       "      <td>877</td>\n",
       "    </tr>\n",
       "    <tr>\n",
       "      <th>TextMessage</th>\n",
       "      <td>877</td>\n",
       "    </tr>\n",
       "    <tr>\n",
       "      <th>ShortStay</th>\n",
       "      <td>877</td>\n",
       "    </tr>\n",
       "    <tr>\n",
       "      <th>Gift</th>\n",
       "      <td>877</td>\n",
       "    </tr>\n",
       "  </tbody>\n",
       "</table>\n",
       "</div>"
      ],
      "text/plain": [
       "                      0\n",
       "AgeatInquiry       1757\n",
       "CareLevel           118\n",
       "Gender               15\n",
       "CurrentResidence   3157\n",
       "Budget             2059\n",
       "PersonalLetter      877\n",
       "Call                877\n",
       "Email               877\n",
       "Tour                877\n",
       "Visit               877\n",
       "Assessment          877\n",
       "CommunityEvent      877\n",
       "MassCommunication   877\n",
       "TextMessage         877\n",
       "ShortStay           877\n",
       "Gift                877"
      ]
     },
     "execution_count": 8,
     "metadata": {},
     "output_type": "execute_result"
    }
   ],
   "source": [
    "#the number of missing values\n",
    "missing = pd.DataFrame(df_total.isnull().sum()) #sum(): point out how many missing values exist in the collection\n",
    "missing[missing[0]>0]"
   ]
  },
  {
   "cell_type": "code",
   "execution_count": 55,
   "metadata": {},
   "outputs": [
    {
     "data": {
      "text/html": [
       "<div>\n",
       "<style>\n",
       "    .dataframe thead tr:only-child th {\n",
       "        text-align: right;\n",
       "    }\n",
       "\n",
       "    .dataframe thead th {\n",
       "        text-align: left;\n",
       "    }\n",
       "\n",
       "    .dataframe tbody tr th {\n",
       "        vertical-align: top;\n",
       "    }\n",
       "</style>\n",
       "<table border=\"1\" class=\"dataframe\">\n",
       "  <thead>\n",
       "    <tr style=\"text-align: right;\">\n",
       "      <th></th>\n",
       "      <th>count</th>\n",
       "      <th>unique</th>\n",
       "      <th>top</th>\n",
       "      <th>freq</th>\n",
       "      <th>mean</th>\n",
       "      <th>std</th>\n",
       "      <th>min</th>\n",
       "      <th>25%</th>\n",
       "      <th>50%</th>\n",
       "      <th>75%</th>\n",
       "      <th>max</th>\n",
       "    </tr>\n",
       "  </thead>\n",
       "  <tbody>\n",
       "    <tr>\n",
       "      <th>AgeatInquiry</th>\n",
       "      <td>23899</td>\n",
       "      <td>NaN</td>\n",
       "      <td>NaN</td>\n",
       "      <td>NaN</td>\n",
       "      <td>81.5969</td>\n",
       "      <td>10.8419</td>\n",
       "      <td>-14</td>\n",
       "      <td>77</td>\n",
       "      <td>83</td>\n",
       "      <td>88</td>\n",
       "      <td>185</td>\n",
       "    </tr>\n",
       "    <tr>\n",
       "      <th>CareLevel</th>\n",
       "      <td>25538</td>\n",
       "      <td>5</td>\n",
       "      <td>A</td>\n",
       "      <td>9777</td>\n",
       "      <td>NaN</td>\n",
       "      <td>NaN</td>\n",
       "      <td>NaN</td>\n",
       "      <td>NaN</td>\n",
       "      <td>NaN</td>\n",
       "      <td>NaN</td>\n",
       "      <td>NaN</td>\n",
       "    </tr>\n",
       "    <tr>\n",
       "      <th>Gender</th>\n",
       "      <td>25641</td>\n",
       "      <td>2</td>\n",
       "      <td>Female</td>\n",
       "      <td>15866</td>\n",
       "      <td>NaN</td>\n",
       "      <td>NaN</td>\n",
       "      <td>NaN</td>\n",
       "      <td>NaN</td>\n",
       "      <td>NaN</td>\n",
       "      <td>NaN</td>\n",
       "      <td>NaN</td>\n",
       "    </tr>\n",
       "    <tr>\n",
       "      <th>Marital</th>\n",
       "      <td>25656</td>\n",
       "      <td>5</td>\n",
       "      <td>Unknown</td>\n",
       "      <td>20997</td>\n",
       "      <td>NaN</td>\n",
       "      <td>NaN</td>\n",
       "      <td>NaN</td>\n",
       "      <td>NaN</td>\n",
       "      <td>NaN</td>\n",
       "      <td>NaN</td>\n",
       "      <td>NaN</td>\n",
       "    </tr>\n",
       "    <tr>\n",
       "      <th>Veteran</th>\n",
       "      <td>25656</td>\n",
       "      <td>2</td>\n",
       "      <td>True</td>\n",
       "      <td>17446</td>\n",
       "      <td>NaN</td>\n",
       "      <td>NaN</td>\n",
       "      <td>NaN</td>\n",
       "      <td>NaN</td>\n",
       "      <td>NaN</td>\n",
       "      <td>NaN</td>\n",
       "      <td>NaN</td>\n",
       "    </tr>\n",
       "    <tr>\n",
       "      <th>CurrentResidence</th>\n",
       "      <td>22499</td>\n",
       "      <td>4</td>\n",
       "      <td>Living at Home</td>\n",
       "      <td>14887</td>\n",
       "      <td>NaN</td>\n",
       "      <td>NaN</td>\n",
       "      <td>NaN</td>\n",
       "      <td>NaN</td>\n",
       "      <td>NaN</td>\n",
       "      <td>NaN</td>\n",
       "      <td>NaN</td>\n",
       "    </tr>\n",
       "    <tr>\n",
       "      <th>UnitPreference</th>\n",
       "      <td>25656</td>\n",
       "      <td>7</td>\n",
       "      <td>Unknown</td>\n",
       "      <td>23430</td>\n",
       "      <td>NaN</td>\n",
       "      <td>NaN</td>\n",
       "      <td>NaN</td>\n",
       "      <td>NaN</td>\n",
       "      <td>NaN</td>\n",
       "      <td>NaN</td>\n",
       "      <td>NaN</td>\n",
       "    </tr>\n",
       "    <tr>\n",
       "      <th>ProvidedEmail</th>\n",
       "      <td>25656</td>\n",
       "      <td>2</td>\n",
       "      <td>False</td>\n",
       "      <td>20795</td>\n",
       "      <td>NaN</td>\n",
       "      <td>NaN</td>\n",
       "      <td>NaN</td>\n",
       "      <td>NaN</td>\n",
       "      <td>NaN</td>\n",
       "      <td>NaN</td>\n",
       "      <td>NaN</td>\n",
       "    </tr>\n",
       "    <tr>\n",
       "      <th>ProvidedPhone</th>\n",
       "      <td>25656</td>\n",
       "      <td>2</td>\n",
       "      <td>False</td>\n",
       "      <td>19438</td>\n",
       "      <td>NaN</td>\n",
       "      <td>NaN</td>\n",
       "      <td>NaN</td>\n",
       "      <td>NaN</td>\n",
       "      <td>NaN</td>\n",
       "      <td>NaN</td>\n",
       "      <td>NaN</td>\n",
       "    </tr>\n",
       "    <tr>\n",
       "      <th>Budget</th>\n",
       "      <td>23597</td>\n",
       "      <td>6</td>\n",
       "      <td>3,000-4,000</td>\n",
       "      <td>6567</td>\n",
       "      <td>NaN</td>\n",
       "      <td>NaN</td>\n",
       "      <td>NaN</td>\n",
       "      <td>NaN</td>\n",
       "      <td>NaN</td>\n",
       "      <td>NaN</td>\n",
       "      <td>NaN</td>\n",
       "    </tr>\n",
       "    <tr>\n",
       "      <th>RequestedVisit</th>\n",
       "      <td>25656</td>\n",
       "      <td>2</td>\n",
       "      <td>False</td>\n",
       "      <td>18652</td>\n",
       "      <td>NaN</td>\n",
       "      <td>NaN</td>\n",
       "      <td>NaN</td>\n",
       "      <td>NaN</td>\n",
       "      <td>NaN</td>\n",
       "      <td>NaN</td>\n",
       "      <td>NaN</td>\n",
       "    </tr>\n",
       "    <tr>\n",
       "      <th>NoCall</th>\n",
       "      <td>25656</td>\n",
       "      <td>2</td>\n",
       "      <td>False</td>\n",
       "      <td>24536</td>\n",
       "      <td>NaN</td>\n",
       "      <td>NaN</td>\n",
       "      <td>NaN</td>\n",
       "      <td>NaN</td>\n",
       "      <td>NaN</td>\n",
       "      <td>NaN</td>\n",
       "      <td>NaN</td>\n",
       "    </tr>\n",
       "    <tr>\n",
       "      <th>NoEmail</th>\n",
       "      <td>25656</td>\n",
       "      <td>2</td>\n",
       "      <td>False</td>\n",
       "      <td>23681</td>\n",
       "      <td>NaN</td>\n",
       "      <td>NaN</td>\n",
       "      <td>NaN</td>\n",
       "      <td>NaN</td>\n",
       "      <td>NaN</td>\n",
       "      <td>NaN</td>\n",
       "      <td>NaN</td>\n",
       "    </tr>\n",
       "    <tr>\n",
       "      <th>ReferralCompany</th>\n",
       "      <td>25656</td>\n",
       "      <td>5</td>\n",
       "      <td>A Place for Mom</td>\n",
       "      <td>18052</td>\n",
       "      <td>NaN</td>\n",
       "      <td>NaN</td>\n",
       "      <td>NaN</td>\n",
       "      <td>NaN</td>\n",
       "      <td>NaN</td>\n",
       "      <td>NaN</td>\n",
       "      <td>NaN</td>\n",
       "    </tr>\n",
       "    <tr>\n",
       "      <th>CurrentStatus</th>\n",
       "      <td>25656</td>\n",
       "      <td>4</td>\n",
       "      <td>Deactivated</td>\n",
       "      <td>12489</td>\n",
       "      <td>NaN</td>\n",
       "      <td>NaN</td>\n",
       "      <td>NaN</td>\n",
       "      <td>NaN</td>\n",
       "      <td>NaN</td>\n",
       "      <td>NaN</td>\n",
       "      <td>NaN</td>\n",
       "    </tr>\n",
       "    <tr>\n",
       "      <th>moveIn</th>\n",
       "      <td>25656</td>\n",
       "      <td>NaN</td>\n",
       "      <td>NaN</td>\n",
       "      <td>NaN</td>\n",
       "      <td>0.223651</td>\n",
       "      <td>0.416699</td>\n",
       "      <td>0</td>\n",
       "      <td>0</td>\n",
       "      <td>0</td>\n",
       "      <td>0</td>\n",
       "      <td>1</td>\n",
       "    </tr>\n",
       "    <tr>\n",
       "      <th>Personal Letter</th>\n",
       "      <td>24779</td>\n",
       "      <td>NaN</td>\n",
       "      <td>NaN</td>\n",
       "      <td>NaN</td>\n",
       "      <td>0.542919</td>\n",
       "      <td>1.003</td>\n",
       "      <td>0</td>\n",
       "      <td>0</td>\n",
       "      <td>0</td>\n",
       "      <td>1</td>\n",
       "      <td>16</td>\n",
       "    </tr>\n",
       "    <tr>\n",
       "      <th>Call</th>\n",
       "      <td>24779</td>\n",
       "      <td>NaN</td>\n",
       "      <td>NaN</td>\n",
       "      <td>NaN</td>\n",
       "      <td>3.58368</td>\n",
       "      <td>3.83915</td>\n",
       "      <td>0</td>\n",
       "      <td>1</td>\n",
       "      <td>2</td>\n",
       "      <td>5</td>\n",
       "      <td>67</td>\n",
       "    </tr>\n",
       "    <tr>\n",
       "      <th>Email</th>\n",
       "      <td>24779</td>\n",
       "      <td>NaN</td>\n",
       "      <td>NaN</td>\n",
       "      <td>NaN</td>\n",
       "      <td>2.41947</td>\n",
       "      <td>2.67649</td>\n",
       "      <td>0</td>\n",
       "      <td>1</td>\n",
       "      <td>2</td>\n",
       "      <td>3</td>\n",
       "      <td>94</td>\n",
       "    </tr>\n",
       "    <tr>\n",
       "      <th>Tour</th>\n",
       "      <td>24779</td>\n",
       "      <td>NaN</td>\n",
       "      <td>NaN</td>\n",
       "      <td>NaN</td>\n",
       "      <td>0.661931</td>\n",
       "      <td>1.08447</td>\n",
       "      <td>0</td>\n",
       "      <td>0</td>\n",
       "      <td>0</td>\n",
       "      <td>1</td>\n",
       "      <td>14</td>\n",
       "    </tr>\n",
       "    <tr>\n",
       "      <th>Visit</th>\n",
       "      <td>24779</td>\n",
       "      <td>NaN</td>\n",
       "      <td>NaN</td>\n",
       "      <td>NaN</td>\n",
       "      <td>0.083942</td>\n",
       "      <td>0.36369</td>\n",
       "      <td>0</td>\n",
       "      <td>0</td>\n",
       "      <td>0</td>\n",
       "      <td>0</td>\n",
       "      <td>11</td>\n",
       "    </tr>\n",
       "    <tr>\n",
       "      <th>Assessment</th>\n",
       "      <td>24779</td>\n",
       "      <td>NaN</td>\n",
       "      <td>NaN</td>\n",
       "      <td>NaN</td>\n",
       "      <td>0.0294604</td>\n",
       "      <td>0.182415</td>\n",
       "      <td>0</td>\n",
       "      <td>0</td>\n",
       "      <td>0</td>\n",
       "      <td>0</td>\n",
       "      <td>4</td>\n",
       "    </tr>\n",
       "    <tr>\n",
       "      <th>Community Event</th>\n",
       "      <td>24779</td>\n",
       "      <td>NaN</td>\n",
       "      <td>NaN</td>\n",
       "      <td>NaN</td>\n",
       "      <td>0.0159409</td>\n",
       "      <td>0.148268</td>\n",
       "      <td>0</td>\n",
       "      <td>0</td>\n",
       "      <td>0</td>\n",
       "      <td>0</td>\n",
       "      <td>5</td>\n",
       "    </tr>\n",
       "    <tr>\n",
       "      <th>Mass Communication</th>\n",
       "      <td>24779</td>\n",
       "      <td>NaN</td>\n",
       "      <td>NaN</td>\n",
       "      <td>NaN</td>\n",
       "      <td>0.0663869</td>\n",
       "      <td>0.422537</td>\n",
       "      <td>0</td>\n",
       "      <td>0</td>\n",
       "      <td>0</td>\n",
       "      <td>0</td>\n",
       "      <td>12</td>\n",
       "    </tr>\n",
       "    <tr>\n",
       "      <th>Text Message</th>\n",
       "      <td>24779</td>\n",
       "      <td>NaN</td>\n",
       "      <td>NaN</td>\n",
       "      <td>NaN</td>\n",
       "      <td>0.0274426</td>\n",
       "      <td>0.343954</td>\n",
       "      <td>0</td>\n",
       "      <td>0</td>\n",
       "      <td>0</td>\n",
       "      <td>0</td>\n",
       "      <td>15</td>\n",
       "    </tr>\n",
       "    <tr>\n",
       "      <th>Short Stay</th>\n",
       "      <td>24779</td>\n",
       "      <td>NaN</td>\n",
       "      <td>NaN</td>\n",
       "      <td>NaN</td>\n",
       "      <td>0.0041971</td>\n",
       "      <td>0.0700436</td>\n",
       "      <td>0</td>\n",
       "      <td>0</td>\n",
       "      <td>0</td>\n",
       "      <td>0</td>\n",
       "      <td>3</td>\n",
       "    </tr>\n",
       "    <tr>\n",
       "      <th>Gift</th>\n",
       "      <td>24779</td>\n",
       "      <td>NaN</td>\n",
       "      <td>NaN</td>\n",
       "      <td>NaN</td>\n",
       "      <td>0.00100892</td>\n",
       "      <td>0.0329948</td>\n",
       "      <td>0</td>\n",
       "      <td>0</td>\n",
       "      <td>0</td>\n",
       "      <td>0</td>\n",
       "      <td>2</td>\n",
       "    </tr>\n",
       "  </tbody>\n",
       "</table>\n",
       "</div>"
      ],
      "text/plain": [
       "                    count unique              top   freq        mean  \\\n",
       "AgeatInquiry        23899    NaN              NaN    NaN     81.5969   \n",
       "CareLevel           25538      5                A   9777         NaN   \n",
       "Gender              25641      2           Female  15866         NaN   \n",
       "Marital             25656      5          Unknown  20997         NaN   \n",
       "Veteran             25656      2             True  17446         NaN   \n",
       "CurrentResidence    22499      4   Living at Home  14887         NaN   \n",
       "UnitPreference      25656      7          Unknown  23430         NaN   \n",
       "ProvidedEmail       25656      2            False  20795         NaN   \n",
       "ProvidedPhone       25656      2            False  19438         NaN   \n",
       "Budget              23597      6      3,000-4,000   6567         NaN   \n",
       "RequestedVisit      25656      2            False  18652         NaN   \n",
       "NoCall              25656      2            False  24536         NaN   \n",
       "NoEmail             25656      2            False  23681         NaN   \n",
       "ReferralCompany     25656      5  A Place for Mom  18052         NaN   \n",
       "CurrentStatus       25656      4      Deactivated  12489         NaN   \n",
       "moveIn              25656    NaN              NaN    NaN    0.223651   \n",
       "Personal Letter     24779    NaN              NaN    NaN    0.542919   \n",
       "Call                24779    NaN              NaN    NaN     3.58368   \n",
       "Email               24779    NaN              NaN    NaN     2.41947   \n",
       "Tour                24779    NaN              NaN    NaN    0.661931   \n",
       "Visit               24779    NaN              NaN    NaN    0.083942   \n",
       "Assessment          24779    NaN              NaN    NaN   0.0294604   \n",
       "Community Event     24779    NaN              NaN    NaN   0.0159409   \n",
       "Mass Communication  24779    NaN              NaN    NaN   0.0663869   \n",
       "Text Message        24779    NaN              NaN    NaN   0.0274426   \n",
       "Short Stay          24779    NaN              NaN    NaN   0.0041971   \n",
       "Gift                24779    NaN              NaN    NaN  0.00100892   \n",
       "\n",
       "                          std  min  25%  50%  75%  max  \n",
       "AgeatInquiry          10.8419  -14   77   83   88  185  \n",
       "CareLevel                 NaN  NaN  NaN  NaN  NaN  NaN  \n",
       "Gender                    NaN  NaN  NaN  NaN  NaN  NaN  \n",
       "Marital                   NaN  NaN  NaN  NaN  NaN  NaN  \n",
       "Veteran                   NaN  NaN  NaN  NaN  NaN  NaN  \n",
       "CurrentResidence          NaN  NaN  NaN  NaN  NaN  NaN  \n",
       "UnitPreference            NaN  NaN  NaN  NaN  NaN  NaN  \n",
       "ProvidedEmail             NaN  NaN  NaN  NaN  NaN  NaN  \n",
       "ProvidedPhone             NaN  NaN  NaN  NaN  NaN  NaN  \n",
       "Budget                    NaN  NaN  NaN  NaN  NaN  NaN  \n",
       "RequestedVisit            NaN  NaN  NaN  NaN  NaN  NaN  \n",
       "NoCall                    NaN  NaN  NaN  NaN  NaN  NaN  \n",
       "NoEmail                   NaN  NaN  NaN  NaN  NaN  NaN  \n",
       "ReferralCompany           NaN  NaN  NaN  NaN  NaN  NaN  \n",
       "CurrentStatus             NaN  NaN  NaN  NaN  NaN  NaN  \n",
       "moveIn               0.416699    0    0    0    0    1  \n",
       "Personal Letter         1.003    0    0    0    1   16  \n",
       "Call                  3.83915    0    1    2    5   67  \n",
       "Email                 2.67649    0    1    2    3   94  \n",
       "Tour                  1.08447    0    0    0    1   14  \n",
       "Visit                 0.36369    0    0    0    0   11  \n",
       "Assessment           0.182415    0    0    0    0    4  \n",
       "Community Event      0.148268    0    0    0    0    5  \n",
       "Mass Communication   0.422537    0    0    0    0   12  \n",
       "Text Message         0.343954    0    0    0    0   15  \n",
       "Short Stay          0.0700436    0    0    0    0    3  \n",
       "Gift                0.0329948    0    0    0    0    2  "
      ]
     },
     "execution_count": 55,
     "metadata": {},
     "output_type": "execute_result"
    }
   ],
   "source": [
    "df_total.describe(include='all').T"
   ]
  },
  {
   "cell_type": "code",
   "execution_count": 57,
   "metadata": {},
   "outputs": [
    {
     "data": {
      "text/plain": [
       "<matplotlib.axes._subplots.AxesSubplot at 0x1158b1278>"
      ]
     },
     "execution_count": 57,
     "metadata": {},
     "output_type": "execute_result"
    },
    {
     "data": {
      "image/png": "[encoded data removed]",
      "text/plain": [
       "<matplotlib.figure.Figure at 0x11ad3f400>"
      ]
     },
     "metadata": {},
     "output_type": "display_data"
    }
   ],
   "source": [
    "df_total.boxplot(column='AgeatInquiry')"
   ]
  },
  {
   "cell_type": "code",
   "execution_count": 58,
   "metadata": {},
   "outputs": [
    {
     "data": {
      "text/plain": [
       "array([[<matplotlib.axes._subplots.AxesSubplot object at 0x125fe5320>]], dtype=object)"
      ]
     },
     "execution_count": 58,
     "metadata": {},
     "output_type": "execute_result"
    },
    {
     "data": {
      "image/png": "[encoded data removed]",
      "text/plain": [
       "<matplotlib.figure.Figure at 0x125ff74a8>"
      ]
     },
     "metadata": {},
     "output_type": "display_data"
    }
   ],
   "source": [
    "df_total.hist(column='AgeatInquiry')"
   ]
  },
  {
   "cell_type": "code",
   "execution_count": 132,
   "metadata": {
    "collapsed": true
   },
   "outputs": [],
   "source": [
    "df_total = pd.read_csv('df_total.csv')"
   ]
  },
  {
   "cell_type": "code",
   "execution_count": 133,
   "metadata": {
    "collapsed": true
   },
   "outputs": [],
   "source": [
    "# There are a lot of outliners including some wrong numbers like negative values. We use IQR method to remove them\n",
    "# Also if the instance moves in, we will keep it\n",
    "Q1 = df_total['AgeatInquiry'].quantile(0.25)\n",
    "Q3 = df_total['AgeatInquiry'].quantile(0.75)\n",
    "IQR = Q3 - Q1\n",
    "\n",
    "for inx in df_total.index:\n",
    "    if df_total.loc[inx]['AgeatInquiry'] < Q1 - 1.5*(IQR):\n",
    "        df_total.drop([inx], axis=0, inplace=True)\n",
    "    elif df_total.loc[inx]['AgeatInquiry'] > Q1 + 1.5*(IQR):\n",
    "        df_total.drop([inx], axis=0, inplace=True)\n",
    "    else:\n",
    "        continue"
   ]
  },
  {
   "cell_type": "code",
   "execution_count": 129,
   "metadata": {},
   "outputs": [
    {
     "data": {
      "text/plain": [
       "(23711, 27)"
      ]
     },
     "execution_count": 129,
     "metadata": {},
     "output_type": "execute_result"
    }
   ],
   "source": [
    "df_total.shape"
   ]
  },
  {
   "cell_type": "code",
   "execution_count": 130,
   "metadata": {},
   "outputs": [
    {
     "data": {
      "text/plain": [
       "array([[<matplotlib.axes._subplots.AxesSubplot object at 0x127501358>]], dtype=object)"
      ]
     },
     "execution_count": 130,
     "metadata": {},
     "output_type": "execute_result"
    },
    {
     "data": {
      "image/png": "[encoded data removed]",
      "text/plain": [
       "<matplotlib.figure.Figure at 0x1274aee80>"
      ]
     },
     "metadata": {},
     "output_type": "display_data"
    }
   ],
   "source": [
    "df_total.hist(column='AgeatInquiry')"
   ]
  },
  {
   "cell_type": "code",
   "execution_count": 112,
   "metadata": {},
   "outputs": [
    {
     "data": {
      "text/plain": [
       "<matplotlib.axes._subplots.AxesSubplot at 0x12766f1d0>"
      ]
     },
     "execution_count": 112,
     "metadata": {},
     "output_type": "execute_result"
    },
    {
     "data": {
      "image/png": "[encoded data removed]",
      "text/plain": [
       "<matplotlib.figure.Figure at 0x12768c320>"
      ]
     },
     "metadata": {},
     "output_type": "display_data"
    }
   ],
   "source": [
    "df_total.boxplot(column='AgeatInquiry')"
   ]
  },
  {
   "cell_type": "code",
   "execution_count": 134,
   "metadata": {},
   "outputs": [
    {
     "data": {
      "text/html": [
       "<div>\n",
       "<style>\n",
       "    .dataframe thead tr:only-child th {\n",
       "        text-align: right;\n",
       "    }\n",
       "\n",
       "    .dataframe thead th {\n",
       "        text-align: left;\n",
       "    }\n",
       "\n",
       "    .dataframe tbody tr th {\n",
       "        vertical-align: top;\n",
       "    }\n",
       "</style>\n",
       "<table border=\"1\" class=\"dataframe\">\n",
       "  <thead>\n",
       "    <tr style=\"text-align: right;\">\n",
       "      <th></th>\n",
       "      <th>count</th>\n",
       "      <th>unique</th>\n",
       "      <th>top</th>\n",
       "      <th>freq</th>\n",
       "      <th>mean</th>\n",
       "      <th>std</th>\n",
       "      <th>min</th>\n",
       "      <th>25%</th>\n",
       "      <th>50%</th>\n",
       "      <th>75%</th>\n",
       "      <th>max</th>\n",
       "    </tr>\n",
       "  </thead>\n",
       "  <tbody>\n",
       "    <tr>\n",
       "      <th>AgeatInquiry</th>\n",
       "      <td>21954</td>\n",
       "      <td>NaN</td>\n",
       "      <td>NaN</td>\n",
       "      <td>NaN</td>\n",
       "      <td>81.4616</td>\n",
       "      <td>7.50701</td>\n",
       "      <td>61</td>\n",
       "      <td>76</td>\n",
       "      <td>83</td>\n",
       "      <td>87</td>\n",
       "      <td>93</td>\n",
       "    </tr>\n",
       "    <tr>\n",
       "      <th>CareLevel</th>\n",
       "      <td>23594</td>\n",
       "      <td>5</td>\n",
       "      <td>A</td>\n",
       "      <td>8920</td>\n",
       "      <td>NaN</td>\n",
       "      <td>NaN</td>\n",
       "      <td>NaN</td>\n",
       "      <td>NaN</td>\n",
       "      <td>NaN</td>\n",
       "      <td>NaN</td>\n",
       "      <td>NaN</td>\n",
       "    </tr>\n",
       "    <tr>\n",
       "      <th>Gender</th>\n",
       "      <td>23697</td>\n",
       "      <td>2</td>\n",
       "      <td>Female</td>\n",
       "      <td>14606</td>\n",
       "      <td>NaN</td>\n",
       "      <td>NaN</td>\n",
       "      <td>NaN</td>\n",
       "      <td>NaN</td>\n",
       "      <td>NaN</td>\n",
       "      <td>NaN</td>\n",
       "      <td>NaN</td>\n",
       "    </tr>\n",
       "    <tr>\n",
       "      <th>Marital</th>\n",
       "      <td>23711</td>\n",
       "      <td>5</td>\n",
       "      <td>Unknown</td>\n",
       "      <td>19381</td>\n",
       "      <td>NaN</td>\n",
       "      <td>NaN</td>\n",
       "      <td>NaN</td>\n",
       "      <td>NaN</td>\n",
       "      <td>NaN</td>\n",
       "      <td>NaN</td>\n",
       "      <td>NaN</td>\n",
       "    </tr>\n",
       "    <tr>\n",
       "      <th>Veteran</th>\n",
       "      <td>23711</td>\n",
       "      <td>2</td>\n",
       "      <td>True</td>\n",
       "      <td>16015</td>\n",
       "      <td>NaN</td>\n",
       "      <td>NaN</td>\n",
       "      <td>NaN</td>\n",
       "      <td>NaN</td>\n",
       "      <td>NaN</td>\n",
       "      <td>NaN</td>\n",
       "      <td>NaN</td>\n",
       "    </tr>\n",
       "    <tr>\n",
       "      <th>CurrentResidence</th>\n",
       "      <td>20800</td>\n",
       "      <td>4</td>\n",
       "      <td>Living at Home</td>\n",
       "      <td>13957</td>\n",
       "      <td>NaN</td>\n",
       "      <td>NaN</td>\n",
       "      <td>NaN</td>\n",
       "      <td>NaN</td>\n",
       "      <td>NaN</td>\n",
       "      <td>NaN</td>\n",
       "      <td>NaN</td>\n",
       "    </tr>\n",
       "    <tr>\n",
       "      <th>UnitPreference</th>\n",
       "      <td>23711</td>\n",
       "      <td>7</td>\n",
       "      <td>Unknown</td>\n",
       "      <td>21627</td>\n",
       "      <td>NaN</td>\n",
       "      <td>NaN</td>\n",
       "      <td>NaN</td>\n",
       "      <td>NaN</td>\n",
       "      <td>NaN</td>\n",
       "      <td>NaN</td>\n",
       "      <td>NaN</td>\n",
       "    </tr>\n",
       "    <tr>\n",
       "      <th>ProvidedEmail</th>\n",
       "      <td>23711</td>\n",
       "      <td>2</td>\n",
       "      <td>False</td>\n",
       "      <td>19074</td>\n",
       "      <td>NaN</td>\n",
       "      <td>NaN</td>\n",
       "      <td>NaN</td>\n",
       "      <td>NaN</td>\n",
       "      <td>NaN</td>\n",
       "      <td>NaN</td>\n",
       "      <td>NaN</td>\n",
       "    </tr>\n",
       "    <tr>\n",
       "      <th>ProvidedPhone</th>\n",
       "      <td>23711</td>\n",
       "      <td>2</td>\n",
       "      <td>False</td>\n",
       "      <td>17826</td>\n",
       "      <td>NaN</td>\n",
       "      <td>NaN</td>\n",
       "      <td>NaN</td>\n",
       "      <td>NaN</td>\n",
       "      <td>NaN</td>\n",
       "      <td>NaN</td>\n",
       "      <td>NaN</td>\n",
       "    </tr>\n",
       "    <tr>\n",
       "      <th>Budget</th>\n",
       "      <td>21731</td>\n",
       "      <td>6</td>\n",
       "      <td>3,000-4,000</td>\n",
       "      <td>6026</td>\n",
       "      <td>NaN</td>\n",
       "      <td>NaN</td>\n",
       "      <td>NaN</td>\n",
       "      <td>NaN</td>\n",
       "      <td>NaN</td>\n",
       "      <td>NaN</td>\n",
       "      <td>NaN</td>\n",
       "    </tr>\n",
       "    <tr>\n",
       "      <th>RequestedVisit</th>\n",
       "      <td>23711</td>\n",
       "      <td>2</td>\n",
       "      <td>False</td>\n",
       "      <td>17204</td>\n",
       "      <td>NaN</td>\n",
       "      <td>NaN</td>\n",
       "      <td>NaN</td>\n",
       "      <td>NaN</td>\n",
       "      <td>NaN</td>\n",
       "      <td>NaN</td>\n",
       "      <td>NaN</td>\n",
       "    </tr>\n",
       "    <tr>\n",
       "      <th>NoCall</th>\n",
       "      <td>23711</td>\n",
       "      <td>2</td>\n",
       "      <td>False</td>\n",
       "      <td>22656</td>\n",
       "      <td>NaN</td>\n",
       "      <td>NaN</td>\n",
       "      <td>NaN</td>\n",
       "      <td>NaN</td>\n",
       "      <td>NaN</td>\n",
       "      <td>NaN</td>\n",
       "      <td>NaN</td>\n",
       "    </tr>\n",
       "    <tr>\n",
       "      <th>NoEmail</th>\n",
       "      <td>23711</td>\n",
       "      <td>2</td>\n",
       "      <td>False</td>\n",
       "      <td>21810</td>\n",
       "      <td>NaN</td>\n",
       "      <td>NaN</td>\n",
       "      <td>NaN</td>\n",
       "      <td>NaN</td>\n",
       "      <td>NaN</td>\n",
       "      <td>NaN</td>\n",
       "      <td>NaN</td>\n",
       "    </tr>\n",
       "    <tr>\n",
       "      <th>ReferralCompany</th>\n",
       "      <td>23711</td>\n",
       "      <td>5</td>\n",
       "      <td>A Place for Mom</td>\n",
       "      <td>16621</td>\n",
       "      <td>NaN</td>\n",
       "      <td>NaN</td>\n",
       "      <td>NaN</td>\n",
       "      <td>NaN</td>\n",
       "      <td>NaN</td>\n",
       "      <td>NaN</td>\n",
       "      <td>NaN</td>\n",
       "    </tr>\n",
       "    <tr>\n",
       "      <th>CurrentStatus</th>\n",
       "      <td>23711</td>\n",
       "      <td>4</td>\n",
       "      <td>Deactivated</td>\n",
       "      <td>11493</td>\n",
       "      <td>NaN</td>\n",
       "      <td>NaN</td>\n",
       "      <td>NaN</td>\n",
       "      <td>NaN</td>\n",
       "      <td>NaN</td>\n",
       "      <td>NaN</td>\n",
       "      <td>NaN</td>\n",
       "    </tr>\n",
       "    <tr>\n",
       "      <th>moveIn</th>\n",
       "      <td>23711</td>\n",
       "      <td>NaN</td>\n",
       "      <td>NaN</td>\n",
       "      <td>NaN</td>\n",
       "      <td>0.222133</td>\n",
       "      <td>0.415689</td>\n",
       "      <td>0</td>\n",
       "      <td>0</td>\n",
       "      <td>0</td>\n",
       "      <td>0</td>\n",
       "      <td>1</td>\n",
       "    </tr>\n",
       "    <tr>\n",
       "      <th>PersonalLetter</th>\n",
       "      <td>22874</td>\n",
       "      <td>NaN</td>\n",
       "      <td>NaN</td>\n",
       "      <td>NaN</td>\n",
       "      <td>0.536155</td>\n",
       "      <td>0.997014</td>\n",
       "      <td>0</td>\n",
       "      <td>0</td>\n",
       "      <td>0</td>\n",
       "      <td>1</td>\n",
       "      <td>16</td>\n",
       "    </tr>\n",
       "    <tr>\n",
       "      <th>Call</th>\n",
       "      <td>22874</td>\n",
       "      <td>NaN</td>\n",
       "      <td>NaN</td>\n",
       "      <td>NaN</td>\n",
       "      <td>3.57441</td>\n",
       "      <td>3.8239</td>\n",
       "      <td>0</td>\n",
       "      <td>1</td>\n",
       "      <td>2</td>\n",
       "      <td>5</td>\n",
       "      <td>67</td>\n",
       "    </tr>\n",
       "    <tr>\n",
       "      <th>Email</th>\n",
       "      <td>22874</td>\n",
       "      <td>NaN</td>\n",
       "      <td>NaN</td>\n",
       "      <td>NaN</td>\n",
       "      <td>2.44483</td>\n",
       "      <td>2.71983</td>\n",
       "      <td>0</td>\n",
       "      <td>1</td>\n",
       "      <td>2</td>\n",
       "      <td>3</td>\n",
       "      <td>94</td>\n",
       "    </tr>\n",
       "    <tr>\n",
       "      <th>Tour</th>\n",
       "      <td>22874</td>\n",
       "      <td>NaN</td>\n",
       "      <td>NaN</td>\n",
       "      <td>NaN</td>\n",
       "      <td>0.652619</td>\n",
       "      <td>1.07705</td>\n",
       "      <td>0</td>\n",
       "      <td>0</td>\n",
       "      <td>0</td>\n",
       "      <td>1</td>\n",
       "      <td>14</td>\n",
       "    </tr>\n",
       "    <tr>\n",
       "      <th>Visit</th>\n",
       "      <td>22874</td>\n",
       "      <td>NaN</td>\n",
       "      <td>NaN</td>\n",
       "      <td>NaN</td>\n",
       "      <td>0.0821457</td>\n",
       "      <td>0.362077</td>\n",
       "      <td>0</td>\n",
       "      <td>0</td>\n",
       "      <td>0</td>\n",
       "      <td>0</td>\n",
       "      <td>11</td>\n",
       "    </tr>\n",
       "    <tr>\n",
       "      <th>Assessment</th>\n",
       "      <td>22874</td>\n",
       "      <td>NaN</td>\n",
       "      <td>NaN</td>\n",
       "      <td>NaN</td>\n",
       "      <td>0.0292909</td>\n",
       "      <td>0.181366</td>\n",
       "      <td>0</td>\n",
       "      <td>0</td>\n",
       "      <td>0</td>\n",
       "      <td>0</td>\n",
       "      <td>4</td>\n",
       "    </tr>\n",
       "    <tr>\n",
       "      <th>CommunityEvent</th>\n",
       "      <td>22874</td>\n",
       "      <td>NaN</td>\n",
       "      <td>NaN</td>\n",
       "      <td>NaN</td>\n",
       "      <td>0.0152575</td>\n",
       "      <td>0.141145</td>\n",
       "      <td>0</td>\n",
       "      <td>0</td>\n",
       "      <td>0</td>\n",
       "      <td>0</td>\n",
       "      <td>5</td>\n",
       "    </tr>\n",
       "    <tr>\n",
       "      <th>MassCommunication</th>\n",
       "      <td>22874</td>\n",
       "      <td>NaN</td>\n",
       "      <td>NaN</td>\n",
       "      <td>NaN</td>\n",
       "      <td>0.0685494</td>\n",
       "      <td>0.42915</td>\n",
       "      <td>0</td>\n",
       "      <td>0</td>\n",
       "      <td>0</td>\n",
       "      <td>0</td>\n",
       "      <td>12</td>\n",
       "    </tr>\n",
       "    <tr>\n",
       "      <th>TextMessage</th>\n",
       "      <td>22874</td>\n",
       "      <td>NaN</td>\n",
       "      <td>NaN</td>\n",
       "      <td>NaN</td>\n",
       "      <td>0.0277608</td>\n",
       "      <td>0.34796</td>\n",
       "      <td>0</td>\n",
       "      <td>0</td>\n",
       "      <td>0</td>\n",
       "      <td>0</td>\n",
       "      <td>15</td>\n",
       "    </tr>\n",
       "    <tr>\n",
       "      <th>ShortStay</th>\n",
       "      <td>22874</td>\n",
       "      <td>NaN</td>\n",
       "      <td>NaN</td>\n",
       "      <td>NaN</td>\n",
       "      <td>0.00389088</td>\n",
       "      <td>0.0676419</td>\n",
       "      <td>0</td>\n",
       "      <td>0</td>\n",
       "      <td>0</td>\n",
       "      <td>0</td>\n",
       "      <td>3</td>\n",
       "    </tr>\n",
       "    <tr>\n",
       "      <th>Gift</th>\n",
       "      <td>22874</td>\n",
       "      <td>NaN</td>\n",
       "      <td>NaN</td>\n",
       "      <td>NaN</td>\n",
       "      <td>0.00104923</td>\n",
       "      <td>0.0336988</td>\n",
       "      <td>0</td>\n",
       "      <td>0</td>\n",
       "      <td>0</td>\n",
       "      <td>0</td>\n",
       "      <td>2</td>\n",
       "    </tr>\n",
       "  </tbody>\n",
       "</table>\n",
       "</div>"
      ],
      "text/plain": [
       "                   count unique              top   freq        mean  \\\n",
       "AgeatInquiry       21954    NaN              NaN    NaN     81.4616   \n",
       "CareLevel          23594      5                A   8920         NaN   \n",
       "Gender             23697      2           Female  14606         NaN   \n",
       "Marital            23711      5          Unknown  19381         NaN   \n",
       "Veteran            23711      2             True  16015         NaN   \n",
       "CurrentResidence   20800      4   Living at Home  13957         NaN   \n",
       "UnitPreference     23711      7          Unknown  21627         NaN   \n",
       "ProvidedEmail      23711      2            False  19074         NaN   \n",
       "ProvidedPhone      23711      2            False  17826         NaN   \n",
       "Budget             21731      6      3,000-4,000   6026         NaN   \n",
       "RequestedVisit     23711      2            False  17204         NaN   \n",
       "NoCall             23711      2            False  22656         NaN   \n",
       "NoEmail            23711      2            False  21810         NaN   \n",
       "ReferralCompany    23711      5  A Place for Mom  16621         NaN   \n",
       "CurrentStatus      23711      4      Deactivated  11493         NaN   \n",
       "moveIn             23711    NaN              NaN    NaN    0.222133   \n",
       "PersonalLetter     22874    NaN              NaN    NaN    0.536155   \n",
       "Call               22874    NaN              NaN    NaN     3.57441   \n",
       "Email              22874    NaN              NaN    NaN     2.44483   \n",
       "Tour               22874    NaN              NaN    NaN    0.652619   \n",
       "Visit              22874    NaN              NaN    NaN   0.0821457   \n",
       "Assessment         22874    NaN              NaN    NaN   0.0292909   \n",
       "CommunityEvent     22874    NaN              NaN    NaN   0.0152575   \n",
       "MassCommunication  22874    NaN              NaN    NaN   0.0685494   \n",
       "TextMessage        22874    NaN              NaN    NaN   0.0277608   \n",
       "ShortStay          22874    NaN              NaN    NaN  0.00389088   \n",
       "Gift               22874    NaN              NaN    NaN  0.00104923   \n",
       "\n",
       "                         std  min  25%  50%  75%  max  \n",
       "AgeatInquiry         7.50701   61   76   83   87   93  \n",
       "CareLevel                NaN  NaN  NaN  NaN  NaN  NaN  \n",
       "Gender                   NaN  NaN  NaN  NaN  NaN  NaN  \n",
       "Marital                  NaN  NaN  NaN  NaN  NaN  NaN  \n",
       "Veteran                  NaN  NaN  NaN  NaN  NaN  NaN  \n",
       "CurrentResidence         NaN  NaN  NaN  NaN  NaN  NaN  \n",
       "UnitPreference           NaN  NaN  NaN  NaN  NaN  NaN  \n",
       "ProvidedEmail            NaN  NaN  NaN  NaN  NaN  NaN  \n",
       "ProvidedPhone            NaN  NaN  NaN  NaN  NaN  NaN  \n",
       "Budget                   NaN  NaN  NaN  NaN  NaN  NaN  \n",
       "RequestedVisit           NaN  NaN  NaN  NaN  NaN  NaN  \n",
       "NoCall                   NaN  NaN  NaN  NaN  NaN  NaN  \n",
       "NoEmail                  NaN  NaN  NaN  NaN  NaN  NaN  \n",
       "ReferralCompany          NaN  NaN  NaN  NaN  NaN  NaN  \n",
       "CurrentStatus            NaN  NaN  NaN  NaN  NaN  NaN  \n",
       "moveIn              0.415689    0    0    0    0    1  \n",
       "PersonalLetter      0.997014    0    0    0    1   16  \n",
       "Call                  3.8239    0    1    2    5   67  \n",
       "Email                2.71983    0    1    2    3   94  \n",
       "Tour                 1.07705    0    0    0    1   14  \n",
       "Visit               0.362077    0    0    0    0   11  \n",
       "Assessment          0.181366    0    0    0    0    4  \n",
       "CommunityEvent      0.141145    0    0    0    0    5  \n",
       "MassCommunication    0.42915    0    0    0    0   12  \n",
       "TextMessage          0.34796    0    0    0    0   15  \n",
       "ShortStay          0.0676419    0    0    0    0    3  \n",
       "Gift               0.0336988    0    0    0    0    2  "
      ]
     },
     "execution_count": 134,
     "metadata": {},
     "output_type": "execute_result"
    }
   ],
   "source": [
    "df_total.describe(include='all').T"
   ]
  },
  {
   "cell_type": "code",
   "execution_count": 122,
   "metadata": {},
   "outputs": [
    {
     "data": {
      "text/plain": [
       "0    18444\n",
       "1     5267\n",
       "Name: moveIn, dtype: int64"
      ]
     },
     "execution_count": 122,
     "metadata": {},
     "output_type": "execute_result"
    }
   ],
   "source": [
    "df_total.moveIn.value_counts()"
   ]
  },
  {
   "cell_type": "code",
   "execution_count": 135,
   "metadata": {
    "collapsed": true
   },
   "outputs": [],
   "source": [
    "###fit missing value\n",
    "##fit numerical missing value\n",
    "#fit age\n",
    "A_M = df_total.AgeatInquiry.mean()\n",
    "A_M = round(A_M,2)\n",
    "df_total.AgeatInquiry.fillna(A_M, axis=0, inplace=True)\n",
    "#fit target \n",
    "df_total.PersonalLetter.fillna(0, axis=0, inplace=True)\n",
    "df_total.Call.fillna(0, axis=0, inplace=True)\n",
    "df_total.Email.fillna(0, axis=0, inplace=True)\n",
    "df_total.Tour.fillna(0, axis=0, inplace=True)\n",
    "df_total.Visit.fillna(0, axis=0, inplace=True)\n",
    "df_total.Assessment.fillna(0, axis=0, inplace=True)\n",
    "df_total.CommunityEvent.fillna(0, axis=0, inplace=True)\n",
    "df_total.MassCommunication.fillna(0, axis=0, inplace=True)\n",
    "df_total.TextMessage.fillna(0, axis=0, inplace=True)\n",
    "df_total.ShortStay.fillna(0, axis=0, inplace=True)\n",
    "df_total.Gift.fillna(0, axis=0, inplace=True)\n",
    "##fit categorical missing value with MOD\n",
    "#fit CareLevel\n",
    "df_total.CareLevel.fillna('A', axis=0, inplace=True)\n",
    "#fit Gender\n",
    "df_total.Gender.fillna('Female', axis=0, inplace=True)\n",
    "#fit Budget\n",
    "df_total.Budget.fillna('3,000-4,000', axis=0, inplace=True)\n",
    "#fit CurrentResidence\n",
    "df_total.CurrentResidence.fillna('Living at Home', axis=0, inplace=True)\n",
    "#df_total.isnull().values.any()"
   ]
  },
  {
   "cell_type": "code",
   "execution_count": 212,
   "metadata": {},
   "outputs": [
    {
     "data": {
      "text/html": [
       "<div>\n",
       "<style>\n",
       "    .dataframe thead tr:only-child th {\n",
       "        text-align: right;\n",
       "    }\n",
       "\n",
       "    .dataframe thead th {\n",
       "        text-align: left;\n",
       "    }\n",
       "\n",
       "    .dataframe tbody tr th {\n",
       "        vertical-align: top;\n",
       "    }\n",
       "</style>\n",
       "<table border=\"1\" class=\"dataframe\">\n",
       "  <thead>\n",
       "    <tr style=\"text-align: right;\">\n",
       "      <th></th>\n",
       "      <th>count</th>\n",
       "      <th>unique</th>\n",
       "      <th>top</th>\n",
       "      <th>freq</th>\n",
       "      <th>mean</th>\n",
       "      <th>std</th>\n",
       "      <th>min</th>\n",
       "      <th>25%</th>\n",
       "      <th>50%</th>\n",
       "      <th>75%</th>\n",
       "      <th>max</th>\n",
       "    </tr>\n",
       "  </thead>\n",
       "  <tbody>\n",
       "    <tr>\n",
       "      <th>AgeatInquiry</th>\n",
       "      <td>23711</td>\n",
       "      <td>NaN</td>\n",
       "      <td>NaN</td>\n",
       "      <td>NaN</td>\n",
       "      <td>81.4615</td>\n",
       "      <td>7.22351</td>\n",
       "      <td>61</td>\n",
       "      <td>77</td>\n",
       "      <td>82</td>\n",
       "      <td>87</td>\n",
       "      <td>93</td>\n",
       "    </tr>\n",
       "    <tr>\n",
       "      <th>CareLevel</th>\n",
       "      <td>23711</td>\n",
       "      <td>5</td>\n",
       "      <td>A</td>\n",
       "      <td>9037</td>\n",
       "      <td>NaN</td>\n",
       "      <td>NaN</td>\n",
       "      <td>NaN</td>\n",
       "      <td>NaN</td>\n",
       "      <td>NaN</td>\n",
       "      <td>NaN</td>\n",
       "      <td>NaN</td>\n",
       "    </tr>\n",
       "    <tr>\n",
       "      <th>Gender</th>\n",
       "      <td>23711</td>\n",
       "      <td>2</td>\n",
       "      <td>Female</td>\n",
       "      <td>14620</td>\n",
       "      <td>NaN</td>\n",
       "      <td>NaN</td>\n",
       "      <td>NaN</td>\n",
       "      <td>NaN</td>\n",
       "      <td>NaN</td>\n",
       "      <td>NaN</td>\n",
       "      <td>NaN</td>\n",
       "    </tr>\n",
       "    <tr>\n",
       "      <th>Marital</th>\n",
       "      <td>23711</td>\n",
       "      <td>5</td>\n",
       "      <td>Unknown</td>\n",
       "      <td>19381</td>\n",
       "      <td>NaN</td>\n",
       "      <td>NaN</td>\n",
       "      <td>NaN</td>\n",
       "      <td>NaN</td>\n",
       "      <td>NaN</td>\n",
       "      <td>NaN</td>\n",
       "      <td>NaN</td>\n",
       "    </tr>\n",
       "    <tr>\n",
       "      <th>Veteran</th>\n",
       "      <td>23711</td>\n",
       "      <td>2</td>\n",
       "      <td>True</td>\n",
       "      <td>16015</td>\n",
       "      <td>NaN</td>\n",
       "      <td>NaN</td>\n",
       "      <td>NaN</td>\n",
       "      <td>NaN</td>\n",
       "      <td>NaN</td>\n",
       "      <td>NaN</td>\n",
       "      <td>NaN</td>\n",
       "    </tr>\n",
       "    <tr>\n",
       "      <th>CurrentResidence</th>\n",
       "      <td>23711</td>\n",
       "      <td>4</td>\n",
       "      <td>Living at Home</td>\n",
       "      <td>16868</td>\n",
       "      <td>NaN</td>\n",
       "      <td>NaN</td>\n",
       "      <td>NaN</td>\n",
       "      <td>NaN</td>\n",
       "      <td>NaN</td>\n",
       "      <td>NaN</td>\n",
       "      <td>NaN</td>\n",
       "    </tr>\n",
       "    <tr>\n",
       "      <th>UnitPreference</th>\n",
       "      <td>23711</td>\n",
       "      <td>7</td>\n",
       "      <td>Unknown</td>\n",
       "      <td>21627</td>\n",
       "      <td>NaN</td>\n",
       "      <td>NaN</td>\n",
       "      <td>NaN</td>\n",
       "      <td>NaN</td>\n",
       "      <td>NaN</td>\n",
       "      <td>NaN</td>\n",
       "      <td>NaN</td>\n",
       "    </tr>\n",
       "    <tr>\n",
       "      <th>ProvidedEmail</th>\n",
       "      <td>23711</td>\n",
       "      <td>2</td>\n",
       "      <td>False</td>\n",
       "      <td>19074</td>\n",
       "      <td>NaN</td>\n",
       "      <td>NaN</td>\n",
       "      <td>NaN</td>\n",
       "      <td>NaN</td>\n",
       "      <td>NaN</td>\n",
       "      <td>NaN</td>\n",
       "      <td>NaN</td>\n",
       "    </tr>\n",
       "    <tr>\n",
       "      <th>ProvidedPhone</th>\n",
       "      <td>23711</td>\n",
       "      <td>2</td>\n",
       "      <td>False</td>\n",
       "      <td>17826</td>\n",
       "      <td>NaN</td>\n",
       "      <td>NaN</td>\n",
       "      <td>NaN</td>\n",
       "      <td>NaN</td>\n",
       "      <td>NaN</td>\n",
       "      <td>NaN</td>\n",
       "      <td>NaN</td>\n",
       "    </tr>\n",
       "    <tr>\n",
       "      <th>Budget</th>\n",
       "      <td>23711</td>\n",
       "      <td>6</td>\n",
       "      <td>3,000-4,000</td>\n",
       "      <td>8006</td>\n",
       "      <td>NaN</td>\n",
       "      <td>NaN</td>\n",
       "      <td>NaN</td>\n",
       "      <td>NaN</td>\n",
       "      <td>NaN</td>\n",
       "      <td>NaN</td>\n",
       "      <td>NaN</td>\n",
       "    </tr>\n",
       "    <tr>\n",
       "      <th>RequestedVisit</th>\n",
       "      <td>23711</td>\n",
       "      <td>2</td>\n",
       "      <td>False</td>\n",
       "      <td>17204</td>\n",
       "      <td>NaN</td>\n",
       "      <td>NaN</td>\n",
       "      <td>NaN</td>\n",
       "      <td>NaN</td>\n",
       "      <td>NaN</td>\n",
       "      <td>NaN</td>\n",
       "      <td>NaN</td>\n",
       "    </tr>\n",
       "    <tr>\n",
       "      <th>NoCall</th>\n",
       "      <td>23711</td>\n",
       "      <td>2</td>\n",
       "      <td>False</td>\n",
       "      <td>22656</td>\n",
       "      <td>NaN</td>\n",
       "      <td>NaN</td>\n",
       "      <td>NaN</td>\n",
       "      <td>NaN</td>\n",
       "      <td>NaN</td>\n",
       "      <td>NaN</td>\n",
       "      <td>NaN</td>\n",
       "    </tr>\n",
       "    <tr>\n",
       "      <th>NoEmail</th>\n",
       "      <td>23711</td>\n",
       "      <td>2</td>\n",
       "      <td>False</td>\n",
       "      <td>21810</td>\n",
       "      <td>NaN</td>\n",
       "      <td>NaN</td>\n",
       "      <td>NaN</td>\n",
       "      <td>NaN</td>\n",
       "      <td>NaN</td>\n",
       "      <td>NaN</td>\n",
       "      <td>NaN</td>\n",
       "    </tr>\n",
       "    <tr>\n",
       "      <th>ReferralCompany</th>\n",
       "      <td>23711</td>\n",
       "      <td>5</td>\n",
       "      <td>A Place for Mom</td>\n",
       "      <td>16621</td>\n",
       "      <td>NaN</td>\n",
       "      <td>NaN</td>\n",
       "      <td>NaN</td>\n",
       "      <td>NaN</td>\n",
       "      <td>NaN</td>\n",
       "      <td>NaN</td>\n",
       "      <td>NaN</td>\n",
       "    </tr>\n",
       "    <tr>\n",
       "      <th>moveIn</th>\n",
       "      <td>23711</td>\n",
       "      <td>NaN</td>\n",
       "      <td>NaN</td>\n",
       "      <td>NaN</td>\n",
       "      <td>0.222133</td>\n",
       "      <td>0.415689</td>\n",
       "      <td>0</td>\n",
       "      <td>0</td>\n",
       "      <td>0</td>\n",
       "      <td>0</td>\n",
       "      <td>1</td>\n",
       "    </tr>\n",
       "    <tr>\n",
       "      <th>PersonalLetter</th>\n",
       "      <td>23711</td>\n",
       "      <td>NaN</td>\n",
       "      <td>NaN</td>\n",
       "      <td>NaN</td>\n",
       "      <td>0.517228</td>\n",
       "      <td>0.984243</td>\n",
       "      <td>0</td>\n",
       "      <td>0</td>\n",
       "      <td>0</td>\n",
       "      <td>1</td>\n",
       "      <td>16</td>\n",
       "    </tr>\n",
       "    <tr>\n",
       "      <th>Call</th>\n",
       "      <td>23711</td>\n",
       "      <td>NaN</td>\n",
       "      <td>NaN</td>\n",
       "      <td>NaN</td>\n",
       "      <td>3.44823</td>\n",
       "      <td>3.81328</td>\n",
       "      <td>0</td>\n",
       "      <td>1</td>\n",
       "      <td>2</td>\n",
       "      <td>4.5</td>\n",
       "      <td>67</td>\n",
       "    </tr>\n",
       "    <tr>\n",
       "      <th>Email</th>\n",
       "      <td>23711</td>\n",
       "      <td>NaN</td>\n",
       "      <td>NaN</td>\n",
       "      <td>NaN</td>\n",
       "      <td>2.35853</td>\n",
       "      <td>2.70923</td>\n",
       "      <td>0</td>\n",
       "      <td>1</td>\n",
       "      <td>2</td>\n",
       "      <td>3</td>\n",
       "      <td>94</td>\n",
       "    </tr>\n",
       "    <tr>\n",
       "      <th>Tour</th>\n",
       "      <td>23711</td>\n",
       "      <td>NaN</td>\n",
       "      <td>NaN</td>\n",
       "      <td>NaN</td>\n",
       "      <td>0.629581</td>\n",
       "      <td>1.06471</td>\n",
       "      <td>0</td>\n",
       "      <td>0</td>\n",
       "      <td>0</td>\n",
       "      <td>1</td>\n",
       "      <td>14</td>\n",
       "    </tr>\n",
       "    <tr>\n",
       "      <th>Visit</th>\n",
       "      <td>23711</td>\n",
       "      <td>NaN</td>\n",
       "      <td>NaN</td>\n",
       "      <td>NaN</td>\n",
       "      <td>0.0792459</td>\n",
       "      <td>0.355952</td>\n",
       "      <td>0</td>\n",
       "      <td>0</td>\n",
       "      <td>0</td>\n",
       "      <td>0</td>\n",
       "      <td>11</td>\n",
       "    </tr>\n",
       "    <tr>\n",
       "      <th>Assessment</th>\n",
       "      <td>23711</td>\n",
       "      <td>NaN</td>\n",
       "      <td>NaN</td>\n",
       "      <td>NaN</td>\n",
       "      <td>0.0282569</td>\n",
       "      <td>0.178218</td>\n",
       "      <td>0</td>\n",
       "      <td>0</td>\n",
       "      <td>0</td>\n",
       "      <td>0</td>\n",
       "      <td>4</td>\n",
       "    </tr>\n",
       "    <tr>\n",
       "      <th>CommunityEvent</th>\n",
       "      <td>23711</td>\n",
       "      <td>NaN</td>\n",
       "      <td>NaN</td>\n",
       "      <td>NaN</td>\n",
       "      <td>0.0147189</td>\n",
       "      <td>0.13866</td>\n",
       "      <td>0</td>\n",
       "      <td>0</td>\n",
       "      <td>0</td>\n",
       "      <td>0</td>\n",
       "      <td>5</td>\n",
       "    </tr>\n",
       "    <tr>\n",
       "      <th>MassCommunication</th>\n",
       "      <td>23711</td>\n",
       "      <td>NaN</td>\n",
       "      <td>NaN</td>\n",
       "      <td>NaN</td>\n",
       "      <td>0.0661296</td>\n",
       "      <td>0.421697</td>\n",
       "      <td>0</td>\n",
       "      <td>0</td>\n",
       "      <td>0</td>\n",
       "      <td>0</td>\n",
       "      <td>12</td>\n",
       "    </tr>\n",
       "    <tr>\n",
       "      <th>TextMessage</th>\n",
       "      <td>23711</td>\n",
       "      <td>NaN</td>\n",
       "      <td>NaN</td>\n",
       "      <td>NaN</td>\n",
       "      <td>0.0267808</td>\n",
       "      <td>0.341801</td>\n",
       "      <td>0</td>\n",
       "      <td>0</td>\n",
       "      <td>0</td>\n",
       "      <td>0</td>\n",
       "      <td>15</td>\n",
       "    </tr>\n",
       "    <tr>\n",
       "      <th>ShortStay</th>\n",
       "      <td>23711</td>\n",
       "      <td>NaN</td>\n",
       "      <td>NaN</td>\n",
       "      <td>NaN</td>\n",
       "      <td>0.00375353</td>\n",
       "      <td>0.0664411</td>\n",
       "      <td>0</td>\n",
       "      <td>0</td>\n",
       "      <td>0</td>\n",
       "      <td>0</td>\n",
       "      <td>3</td>\n",
       "    </tr>\n",
       "    <tr>\n",
       "      <th>Gift</th>\n",
       "      <td>23711</td>\n",
       "      <td>NaN</td>\n",
       "      <td>NaN</td>\n",
       "      <td>NaN</td>\n",
       "      <td>0.00101219</td>\n",
       "      <td>0.0330992</td>\n",
       "      <td>0</td>\n",
       "      <td>0</td>\n",
       "      <td>0</td>\n",
       "      <td>0</td>\n",
       "      <td>2</td>\n",
       "    </tr>\n",
       "  </tbody>\n",
       "</table>\n",
       "</div>"
      ],
      "text/plain": [
       "                   count unique              top   freq        mean  \\\n",
       "AgeatInquiry       23711    NaN              NaN    NaN     81.4615   \n",
       "CareLevel          23711      5                A   9037         NaN   \n",
       "Gender             23711      2           Female  14620         NaN   \n",
       "Marital            23711      5          Unknown  19381         NaN   \n",
       "Veteran            23711      2             True  16015         NaN   \n",
       "CurrentResidence   23711      4   Living at Home  16868         NaN   \n",
       "UnitPreference     23711      7          Unknown  21627         NaN   \n",
       "ProvidedEmail      23711      2            False  19074         NaN   \n",
       "ProvidedPhone      23711      2            False  17826         NaN   \n",
       "Budget             23711      6      3,000-4,000   8006         NaN   \n",
       "RequestedVisit     23711      2            False  17204         NaN   \n",
       "NoCall             23711      2            False  22656         NaN   \n",
       "NoEmail            23711      2            False  21810         NaN   \n",
       "ReferralCompany    23711      5  A Place for Mom  16621         NaN   \n",
       "moveIn             23711    NaN              NaN    NaN    0.222133   \n",
       "PersonalLetter     23711    NaN              NaN    NaN    0.517228   \n",
       "Call               23711    NaN              NaN    NaN     3.44823   \n",
       "Email              23711    NaN              NaN    NaN     2.35853   \n",
       "Tour               23711    NaN              NaN    NaN    0.629581   \n",
       "Visit              23711    NaN              NaN    NaN   0.0792459   \n",
       "Assessment         23711    NaN              NaN    NaN   0.0282569   \n",
       "CommunityEvent     23711    NaN              NaN    NaN   0.0147189   \n",
       "MassCommunication  23711    NaN              NaN    NaN   0.0661296   \n",
       "TextMessage        23711    NaN              NaN    NaN   0.0267808   \n",
       "ShortStay          23711    NaN              NaN    NaN  0.00375353   \n",
       "Gift               23711    NaN              NaN    NaN  0.00101219   \n",
       "\n",
       "                         std  min  25%  50%  75%  max  \n",
       "AgeatInquiry         7.22351   61   77   82   87   93  \n",
       "CareLevel                NaN  NaN  NaN  NaN  NaN  NaN  \n",
       "Gender                   NaN  NaN  NaN  NaN  NaN  NaN  \n",
       "Marital                  NaN  NaN  NaN  NaN  NaN  NaN  \n",
       "Veteran                  NaN  NaN  NaN  NaN  NaN  NaN  \n",
       "CurrentResidence         NaN  NaN  NaN  NaN  NaN  NaN  \n",
       "UnitPreference           NaN  NaN  NaN  NaN  NaN  NaN  \n",
       "ProvidedEmail            NaN  NaN  NaN  NaN  NaN  NaN  \n",
       "ProvidedPhone            NaN  NaN  NaN  NaN  NaN  NaN  \n",
       "Budget                   NaN  NaN  NaN  NaN  NaN  NaN  \n",
       "RequestedVisit           NaN  NaN  NaN  NaN  NaN  NaN  \n",
       "NoCall                   NaN  NaN  NaN  NaN  NaN  NaN  \n",
       "NoEmail                  NaN  NaN  NaN  NaN  NaN  NaN  \n",
       "ReferralCompany          NaN  NaN  NaN  NaN  NaN  NaN  \n",
       "moveIn              0.415689    0    0    0    0    1  \n",
       "PersonalLetter      0.984243    0    0    0    1   16  \n",
       "Call                 3.81328    0    1    2  4.5   67  \n",
       "Email                2.70923    0    1    2    3   94  \n",
       "Tour                 1.06471    0    0    0    1   14  \n",
       "Visit               0.355952    0    0    0    0   11  \n",
       "Assessment          0.178218    0    0    0    0    4  \n",
       "CommunityEvent       0.13866    0    0    0    0    5  \n",
       "MassCommunication   0.421697    0    0    0    0   12  \n",
       "TextMessage         0.341801    0    0    0    0   15  \n",
       "ShortStay          0.0664411    0    0    0    0    3  \n",
       "Gift               0.0330992    0    0    0    0    2  "
      ]
     },
     "execution_count": 212,
     "metadata": {},
     "output_type": "execute_result"
    }
   ],
   "source": [
    "df_total.describe(include='all').T"
   ]
  },
  {
   "cell_type": "code",
   "execution_count": 435,
   "metadata": {
    "collapsed": true
   },
   "outputs": [],
   "source": [
    "df_final = pd.read_csv('df_final_with_currentstatus.csv')"
   ]
  },
  {
   "cell_type": "markdown",
   "metadata": {},
   "source": [
    "## <font color='blue'> <p>Data Visualization\n",
    "### <font color='blue'> <p>Histogram for Numerical variable\n",
    "#### <font color='blue'> <p>Observations:\n",
    "<font color='blue'> <p>1) As we can see in AgeatInquiry Histogram, its distribution is skew to the left, indicating it has outliers on the left side; Combine its statistic results, we can conclude that customer at elder age (around 78~82) are more likely to inquiry for prospect, but this does not indicate the direct correlationship between 'moveIn' and 'age', we need do further analysis for this attribute.\n",
    "\n",
    "2) For other Categorical attributes Histogram, which are sales activities initiate during sale process, we can find out most of the sales activities are concentrate at first bin, indicating company didn't host more follow up activity."
   ]
  },
  {
   "cell_type": "code",
   "execution_count": 436,
   "metadata": {},
   "outputs": [
    {
     "data": {
      "text/plain": [
       "<matplotlib.text.Text at 0x12dd7afd0>"
      ]
     },
     "execution_count": 436,
     "metadata": {},
     "output_type": "execute_result"
    },
    {
     "data": {
      "image/png": "[encoded data removed]",
      "text/plain": [
       "<matplotlib.figure.Figure at 0x12e113ba8>"
      ]
     },
     "metadata": {},
     "output_type": "display_data"
    }
   ],
   "source": [
    "# Histogram for Numerical variable\n",
    "fig = plt.figure(figsize=(25,25))\n",
    "ax1 = fig.add_subplot(4,3,1)\n",
    "df_final['AgeatInquiry'].plot(kind = 'hist', bins = 9, grid = True)\n",
    "ax1.set_xlabel('AgeatInquiry')\n",
    "ax1.set_ylabel('Counts')\n",
    "\n",
    "ax1 = fig.add_subplot(4,3,2)\n",
    "df_final['PersonalLetter'].plot(kind = 'hist', bins = 9, grid = True)\n",
    "ax1.set_xlabel('PersonalLetter')\n",
    "ax1.set_ylabel('Counts')\n",
    "\n",
    "ax1 = fig.add_subplot(4,3,3)\n",
    "df_final['Call'].plot(kind = 'hist', bins = 9, grid = True)\n",
    "ax1.set_xlabel('Call')\n",
    "ax1.set_ylabel('Counts')\n",
    "\n",
    "ax1 = fig.add_subplot(4,3,4)\n",
    "df_final['Email'].plot(kind = 'hist', bins = 9, grid = True)\n",
    "ax1.set_xlabel('Email')\n",
    "ax1.set_ylabel('Counts')\n",
    "\n",
    "ax1 = fig.add_subplot(4,3,5)\n",
    "df_final['Tour'].plot(kind = 'hist', bins = 9, grid = True)\n",
    "ax1.set_xlabel('Tour')\n",
    "ax1.set_ylabel('Counts')\n",
    "\n",
    "ax1 = fig.add_subplot(4,3,6)\n",
    "df_final['Visit'].plot(kind = 'hist', bins = 9, grid = True)\n",
    "ax1.set_xlabel('Visit')\n",
    "ax1.set_ylabel('Counts')\n",
    "\n",
    "ax1 = fig.add_subplot(4,3,7)\n",
    "df_final['Assessment'].plot(kind = 'hist', bins = 9, grid = True)\n",
    "ax1.set_xlabel('Assessment')\n",
    "ax1.set_ylabel('Counts')\n",
    "\n",
    "ax1 = fig.add_subplot(4,3,8)\n",
    "df_final['CommunityEvent'].plot(kind = 'hist', bins = 9, grid = True)\n",
    "ax1.set_xlabel('CommunityEvent')\n",
    "ax1.set_ylabel('Counts')\n",
    "\n",
    "ax1 = fig.add_subplot(4,3,9)\n",
    "df_final['MassCommunication'].plot(kind = 'hist', bins = 9, grid = True)\n",
    "ax1.set_xlabel('MassCommunication')\n",
    "ax1.set_ylabel('Counts')\n",
    "\n",
    "ax1 = fig.add_subplot(4,3,10)\n",
    "df_final['TextMessage'].plot(kind = 'hist', bins = 9, grid = True)\n",
    "ax1.set_xlabel('TextMessage')\n",
    "ax1.set_ylabel('Counts')\n",
    "\n",
    "ax1 = fig.add_subplot(4,3,11)\n",
    "df_final['ShortStay'].plot(kind = 'hist', bins = 9, grid = True)\n",
    "ax1.set_xlabel('ShortStay')\n",
    "ax1.set_ylabel('Counts')\n",
    "\n",
    "ax1 = fig.add_subplot(4,3,12)\n",
    "df_final['Gift'].plot(kind = 'hist', bins = 9, grid = True)\n",
    "ax1.set_xlabel('Gift')\n",
    "ax1.set_ylabel('Counts')\n",
    "\n"
   ]
  },
  {
   "cell_type": "markdown",
   "metadata": {},
   "source": [
    "### <font color='blue'> <p>Crosstab for Categorical Variables and Target Variable: moveIn\n",
    "#### <font color='blue'> <p>Observations:\n",
    "<font color='blue'> <p>1) CareLevel: data are concentrate at carelevel A, people at carelevel F has less tend to moveIn\n",
    "\n",
    "2) Gender: data are concentrate at Female, and Male has higher probabilty to move in\n",
    "\n",
    "3) Marital: data are concentrat at Unknow, and the move in possibility are lowest among other category, indicating unknown marital people are less likely to move in after prospect\n",
    "\n",
    "4) Veteran: data are concentrat at True, but Veteran status under False has higher possible to move in\n",
    "\n",
    "5) CurrentResidence: data are concentrat at Living at Home, and people under this category has higest possible to move in\n",
    "\n",
    "6) UnitPreference: data are concentrat at Unknown, people under this category has lowest possible to move in; people under 1 Bed and Studio has higher possible to move in\n",
    "\n",
    "7) ProvidedEmail: data are concentrat at False, but bar chart here indicate people do not provide email has higher possible to move in\n",
    "\n",
    "8) ProvidedPhone: data are concentrat at False, people provide phone has higher possible to move in\n",
    "\n",
    "9) Budget: data are concentrat at 3000-4000, people has this budget has higher possible to move in\n",
    "\n",
    "10) RequestedVisit: data are concentrat at False, people did not request visit has higher possible to move in\n",
    "\n",
    "11) NoCall: data are concentrat at False, but people opt out receive call has higher possible to move in\n",
    "\n",
    "12) NoEmail: data are concentrat at False, but people opt out receive email has higher possible to move in \n",
    "\n",
    "13) ReferralCompany: data are concentrat at A Piece of Mom, and people get reffered from Carring.com has the lowest possibility to move in\n",
    "\n",
    "14) CurrentStatus: data are concentrat at Deactivated, and all the people's current status under move in indicate the positve relationship with attribute move in, and the other status indicate the negative relationship with attribute move in, that means currentstatus direct relate to moveIn, it's not a factor impact our target attribute, we can drop it when we do further analysis."
   ]
  },
  {
   "cell_type": "code",
   "execution_count": 429,
   "metadata": {},
   "outputs": [
    {
     "data": {
      "text/plain": [
       "Index(['AgeatInquiry', 'Veteran', 'ProvidedEmail', 'ProvidedPhone',\n",
       "       'RequestedVisit', 'NoCall', 'NoEmail', 'PersonalLetter', 'Call',\n",
       "       'Email', 'Tour', 'Visit', 'Assessment', 'CommunityEvent',\n",
       "       'MassCommunication', 'TextMessage', 'ShortStay', 'Gift', 'CareLevel_A',\n",
       "       'CareLevel_F', 'CareLevel_I', 'CareLevel_M', 'CareLevel_S',\n",
       "       'Gender_Female', 'Gender_Male', 'Marital_Divorced', 'Marital_Married',\n",
       "       'Marital_Single', 'Marital_Unknown', 'Marital_Widow',\n",
       "       'CurrentResidence_Living at Home',\n",
       "       'CurrentResidence_Living with Family',\n",
       "       'CurrentResidence_Rental Apartment',\n",
       "       'CurrentResidence_Senior Community', 'UnitPreference_1 Bed',\n",
       "       'UnitPreference_2 Bed', 'UnitPreference_3 Bed',\n",
       "       'UnitPreference_Cottage/Villa', 'UnitPreference_Semi-Private',\n",
       "       'UnitPreference_Studio', 'UnitPreference_Unknown', 'Budget_0-1,000',\n",
       "       'Budget_1,000-2,000', 'Budget_2,000-3,000', 'Budget_3,000-4,000',\n",
       "       'Budget_4,000-5,000', 'Budget_5,000 +',\n",
       "       'ReferralCompany_A Place for Mom', 'ReferralCompany_Caring.com',\n",
       "       'ReferralCompany_Other', 'ReferralCompany_SeniorLiving.net',\n",
       "       'ReferralCompany_Seniorhomes.com'],\n",
       "      dtype='object')"
      ]
     },
     "execution_count": 429,
     "metadata": {},
     "output_type": "execute_result"
    }
   ],
   "source": [
    "df_final.columns"
   ]
  },
  {
   "cell_type": "code",
   "execution_count": 438,
   "metadata": {},
   "outputs": [
    {
     "data": {
      "text/plain": [
       "<matplotlib.text.Text at 0x13a09d588>"
      ]
     },
     "execution_count": 438,
     "metadata": {},
     "output_type": "execute_result"
    },
    {
     "data": {
      "image/png": "[encoded data removed]",
      "text/plain": [
       "<matplotlib.figure.Figure at 0x12de38a90>"
      ]
     },
     "metadata": {},
     "output_type": "display_data"
    }
   ],
   "source": [
    "fig = plt.figure(figsize=(30,30))\n",
    "\n",
    "ax1 = fig.add_subplot(4,4,1)\n",
    "df_crosstab1 = pd.crosstab(df_final['CareLevel'], df_final['moveIn'])\n",
    "df_crosstab1.plot(kind = 'bar', grid = True, ax = ax1)\n",
    "ax1.set_xlabel('CareLevel')\n",
    "ax1.set_ylabel('Counts')\n",
    "\n",
    "ax1 = fig.add_subplot(4,4,2)\n",
    "df_crosstab2 = pd.crosstab(df_final['Gender'], df_final['moveIn'])\n",
    "df_crosstab2.plot(kind = 'bar', grid = True, ax = ax1)\n",
    "ax1.set_xlabel('Gender')\n",
    "ax1.set_ylabel('Counts')\n",
    "\n",
    "ax1 = fig.add_subplot(4,4,3)\n",
    "df_crosstab3 = pd.crosstab(df_final['Marital'], df_final['moveIn'])\n",
    "df_crosstab3.plot(kind = 'bar', grid = True, ax = ax1)\n",
    "ax1.set_xlabel('Marital')\n",
    "ax1.set_ylabel('Counts')\n",
    "\n",
    "ax1 = fig.add_subplot(4,4,4)\n",
    "df_crosstab4 = pd.crosstab(df_final['Veteran'], df_final['moveIn'])\n",
    "df_crosstab4.plot(kind = 'bar', grid = True, ax = ax1)\n",
    "ax1.set_xlabel('Veteran')\n",
    "ax1.set_ylabel('Counts')\n",
    "\n",
    "ax1 = fig.add_subplot(4,4,5)\n",
    "df_crosstab5 = pd.crosstab(df_final['CurrentResidence'], df_final['moveIn'])\n",
    "df_crosstab5.plot(kind = 'bar', grid = True, ax = ax1)\n",
    "ax1.set_xlabel('CurrentResidence')\n",
    "ax1.set_ylabel('Counts')\n",
    "\n",
    "ax1 = fig.add_subplot(4,4,6)\n",
    "df_crosstab6 = pd.crosstab(df_final['UnitPreference'], df_final['moveIn'])\n",
    "df_crosstab6.plot(kind = 'bar', grid = True, ax = ax1)\n",
    "ax1.set_xlabel('UnitPreference')\n",
    "ax1.set_ylabel('Counts')\n",
    "\n",
    "ax1 = fig.add_subplot(4,4,7)\n",
    "df_crosstab7 = pd.crosstab(df_final['ProvidedEmail'], df_final['moveIn'])\n",
    "df_crosstab7.plot(kind = 'bar', grid = True, ax = ax1)\n",
    "ax1.set_xlabel('ProvidedEmail')\n",
    "ax1.set_ylabel('Counts')\n",
    "\n",
    "ax1 = fig.add_subplot(4,4,8)\n",
    "df_crosstab8 = pd.crosstab(df_final['ProvidedPhone'], df_final['moveIn'])\n",
    "df_crosstab8.plot(kind = 'bar', grid = True, ax = ax1)\n",
    "ax1.set_xlabel('ProvidedPhone')\n",
    "ax1.set_ylabel('Counts')\n",
    "\n",
    "ax1 = fig.add_subplot(4,4,9)\n",
    "df_crosstab9 = pd.crosstab(df_final['Budget'], df_final['moveIn'])\n",
    "df_crosstab9.plot(kind = 'bar', grid = True, ax = ax1)\n",
    "ax1.set_xlabel('Budget')\n",
    "ax1.set_ylabel('Counts')\n",
    "\n",
    "ax1 = fig.add_subplot(4,4,10)\n",
    "df_crosstab10 = pd.crosstab(df_final['RequestedVisit'], df_final['moveIn'])\n",
    "df_crosstab10.plot(kind = 'bar', grid = True, ax = ax1)\n",
    "ax1.set_xlabel('RequestedVisit')\n",
    "ax1.set_ylabel('Counts')\n",
    "\n",
    "ax1 = fig.add_subplot(4,4,11)\n",
    "df_crosstab11 = pd.crosstab(df_final['NoCall'], df_final['moveIn'])\n",
    "df_crosstab11.plot(kind = 'bar', grid = True, ax = ax1)\n",
    "ax1.set_xlabel('NoCall')\n",
    "ax1.set_ylabel('Counts')\n",
    "\n",
    "ax1 = fig.add_subplot(4,4,12)\n",
    "df_crosstab12 = pd.crosstab(df_final['NoEmail'], df_final['moveIn'])\n",
    "df_crosstab12.plot(kind = 'bar', grid = True, ax = ax1)\n",
    "ax1.set_xlabel('NoEmail')\n",
    "ax1.set_ylabel('Counts')\n",
    "\n",
    "ax1 = fig.add_subplot(4,4,13)\n",
    "df_crosstab13 = pd.crosstab(df_final['ReferralCompany'], df_final['moveIn'])\n",
    "df_crosstab13.plot(kind = 'bar', grid = True, ax = ax1)\n",
    "ax1.set_xlabel('ReferralCompany')\n",
    "ax1.set_ylabel('Counts')\n",
    "\n",
    "ax1 = fig.add_subplot(4,4,14)\n",
    "df_crosstab14 = pd.crosstab(df_final['CurrentStatus'], df_final['moveIn'])\n",
    "df_crosstab14.plot(kind = 'bar', grid = True, ax = ax1)\n",
    "ax1.set_xlabel('CurrentStatus')\n",
    "ax1.set_ylabel('Counts')"
   ]
  },
  {
   "cell_type": "markdown",
   "metadata": {},
   "source": [
    "# <font color='blue'> <p> Splitting and Normalization"
   ]
  },
  {
   "cell_type": "code",
   "execution_count": 439,
   "metadata": {
    "collapsed": true
   },
   "outputs": [],
   "source": [
    "df_final = df_total"
   ]
  },
  {
   "cell_type": "code",
   "execution_count": 229,
   "metadata": {
    "collapsed": true
   },
   "outputs": [],
   "source": [
    "target = df_final.moveIn\n",
    "df_final = df_final.drop(['moveIn'], axis=1)\n",
    "#convert the data to dummy variables\n",
    "df_final = pd.get_dummies(df_final)\n",
    "df_final = df_final.astype(int)"
   ]
  },
  {
   "cell_type": "code",
   "execution_count": 230,
   "metadata": {
    "collapsed": true
   },
   "outputs": [],
   "source": [
    "from sklearn.cross_validation import train_test_split\n",
    "train, test, target_train, target_test = train_test_split(df_final, target, test_size=0.2, random_state=33)"
   ]
  },
  {
   "cell_type": "code",
   "execution_count": 231,
   "metadata": {
    "collapsed": true
   },
   "outputs": [],
   "source": [
    "from sklearn import preprocessing\n",
    "min_max_scaler = preprocessing.MinMaxScaler()\n",
    "min_max_scaler.fit(train)\n",
    "train_norm = min_max_scaler.fit_transform(train)\n",
    "test_norm = min_max_scaler.fit_transform(test)"
   ]
  },
  {
   "cell_type": "code",
   "execution_count": 254,
   "metadata": {},
   "outputs": [
    {
     "data": {
      "text/plain": [
       "(18968, 52)"
      ]
     },
     "execution_count": 254,
     "metadata": {},
     "output_type": "execute_result"
    }
   ],
   "source": [
    "train_norm.shape"
   ]
  },
  {
   "cell_type": "markdown",
   "metadata": {},
   "source": [
    "# <font color='blue'> <p>Modeling\n",
    "<font color='blue'> <p>We use five methods to build models, decision tree, logistic regression, naive bayes, random forest and linear discriminant analysis, and then evaluate each one of them using classification report and cross validation.\n",
    "\n",
    "We have 52 variables, so we need to do feature selection or decomposition. Before that we want to use all of the variables first to see whether the performance improves after doing dimension reduction"
   ]
  },
  {
   "cell_type": "markdown",
   "metadata": {},
   "source": [
    "## Building models with all variables"
   ]
  },
  {
   "cell_type": "code",
   "execution_count": 233,
   "metadata": {
    "collapsed": true
   },
   "outputs": [],
   "source": [
    "# Decision Tree\n",
    "from sklearn import tree\n",
    "treeclf = tree.DecisionTreeClassifier()\n",
    "treeclf.fit(train, target_train)\n",
    "treepreds_test = treeclf.predict(test)"
   ]
  },
  {
   "cell_type": "code",
   "execution_count": 370,
   "metadata": {
    "collapsed": true
   },
   "outputs": [],
   "source": [
    "# Using grid_search to choose the best model\n",
    "from sklearn.grid_search import GridSearchCV\n",
    "\n",
    "treeclf = tree.DecisionTreeClassifier()\n",
    "\n",
    "parameters = {\n",
    "    'criterion': ['entropy','gini'],\n",
    "    'max_depth': np.array([int(e) for e in np.linspace(1, 20, 10)]),\n",
    "    'min_samples_leaf': np.array([int(e) for e in np.linspace(2, 30, 20)]),\n",
    "    'min_samples_split': np.array([int(e) for e in np.linspace(2, 20, 10)])\n",
    "}\n",
    "\n",
    "gs = GridSearchCV(treeclf, parameters, verbose=1, cv=5)"
   ]
  },
  {
   "cell_type": "code",
   "execution_count": 371,
   "metadata": {},
   "outputs": [
    {
     "name": "stdout",
     "output_type": "stream",
     "text": [
      "Fitting 5 folds for each of 4000 candidates, totalling 20000 fits\n",
      "CPU times: user 14min 26s, sys: 52.4 s, total: 15min 18s\n",
      "Wall time: 15min 19s\n"
     ]
    },
    {
     "name": "stderr",
     "output_type": "stream",
     "text": [
      "[Parallel(n_jobs=1)]: Done 20000 out of 20000 | elapsed: 15.3min finished\n"
     ]
    },
    {
     "data": {
      "text/plain": [
       "({'criterion': 'entropy',\n",
       "  'max_depth': 7,\n",
       "  'min_samples_leaf': 2,\n",
       "  'min_samples_split': 20},\n",
       " 0.9106389708983551)"
      ]
     },
     "execution_count": 371,
     "metadata": {},
     "output_type": "execute_result"
    }
   ],
   "source": [
    "%time _ = gs.fit(train_norm, target_train)\n",
    "\n",
    "gs.best_params_, gs.best_score_"
   ]
  },
  {
   "cell_type": "code",
   "execution_count": 372,
   "metadata": {},
   "outputs": [
    {
     "name": "stdout",
     "output_type": "stream",
     "text": [
      "Decision tree Overall Accuracy: 0.91 (+/- 0.01)\n"
     ]
    }
   ],
   "source": [
    "# fit the best parameters into decision tree\n",
    "treeclf = tree.DecisionTreeClassifier(criterion = 'entropy', max_depth = 7, min_samples_leaf = 2, min_samples_split = 20)\n",
    "\n",
    "treeclf.fit(train_norm, target_train)\n",
    "\n",
    "#Using cross validation to come out the accuracy\n",
    "from sklearn import cross_validation\n",
    "cv_scores_tree = cross_validation.cross_val_score(treeclf, train_norm, target_train, cv=10)\n",
    "print(\"Decision tree Overall Accuracy: %0.2f (+/- %0.2f)\" % (cv_scores_tree.mean(), cv_scores_tree.std() * 2))"
   ]
  },
  {
   "cell_type": "code",
   "execution_count": 373,
   "metadata": {},
   "outputs": [
    {
     "name": "stdout",
     "output_type": "stream",
     "text": [
      "             precision    recall  f1-score   support\n",
      "\n",
      "          0       0.94      0.92      0.93      3661\n",
      "          1       0.74      0.79      0.77      1082\n",
      "\n",
      "avg / total       0.89      0.89      0.89      4743\n",
      "\n"
     ]
    }
   ],
   "source": [
    "from sklearn.metrics import classification_report\n",
    "treepreds_test = treeclf.predict(test_norm)\n",
    "print(classification_report(target_test, treepreds_test))"
   ]
  },
  {
   "cell_type": "code",
   "execution_count": 329,
   "metadata": {
    "collapsed": true
   },
   "outputs": [],
   "source": [
    "# Logistic Regression  \n",
    "from sklearn.linear_model import LogisticRegression   \n",
    "\n",
    "LRclf = LogisticRegression()\n",
    "\n",
    "parameters = {\n",
    "    'penalty': ['l2','l1']\n",
    "}\n",
    "\n",
    "gs = GridSearchCV(LRclf, parameters, verbose=1, cv=5)"
   ]
  },
  {
   "cell_type": "code",
   "execution_count": 330,
   "metadata": {},
   "outputs": [
    {
     "name": "stdout",
     "output_type": "stream",
     "text": [
      "Fitting 5 folds for each of 2 candidates, totalling 10 fits\n"
     ]
    },
    {
     "name": "stderr",
     "output_type": "stream",
     "text": [
      "[Parallel(n_jobs=1)]: Done  10 out of  10 | elapsed:    2.8s finished\n"
     ]
    },
    {
     "name": "stdout",
     "output_type": "stream",
     "text": [
      "CPU times: user 3.46 s, sys: 68.5 ms, total: 3.53 s\n",
      "Wall time: 3.61 s\n"
     ]
    },
    {
     "data": {
      "text/plain": [
       "({'penalty': 'l1'}, 0.9059468578658794)"
      ]
     },
     "execution_count": 330,
     "metadata": {},
     "output_type": "execute_result"
    }
   ],
   "source": [
    "%time _ = gs.fit(train_norm, target_train)\n",
    "\n",
    "gs.best_params_, gs.best_score_"
   ]
  },
  {
   "cell_type": "code",
   "execution_count": 366,
   "metadata": {},
   "outputs": [
    {
     "name": "stdout",
     "output_type": "stream",
     "text": [
      "Logistic regression Overall Accuracy: 0.91 (+/- 0.01)\n"
     ]
    }
   ],
   "source": [
    "# fit the best parameters into Logistic Regression\n",
    "LRclf = LogisticRegression(penalty = 'l1')\n",
    "\n",
    "LRclf.fit(train_norm, target_train)\n",
    "\n",
    "from sklearn import cross_validation\n",
    "cv_scores_LR = cross_validation.cross_val_score(LRclf, train_norm, target_train, cv=10)\n",
    "print(\"Logistic regression Overall Accuracy: %0.2f (+/- %0.2f)\" % (cv_scores_LR.mean(), cv_scores_LR.std() * 2))"
   ]
  },
  {
   "cell_type": "code",
   "execution_count": 367,
   "metadata": {},
   "outputs": [
    {
     "name": "stdout",
     "output_type": "stream",
     "text": [
      "             precision    recall  f1-score   support\n",
      "\n",
      "          0       0.91      0.97      0.94      3661\n",
      "          1       0.88      0.67      0.76      1082\n",
      "\n",
      "avg / total       0.90      0.90      0.90      4743\n",
      "\n"
     ]
    }
   ],
   "source": [
    "LRpreds_test = LRclf.predict(test_norm)\n",
    "print(classification_report(target_test, LRpreds_test))"
   ]
  },
  {
   "cell_type": "code",
   "execution_count": 362,
   "metadata": {
    "collapsed": true
   },
   "outputs": [],
   "source": [
    "# Random Forest\n",
    "from sklearn.ensemble import RandomForestClassifier\n",
    "rfclf = RandomForestClassifier()\n",
    "\n",
    "\n",
    "parameters = {\n",
    "    'criterion': ['entropy','gini'],\n",
    "    'max_depth': np.array([int(e) for e in np.linspace(1, 20, 10)]),\n",
    "    'min_samples_leaf': np.array([int(e) for e in np.linspace(1,6,5)]),\n",
    "    'n_estimators': np.array([int(e) for e in np.linspace(5, 101, 20)])\n",
    "}\n",
    "\n",
    "gs = GridSearchCV(rfclf, parameters, verbose=1, cv=5)"
   ]
  },
  {
   "cell_type": "code",
   "execution_count": 363,
   "metadata": {},
   "outputs": [
    {
     "name": "stdout",
     "output_type": "stream",
     "text": [
      "Fitting 5 folds for each of 2000 candidates, totalling 10000 fits\n"
     ]
    },
    {
     "name": "stderr",
     "output_type": "stream",
     "text": [
      "[Parallel(n_jobs=1)]: Done 10000 out of 10000 | elapsed: 139.8min finished\n"
     ]
    },
    {
     "name": "stdout",
     "output_type": "stream",
     "text": [
      "CPU times: user 57min 27s, sys: 39.9 s, total: 58min 7s\n",
      "Wall time: 2h 19min 51s\n"
     ]
    },
    {
     "data": {
      "text/plain": [
       "({'criterion': 'gini',\n",
       "  'max_depth': 20,\n",
       "  'min_samples_leaf': 1,\n",
       "  'n_estimators': 85},\n",
       " 0.9179671024884015)"
      ]
     },
     "execution_count": 363,
     "metadata": {},
     "output_type": "execute_result"
    }
   ],
   "source": [
    "%time _ = gs.fit(train_norm, target_train)\n",
    "\n",
    "gs.best_params_, gs.best_score_"
   ]
  },
  {
   "cell_type": "code",
   "execution_count": 364,
   "metadata": {},
   "outputs": [
    {
     "name": "stdout",
     "output_type": "stream",
     "text": [
      "Random Forest Overall Accuracy: 0.92 (+/- 0.01)\n"
     ]
    }
   ],
   "source": [
    "# fit the best parameters into Random Forest\n",
    "RFclf = RandomForestClassifier(criterion = 'gini', max_depth = 20, min_samples_leaf = 1, n_estimators = 85)\n",
    "\n",
    "RFclf.fit(train_norm, target_train)\n",
    "\n",
    "cv_scores_RF = cross_validation.cross_val_score(RFclf, train_norm, target_train, cv=10)\n",
    "print(\"Random Forest Overall Accuracy: %0.2f (+/- %0.2f)\" % (cv_scores_RF.mean(), cv_scores_RF.std() * 2))"
   ]
  },
  {
   "cell_type": "code",
   "execution_count": 365,
   "metadata": {},
   "outputs": [
    {
     "name": "stdout",
     "output_type": "stream",
     "text": [
      "             precision    recall  f1-score   support\n",
      "\n",
      "          0       0.94      0.94      0.94      3661\n",
      "          1       0.80      0.79      0.79      1082\n",
      "\n",
      "avg / total       0.91      0.91      0.91      4743\n",
      "\n"
     ]
    }
   ],
   "source": [
    "RFpreds_test = RFclf.predict(test_norm)\n",
    "print(classification_report(target_test, RFpreds_test))"
   ]
  },
  {
   "cell_type": "code",
   "execution_count": 388,
   "metadata": {},
   "outputs": [
    {
     "name": "stdout",
     "output_type": "stream",
     "text": [
      "Naive Bayes Overall Accuracy: 0.84 (+/- 0.02)\n"
     ]
    }
   ],
   "source": [
    "# Naive Bayes\n",
    "from sklearn import naive_bayes\n",
    "NBclf = naive_bayes.GaussianNB()\n",
    "NBclf = NBclf.fit(train_norm, target_train)\n",
    "\n",
    "cv_scores_NB = cross_validation.cross_val_score(NBclf, train_norm, target_train, cv=10)\n",
    "print(\"Naive Bayes Overall Accuracy: %0.2f (+/- %0.2f)\" % (cv_scores_NB.mean(), cv_scores_NB.std() * 2))"
   ]
  },
  {
   "cell_type": "code",
   "execution_count": 389,
   "metadata": {},
   "outputs": [
    {
     "name": "stdout",
     "output_type": "stream",
     "text": [
      "             precision    recall  f1-score   support\n",
      "\n",
      "          0       0.91      0.87      0.89      3661\n",
      "          1       0.62      0.71      0.66      1082\n",
      "\n",
      "avg / total       0.84      0.83      0.84      4743\n",
      "\n"
     ]
    }
   ],
   "source": [
    "NBpreds_test = NBclf.predict(test_norm)\n",
    "print(classification_report(target_test, NBpreds_test))"
   ]
  },
  {
   "cell_type": "code",
   "execution_count": 394,
   "metadata": {
    "collapsed": true
   },
   "outputs": [],
   "source": [
    "# Linear Discriminant Analysis\n",
    "from sklearn.discriminant_analysis import LinearDiscriminantAnalysis\n",
    "LDAclf = LinearDiscriminantAnalysis()\n",
    "\n",
    "parameters = {\n",
    "    'n_components': np.array([int(e) for e in np.linspace(1, 52, 50)])\n",
    "}\n",
    "\n",
    "gs = GridSearchCV(LDAclf, parameters, verbose=1, cv=5)"
   ]
  },
  {
   "cell_type": "code",
   "execution_count": 400,
   "metadata": {},
   "outputs": [
    {
     "name": "stderr",
     "output_type": "stream",
     "text": [
      "/Users/yanyu/anaconda3/lib/python3.6/site-packages/sklearn/discriminant_analysis.py:388: UserWarning: Variables are collinear.\n",
      "  warnings.warn(\"Variables are collinear.\")\n",
      "/Users/yanyu/anaconda3/lib/python3.6/site-packages/sklearn/discriminant_analysis.py:388: UserWarning: Variables are collinear.\n",
      "  warnings.warn(\"Variables are collinear.\")\n",
      "/Users/yanyu/anaconda3/lib/python3.6/site-packages/sklearn/discriminant_analysis.py:388: UserWarning: Variables are collinear.\n",
      "  warnings.warn(\"Variables are collinear.\")\n",
      "/Users/yanyu/anaconda3/lib/python3.6/site-packages/sklearn/discriminant_analysis.py:388: UserWarning: Variables are collinear.\n",
      "  warnings.warn(\"Variables are collinear.\")\n",
      "/Users/yanyu/anaconda3/lib/python3.6/site-packages/sklearn/discriminant_analysis.py:388: UserWarning: Variables are collinear.\n",
      "  warnings.warn(\"Variables are collinear.\")\n",
      "/Users/yanyu/anaconda3/lib/python3.6/site-packages/sklearn/discriminant_analysis.py:388: UserWarning: Variables are collinear.\n",
      "  warnings.warn(\"Variables are collinear.\")\n",
      "/Users/yanyu/anaconda3/lib/python3.6/site-packages/sklearn/discriminant_analysis.py:388: UserWarning: Variables are collinear.\n",
      "  warnings.warn(\"Variables are collinear.\")\n"
     ]
    },
    {
     "name": "stdout",
     "output_type": "stream",
     "text": [
      "Linear Discriminant Overall Accuracy: 0.90 (+/- 0.01)\n"
     ]
    },
    {
     "name": "stderr",
     "output_type": "stream",
     "text": [
      "/Users/yanyu/anaconda3/lib/python3.6/site-packages/sklearn/discriminant_analysis.py:388: UserWarning: Variables are collinear.\n",
      "  warnings.warn(\"Variables are collinear.\")\n",
      "/Users/yanyu/anaconda3/lib/python3.6/site-packages/sklearn/discriminant_analysis.py:388: UserWarning: Variables are collinear.\n",
      "  warnings.warn(\"Variables are collinear.\")\n",
      "/Users/yanyu/anaconda3/lib/python3.6/site-packages/sklearn/discriminant_analysis.py:388: UserWarning: Variables are collinear.\n",
      "  warnings.warn(\"Variables are collinear.\")\n",
      "/Users/yanyu/anaconda3/lib/python3.6/site-packages/sklearn/discriminant_analysis.py:388: UserWarning: Variables are collinear.\n",
      "  warnings.warn(\"Variables are collinear.\")\n"
     ]
    }
   ],
   "source": [
    "# fit the best parameters into Linear Discriminant Analysis\n",
    "LDAclf = LinearDiscriminantAnalysis(n_components = 1)\n",
    "\n",
    "LDAclf.fit(train_norm, target_train)\n",
    "\n",
    "\n",
    "cv_scores_LDA = cross_validation.cross_val_score(LDAclf, train_norm, target_train, cv=10)\n",
    "print(\"Linear Discriminant Overall Accuracy: %0.2f (+/- %0.2f)\" % (cv_scores_LDA.mean(), cv_scores_LDA.std() * 2))"
   ]
  },
  {
   "cell_type": "code",
   "execution_count": 397,
   "metadata": {},
   "outputs": [
    {
     "name": "stdout",
     "output_type": "stream",
     "text": [
      "             precision    recall  f1-score   support\n",
      "\n",
      "          0       0.90      0.98      0.94      3661\n",
      "          1       0.89      0.62      0.73      1082\n",
      "\n",
      "avg / total       0.90      0.90      0.89      4743\n",
      "\n"
     ]
    }
   ],
   "source": [
    "LDApreds_test = LDAclf.predict(test_norm)\n",
    "print(classification_report(target_test, LDApreds_test))"
   ]
  },
  {
   "cell_type": "markdown",
   "metadata": {},
   "source": [
    "## <font color='blue'> <p>Building models with PCA"
   ]
  },
  {
   "cell_type": "code",
   "execution_count": 316,
   "metadata": {
    "collapsed": true
   },
   "outputs": [],
   "source": [
    "from sklearn import decomposition\n",
    "pca = decomposition.PCA(n_components=20)\n",
    "train_pca = pca.fit(train_norm).transform(train_norm)\n",
    "test_pca = pca.fit(train_norm).transform(test_norm)"
   ]
  },
  {
   "cell_type": "code",
   "execution_count": 310,
   "metadata": {},
   "outputs": [
    {
     "data": {
      "text/plain": [
       "0.95356282767759437"
      ]
     },
     "execution_count": 310,
     "metadata": {},
     "output_type": "execute_result"
    }
   ],
   "source": [
    "pca.explained_variance_ratio_.sum()"
   ]
  },
  {
   "cell_type": "markdown",
   "metadata": {},
   "source": [
    "We choose 20 components which can explain over 95% of the variance."
   ]
  },
  {
   "cell_type": "code",
   "execution_count": 313,
   "metadata": {},
   "outputs": [
    {
     "data": {
      "text/plain": [
       "(18968, 20)"
      ]
     },
     "execution_count": 313,
     "metadata": {},
     "output_type": "execute_result"
    }
   ],
   "source": [
    "train_pca.shape"
   ]
  },
  {
   "cell_type": "code",
   "execution_count": 378,
   "metadata": {
    "collapsed": true
   },
   "outputs": [],
   "source": [
    "# Decison tree\n",
    "treeclf = tree.DecisionTreeClassifier()\n",
    "\n",
    "parameters = {\n",
    "    'criterion': ['entropy','gini'],\n",
    "    'max_depth': np.array([int(e) for e in np.linspace(1, 20, 10)]),\n",
    "    'min_samples_leaf': np.array([int(e) for e in np.linspace(2, 30, 20)]),\n",
    "    'min_samples_split': np.array([int(e) for e in np.linspace(2, 20, 10)])\n",
    "}\n",
    "\n",
    "gs = GridSearchCV(treeclf, parameters, verbose=1, cv=5)"
   ]
  },
  {
   "cell_type": "code",
   "execution_count": 379,
   "metadata": {},
   "outputs": [
    {
     "name": "stdout",
     "output_type": "stream",
     "text": [
      "Fitting 5 folds for each of 4000 candidates, totalling 20000 fits\n"
     ]
    },
    {
     "name": "stderr",
     "output_type": "stream",
     "text": [
      "[Parallel(n_jobs=1)]: Done 20000 out of 20000 | elapsed: 112.3min finished\n"
     ]
    },
    {
     "name": "stdout",
     "output_type": "stream",
     "text": [
      "CPU times: user 1h 29min 18s, sys: 9.14 s, total: 1h 29min 27s\n",
      "Wall time: 1h 52min 19s\n"
     ]
    },
    {
     "data": {
      "text/plain": [
       "({'criterion': 'entropy',\n",
       "  'max_depth': 9,\n",
       "  'min_samples_leaf': 12,\n",
       "  'min_samples_split': 8},\n",
       " 0.850115984816533)"
      ]
     },
     "execution_count": 379,
     "metadata": {},
     "output_type": "execute_result"
    }
   ],
   "source": [
    "%time _ = gs.fit(train_pca, target_train)\n",
    "\n",
    "gs.best_params_, gs.best_score_"
   ]
  },
  {
   "cell_type": "code",
   "execution_count": 381,
   "metadata": {},
   "outputs": [
    {
     "name": "stdout",
     "output_type": "stream",
     "text": [
      "Decision tree Overall Accuracy: 0.85 (+/- 0.01)\n"
     ]
    }
   ],
   "source": [
    "# fit the best parameters into decision tree\n",
    "treeclf = tree.DecisionTreeClassifier(criterion = 'entropy', max_depth = 9, min_samples_leaf = 12, min_samples_split = 8)\n",
    "\n",
    "treeclf.fit(train_pca, target_train)\n",
    "\n",
    "from sklearn import cross_validation\n",
    "cv_scores_tree = cross_validation.cross_val_score(treeclf, train_pca, target_train, cv=10)\n",
    "print(\"Decision tree Overall Accuracy: %0.2f (+/- %0.2f)\" % (cv_scores_tree.mean(), cv_scores_tree.std() * 2))"
   ]
  },
  {
   "cell_type": "code",
   "execution_count": 382,
   "metadata": {
    "collapsed": true
   },
   "outputs": [],
   "source": [
    "treepreds_test = treeclf.predict(test_pca)"
   ]
  },
  {
   "cell_type": "code",
   "execution_count": 383,
   "metadata": {},
   "outputs": [
    {
     "name": "stdout",
     "output_type": "stream",
     "text": [
      "             precision    recall  f1-score   support\n",
      "\n",
      "          0       0.85      0.95      0.90      3661\n",
      "          1       0.74      0.45      0.56      1082\n",
      "\n",
      "avg / total       0.83      0.84      0.82      4743\n",
      "\n"
     ]
    }
   ],
   "source": [
    "print(classification_report(target_test, treepreds_test))"
   ]
  },
  {
   "cell_type": "code",
   "execution_count": 324,
   "metadata": {
    "collapsed": true
   },
   "outputs": [],
   "source": [
    "# Logistic Regression  \n",
    "from sklearn.linear_model import LogisticRegression   \n",
    "\n",
    "LRclf = LogisticRegression()\n",
    "\n",
    "parameters = {\n",
    "    'penalty': ['l2','l1']\n",
    "}\n",
    "\n",
    "gs = GridSearchCV(LRclf, parameters, verbose=1, cv=5)"
   ]
  },
  {
   "cell_type": "code",
   "execution_count": 325,
   "metadata": {},
   "outputs": [
    {
     "name": "stdout",
     "output_type": "stream",
     "text": [
      "Fitting 5 folds for each of 2 candidates, totalling 10 fits\n",
      "CPU times: user 387 ms, sys: 25.5 ms, total: 412 ms\n",
      "Wall time: 423 ms\n"
     ]
    },
    {
     "name": "stderr",
     "output_type": "stream",
     "text": [
      "[Parallel(n_jobs=1)]: Done  10 out of  10 | elapsed:    0.4s finished\n"
     ]
    },
    {
     "data": {
      "text/plain": [
       "({'penalty': 'l1'}, 0.8442113032475749)"
      ]
     },
     "execution_count": 325,
     "metadata": {},
     "output_type": "execute_result"
    }
   ],
   "source": [
    "%time _ = gs.fit(train_pca, target_train)\n",
    "\n",
    "gs.best_params_, gs.best_score_"
   ]
  },
  {
   "cell_type": "code",
   "execution_count": 328,
   "metadata": {},
   "outputs": [
    {
     "name": "stdout",
     "output_type": "stream",
     "text": [
      "Logistic regression  Overall Accuracy: 0.84 (+/- 0.01)\n"
     ]
    }
   ],
   "source": [
    "# fit the best parameters into Logistic Regression\n",
    "LRclf = LogisticRegression(penalty = 'l1')\n",
    "\n",
    "LRclf.fit(train_pca, target_train)\n",
    "\n",
    "from sklearn import cross_validation\n",
    "cv_scores_LR = cross_validation.cross_val_score(LRclf, train_pca, target_train, cv=10)\n",
    "print(\"Logistic regression  Overall Accuracy: %0.2f (+/- %0.2f)\" % (cv_scores_LR.mean(), cv_scores_LR.std() * 2))"
   ]
  },
  {
   "cell_type": "code",
   "execution_count": 327,
   "metadata": {},
   "outputs": [
    {
     "name": "stdout",
     "output_type": "stream",
     "text": [
      "             precision    recall  f1-score   support\n",
      "\n",
      "          0       0.84      0.98      0.90      3661\n",
      "          1       0.83      0.38      0.52      1082\n",
      "\n",
      "avg / total       0.84      0.84      0.82      4743\n",
      "\n"
     ]
    }
   ],
   "source": [
    "LRpreds_test = LRclf.predict(test_pca)\n",
    "print(classification_report(target_test, LRpreds_test))"
   ]
  },
  {
   "cell_type": "code",
   "execution_count": 374,
   "metadata": {
    "collapsed": true
   },
   "outputs": [],
   "source": [
    "# Random Forest\n",
    "rfclf = RandomForestClassifier()\n",
    "\n",
    "parameters = {\n",
    "    'criterion': ['entropy','gini'],\n",
    "    'max_depth': np.array([int(e) for e in np.linspace(1, 20, 10)]),\n",
    "    'min_samples_leaf': np.array([int(e) for e in np.linspace(1,6,5)]),\n",
    "    'n_estimators': np.array([int(e) for e in np.linspace(5, 101, 20)])\n",
    "}\n",
    "\n",
    "gs = GridSearchCV(rfclf, parameters, verbose=1, cv=5)"
   ]
  },
  {
   "cell_type": "code",
   "execution_count": 375,
   "metadata": {},
   "outputs": [
    {
     "name": "stdout",
     "output_type": "stream",
     "text": [
      "Fitting 5 folds for each of 2000 candidates, totalling 10000 fits\n"
     ]
    },
    {
     "name": "stderr",
     "output_type": "stream",
     "text": [
      "[Parallel(n_jobs=1)]: Done 10000 out of 10000 | elapsed: 334.8min finished\n"
     ]
    },
    {
     "name": "stdout",
     "output_type": "stream",
     "text": [
      "CPU times: user 5h 33min 46s, sys: 22.2 s, total: 5h 34min 8s\n",
      "Wall time: 5h 34min 55s\n"
     ]
    },
    {
     "data": {
      "text/plain": [
       "({'criterion': 'entropy',\n",
       "  'max_depth': 20,\n",
       "  'min_samples_leaf': 2,\n",
       "  'n_estimators': 101},\n",
       " 0.8684099536060734)"
      ]
     },
     "execution_count": 375,
     "metadata": {},
     "output_type": "execute_result"
    }
   ],
   "source": [
    "%time _ = gs.fit(train_pca, target_train)\n",
    "\n",
    "gs.best_params_, gs.best_score_"
   ]
  },
  {
   "cell_type": "code",
   "execution_count": 376,
   "metadata": {},
   "outputs": [
    {
     "name": "stdout",
     "output_type": "stream",
     "text": [
      "Random Forest Overall Accuracy: 0.87 (+/- 0.01)\n"
     ]
    }
   ],
   "source": [
    "# fit the best parameters into Random Forest\n",
    "RFclf = RandomForestClassifier(criterion = 'entropy', max_depth = 20, min_samples_leaf = 2, n_estimators = 101)\n",
    "\n",
    "RFclf.fit(train_pca, target_train)\n",
    "\n",
    "from sklearn import cross_validation\n",
    "cv_scores_RF = cross_validation.cross_val_score(RFclf, train_pca, target_train, cv=10)\n",
    "print(\"Random Forest Overall Accuracy: %0.2f (+/- %0.2f)\" % (cv_scores_RF.mean(), cv_scores_RF.std() * 2))"
   ]
  },
  {
   "cell_type": "code",
   "execution_count": 377,
   "metadata": {},
   "outputs": [
    {
     "name": "stdout",
     "output_type": "stream",
     "text": [
      "             precision    recall  f1-score   support\n",
      "\n",
      "          0       0.87      0.97      0.92      3661\n",
      "          1       0.82      0.52      0.64      1082\n",
      "\n",
      "avg / total       0.86      0.86      0.85      4743\n",
      "\n"
     ]
    }
   ],
   "source": [
    "RFpreds_test = RFclf.predict(test_pca)\n",
    "print(classification_report(target_test, RFpreds_test))"
   ]
  },
  {
   "cell_type": "code",
   "execution_count": 401,
   "metadata": {},
   "outputs": [
    {
     "name": "stdout",
     "output_type": "stream",
     "text": [
      "Naive Bayes Overall Accuracy: 0.81 (+/- 0.01)\n"
     ]
    }
   ],
   "source": [
    "# Naive Bayes\n",
    "NBclf = naive_bayes.GaussianNB()\n",
    "NBclf = NBclf.fit(train_pca, target_train)\n",
    "\n",
    "cv_scores_NB = cross_validation.cross_val_score(NBclf, train_pca, target_train, cv=10)\n",
    "print(\"Naive Bayes Overall Accuracy: %0.2f (+/- %0.2f)\" % (cv_scores_NB.mean(), cv_scores_NB.std() * 2))"
   ]
  },
  {
   "cell_type": "code",
   "execution_count": 403,
   "metadata": {},
   "outputs": [
    {
     "name": "stdout",
     "output_type": "stream",
     "text": [
      "             precision    recall  f1-score   support\n",
      "\n",
      "          0       0.86      0.89      0.87      3661\n",
      "          1       0.57      0.49      0.53      1082\n",
      "\n",
      "avg / total       0.79      0.80      0.79      4743\n",
      "\n"
     ]
    }
   ],
   "source": [
    "NBpreds_test = NBclf.predict(test_pca)\n",
    "print(classification_report(target_test, NBpreds_test))"
   ]
  },
  {
   "cell_type": "code",
   "execution_count": 404,
   "metadata": {
    "collapsed": true
   },
   "outputs": [],
   "source": [
    "# Linear Discriminant Analysis\n",
    "from sklearn.discriminant_analysis import LinearDiscriminantAnalysis\n",
    "LDAclf = LinearDiscriminantAnalysis()\n",
    "\n",
    "parameters = {\n",
    "    'n_components': np.array([int(e) for e in np.linspace(1, 52, 50)])\n",
    "}\n",
    "\n",
    "gs = GridSearchCV(LDAclf, parameters, verbose=1, cv=5)"
   ]
  },
  {
   "cell_type": "code",
   "execution_count": 405,
   "metadata": {},
   "outputs": [
    {
     "name": "stdout",
     "output_type": "stream",
     "text": [
      "Fitting 5 folds for each of 50 candidates, totalling 250 fits\n",
      "CPU times: user 6.1 s, sys: 424 ms, total: 6.53 s\n",
      "Wall time: 3.39 s\n"
     ]
    },
    {
     "name": "stderr",
     "output_type": "stream",
     "text": [
      "[Parallel(n_jobs=1)]: Done 250 out of 250 | elapsed:    3.4s finished\n"
     ]
    },
    {
     "data": {
      "text/plain": [
       "({'n_components': 1}, 0.8448439477013918)"
      ]
     },
     "execution_count": 405,
     "metadata": {},
     "output_type": "execute_result"
    }
   ],
   "source": [
    "%time _ = gs.fit(train_pca, target_train)\n",
    "\n",
    "gs.best_params_, gs.best_score_"
   ]
  },
  {
   "cell_type": "code",
   "execution_count": 406,
   "metadata": {},
   "outputs": [
    {
     "name": "stdout",
     "output_type": "stream",
     "text": [
      "Linear Discriminant Overall Accuracy: 0.85 (+/- 0.01)\n"
     ]
    }
   ],
   "source": [
    "# fit the best parameters into Linear Discriminant Analysis\n",
    "LDAclf = LinearDiscriminantAnalysis(n_components = 1)\n",
    "\n",
    "LDAclf.fit(train_pca, target_train)\n",
    "\n",
    "\n",
    "cv_scores_LDA = cross_validation.cross_val_score(LDAclf, train_pca, target_train, cv=10)\n",
    "print(\"Linear Discriminant Overall Accuracy: %0.2f (+/- %0.2f)\" % (cv_scores_LDA.mean(), cv_scores_LDA.std() * 2))"
   ]
  },
  {
   "cell_type": "code",
   "execution_count": 408,
   "metadata": {},
   "outputs": [
    {
     "name": "stdout",
     "output_type": "stream",
     "text": [
      "             precision    recall  f1-score   support\n",
      "\n",
      "          0       0.84      0.97      0.90      3661\n",
      "          1       0.81      0.39      0.52      1082\n",
      "\n",
      "avg / total       0.83      0.84      0.82      4743\n",
      "\n"
     ]
    }
   ],
   "source": [
    "LDApreds_test = LDAclf.predict(test_pca)\n",
    "print(classification_report(target_test, LDApreds_test))"
   ]
  },
  {
   "cell_type": "markdown",
   "metadata": {},
   "source": [
    "## <font color='blue'> <p>Building models with feature selection"
   ]
  },
  {
   "cell_type": "code",
   "execution_count": 413,
   "metadata": {},
   "outputs": [
    {
     "name": "stdout",
     "output_type": "stream",
     "text": [
      "5 0.832981822493\n",
      "10 0.884067785162\n",
      "15 0.892134110487\n",
      "20 0.895613649481\n",
      "25 0.903258284099\n",
      "30 0.898460527334\n",
      "35 0.898566012552\n",
      "40 0.898355097709\n",
      "45 0.897827824499\n",
      "50 0.89730060688\n",
      "55 0.899409268885\n",
      "60 0.899251082752\n",
      "65 0.899145639229\n",
      "70 0.899198395735\n",
      "75 0.899198395735\n",
      "80 0.899514684612\n",
      "85 0.90968981092\n",
      "90 0.90968981092\n",
      "95 0.91069142016\n",
      "100 0.910585976637\n",
      "Optimal percentile of features:95 \n",
      "\n",
      "Optimal number of features:49 \n",
      "\n"
     ]
    },
    {
     "data": {
      "text/plain": [
       "[<matplotlib.lines.Line2D at 0x1245322b0>]"
      ]
     },
     "execution_count": 413,
     "metadata": {},
     "output_type": "execute_result"
    },
    {
     "data": {
      "image/png": "[encoded data removed]",
      "text/plain": [
       "<matplotlib.figure.Figure at 0x12b59f978>"
      ]
     },
     "metadata": {},
     "output_type": "display_data"
    }
   ],
   "source": [
    "# Decision Tree\n",
    "treeclf = tree.DecisionTreeClassifier(criterion = 'entropy', max_depth = 7, min_samples_leaf = 2, min_samples_split = 20)\n",
    "\n",
    "percentiles = range(5, 101, 5)\n",
    "results = []\n",
    "for i in range(5, 101, 5):\n",
    "    fs = feature_selection.SelectPercentile(feature_selection.chi2, percentile=i)\n",
    "    train_norm_fs = fs.fit_transform(train_norm, target_train)\n",
    "    scores = cross_validation.cross_val_score(treeclf, train_norm_fs, target_train, cv=5)\n",
    "    print(i,scores.mean())\n",
    "    results = np.append(results, scores.mean())\n",
    "\n",
    "optimal_percentile = int(np.where(results == results.max())[0])\n",
    "print(\"Optimal percentile of features:{0}\".format(percentiles[optimal_percentile]), \"\\n\")\n",
    "optimal_num_features = int(percentiles[optimal_percentile]*len(df_final.columns)/100)\n",
    "print(\"Optimal number of features:{0}\".format(optimal_num_features), \"\\n\")\n",
    "\n",
    "# Plot percentile of features VS. cross-validation scores\n",
    "import pylab as pl\n",
    "pl.figure()\n",
    "pl.xlabel(\"Percentage of features selected\")\n",
    "pl.ylabel(\"Cross validation accuracy\")\n",
    "pl.plot(percentiles,results)"
   ]
  },
  {
   "cell_type": "code",
   "execution_count": 414,
   "metadata": {
    "collapsed": true
   },
   "outputs": [],
   "source": [
    "from sklearn import feature_selection\n",
    "fs = feature_selection.SelectPercentile(feature_selection.chi2, percentile=95)\n",
    "X_train_fs = fs.fit_transform(train_norm, target_train)"
   ]
  },
  {
   "cell_type": "code",
   "execution_count": 415,
   "metadata": {},
   "outputs": [
    {
     "name": "stdout",
     "output_type": "stream",
     "text": [
      "[ True  True  True False  True  True  True  True  True  True  True  True  True\n",
      "  True  True  True  True  True  True  True  True  True  True  True  True  True\n",
      " False  True  True  True  True  True  True  True  True  True  True  True  True\n",
      "  True  True False  True  True  True  True  True  True  True  True  True  True]\n",
      "[    2.8    282.93   209.89     0.14   182.81   425.56  2443.03   147.37\n",
      "    62.27     2.38   705.92   206.7    354.77    40.29     9.83    17.61\n",
      "    41.19     1.73    71.44   104.92     8.72    18.07     0.85     5.92     9.6\n",
      "     5.84     0.21    43.67    14.49    63.78    58.09    73.97     2.69\n",
      "    75.52  1066.1    177.8      0.57     0.27     0.29   706.38   151.17\n",
      "     0.15    40.66   134.89   763.65   105.22   124.98     4.3    110.34\n",
      "   395.27    80.76   188.9 ]\n"
     ]
    }
   ],
   "source": [
    "np.set_printoptions(suppress=True, precision=2, linewidth=80)\n",
    "print(fs.get_support())\n",
    "print(fs.scores_)"
   ]
  },
  {
   "cell_type": "code",
   "execution_count": 416,
   "metadata": {},
   "outputs": [
    {
     "data": {
      "text/plain": [
       "array(['AgeatInquiry', 'Veteran', 'ProvidedEmail', 'RequestedVisit', 'NoCall',\n",
       "       'NoEmail', 'PersonalLetter', 'Call', 'Email', 'Tour', 'Visit',\n",
       "       'Assessment', 'CommunityEvent', 'MassCommunication', 'TextMessage',\n",
       "       'ShortStay', 'Gift', 'CareLevel_A', 'CareLevel_F', 'CareLevel_I',\n",
       "       'CareLevel_M', 'CareLevel_S', 'Gender_Female', 'Gender_Male',\n",
       "       'Marital_Divorced', 'Marital_Single', 'Marital_Unknown', 'Marital_Widow',\n",
       "       'CurrentResidence_Living at Home', 'CurrentResidence_Living with Family',\n",
       "       'CurrentResidence_Rental Apartment', 'CurrentResidence_Senior Community',\n",
       "       'UnitPreference_1 Bed', 'UnitPreference_2 Bed', 'UnitPreference_3 Bed',\n",
       "       'UnitPreference_Cottage/Villa', 'UnitPreference_Semi-Private',\n",
       "       'UnitPreference_Studio', 'UnitPreference_Unknown', 'Budget_1,000-2,000',\n",
       "       'Budget_2,000-3,000', 'Budget_3,000-4,000', 'Budget_4,000-5,000',\n",
       "       'Budget_5,000 +', 'ReferralCompany_A Place for Mom',\n",
       "       'ReferralCompany_Caring.com', 'ReferralCompany_Other',\n",
       "       'ReferralCompany_SeniorLiving.net', 'ReferralCompany_Seniorhomes.com'], dtype=object)"
      ]
     },
     "execution_count": 416,
     "metadata": {},
     "output_type": "execute_result"
    }
   ],
   "source": [
    "df_final.columns[fs.get_support()].values"
   ]
  },
  {
   "cell_type": "code",
   "execution_count": 417,
   "metadata": {
    "collapsed": true
   },
   "outputs": [],
   "source": [
    "fs = feature_selection.SelectKBest(feature_selection.chi2, optimal_num_features)\n",
    "train_fs = fs.fit_transform(train, target_train)\n",
    "treeclf = tree.DecisionTreeClassifier(criterion = 'entropy', max_depth = 7, min_samples_leaf = 2, min_samples_split = 20)\n",
    "treeclf.fit(train_fs, target_train)\n",
    "test_fs = fs.transform(test)"
   ]
  },
  {
   "cell_type": "code",
   "execution_count": 418,
   "metadata": {},
   "outputs": [
    {
     "name": "stdout",
     "output_type": "stream",
     "text": [
      "             precision    recall  f1-score   support\n",
      "\n",
      "          0       0.93      0.96      0.94      3661\n",
      "          1       0.85      0.75      0.80      1082\n",
      "\n",
      "avg / total       0.91      0.91      0.91      4743\n",
      "\n"
     ]
    }
   ],
   "source": [
    "treepreds_test = treeclf.predict(test_fs)\n",
    "print(classification_report(target_test, treepreds_test))"
   ]
  },
  {
   "cell_type": "code",
   "execution_count": 419,
   "metadata": {},
   "outputs": [
    {
     "name": "stdout",
     "output_type": "stream",
     "text": [
      "5 0.82085637319\n",
      "10 0.867513471602\n",
      "15 0.877477641373\n",
      "20 0.893557535515\n",
      "25 0.896457030895\n",
      "30 0.897880608801\n",
      "35 0.897986010631\n",
      "40 0.898249640287\n",
      "45 0.900253025543\n",
      "50 0.900622196008\n",
      "55 0.902045523751\n",
      "60 0.902941689467\n",
      "65 0.902889030246\n",
      "70 0.903047188583\n",
      "75 0.903099903396\n",
      "80 0.903099889498\n",
      "85 0.90557790264\n",
      "90 0.905736074874\n",
      "95 0.905683401755\n",
      "100 0.905894219313\n",
      "Optimal percentile of features:100 \n",
      "\n",
      "Optimal number of features:52 \n",
      "\n"
     ]
    },
    {
     "data": {
      "text/plain": [
       "[<matplotlib.lines.Line2D at 0x1237b4da0>]"
      ]
     },
     "execution_count": 419,
     "metadata": {},
     "output_type": "execute_result"
    },
    {
     "data": {
      "image/png": "[encoded data removed]",
      "text/plain": [
       "<matplotlib.figure.Figure at 0x127691ac8>"
      ]
     },
     "metadata": {},
     "output_type": "display_data"
    }
   ],
   "source": [
    "# Logistic Regression  \n",
    "LRclf = LogisticRegression(penalty = 'l1')\n",
    "\n",
    "percentiles = range(5, 101, 5)\n",
    "results = []\n",
    "for i in range(5, 101, 5):\n",
    "    fs = feature_selection.SelectPercentile(feature_selection.chi2, percentile=i)\n",
    "    train_norm_fs = fs.fit_transform(train_norm, target_train)\n",
    "    scores = cross_validation.cross_val_score(LRclf, train_norm_fs, target_train, cv=5)\n",
    "    print(i,scores.mean())\n",
    "    results = np.append(results, scores.mean())\n",
    "\n",
    "optimal_percentile = int(np.where(results == results.max())[0])\n",
    "print(\"Optimal percentile of features:{0}\".format(percentiles[optimal_percentile]), \"\\n\")\n",
    "optimal_num_features = int(percentiles[optimal_percentile]*len(df_final.columns)/100)\n",
    "print(\"Optimal number of features:{0}\".format(optimal_num_features), \"\\n\")\n",
    "\n",
    "# Plot percentile of features VS. cross-validation scores\n",
    "import pylab as pl\n",
    "pl.figure()\n",
    "pl.xlabel(\"Percentage of features selected\")\n",
    "pl.ylabel(\"Cross validation accuracy\")\n",
    "pl.plot(percentiles,results)"
   ]
  },
  {
   "cell_type": "markdown",
   "metadata": {
    "collapsed": true
   },
   "source": [
    "I don't have to reduce features for logistics regression"
   ]
  },
  {
   "cell_type": "code",
   "execution_count": 420,
   "metadata": {},
   "outputs": [
    {
     "name": "stdout",
     "output_type": "stream",
     "text": [
      "5 0.832981822493\n",
      "10 0.884067826856\n",
      "15 0.89303042908\n",
      "20 0.897353363387\n",
      "25 0.903416359048\n",
      "30 0.90346887929\n",
      "35 0.901202045051\n",
      "40 0.901517958685\n",
      "45 0.902836023577\n",
      "50 0.90220352921\n",
      "55 0.905050532144\n",
      "60 0.906473873785\n",
      "65 0.907475635903\n",
      "70 0.908002936909\n",
      "75 0.909426389733\n",
      "80 0.908213851752\n",
      "85 0.916754540902\n",
      "90 0.917176287201\n",
      "95 0.916332794604\n",
      "100 0.917492603874\n",
      "Optimal percentile of features:100 \n",
      "\n",
      "Optimal number of features:52 \n",
      "\n"
     ]
    },
    {
     "data": {
      "text/plain": [
       "[<matplotlib.lines.Line2D at 0x121cebb70>]"
      ]
     },
     "execution_count": 420,
     "metadata": {},
     "output_type": "execute_result"
    },
    {
     "data": {
      "image/png": "[encoded data removed]",
      "text/plain": [
       "<matplotlib.figure.Figure at 0x12341bba8>"
      ]
     },
     "metadata": {},
     "output_type": "display_data"
    }
   ],
   "source": [
    "# Random Forest\n",
    "RFclf = RandomForestClassifier(criterion = 'gini', max_depth = 20, min_samples_leaf = 1, n_estimators = 85)\n",
    "\n",
    "percentiles = range(5, 101, 5)\n",
    "results = []\n",
    "for i in range(5, 101, 5):\n",
    "    fs = feature_selection.SelectPercentile(feature_selection.chi2, percentile=i)\n",
    "    train_norm_fs = fs.fit_transform(train_norm, target_train)\n",
    "    scores = cross_validation.cross_val_score(RFclf, train_norm_fs, target_train, cv=5)\n",
    "    print(i,scores.mean())\n",
    "    results = np.append(results, scores.mean())\n",
    "\n",
    "optimal_percentile = int(np.where(results == results.max())[0])\n",
    "print(\"Optimal percentile of features:{0}\".format(percentiles[optimal_percentile]), \"\\n\")\n",
    "optimal_num_features = int(percentiles[optimal_percentile]*len(df_final.columns)/100)\n",
    "print(\"Optimal number of features:{0}\".format(optimal_num_features), \"\\n\")\n",
    "\n",
    "# Plot percentile of features VS. cross-validation scores\n",
    "import pylab as pl\n",
    "pl.figure()\n",
    "pl.xlabel(\"Percentage of features selected\")\n",
    "pl.ylabel(\"Cross validation accuracy\")\n",
    "pl.plot(percentiles,results)"
   ]
  },
  {
   "cell_type": "markdown",
   "metadata": {
    "collapsed": true
   },
   "source": [
    "I don't have to reduce features for random forest"
   ]
  },
  {
   "cell_type": "code",
   "execution_count": 421,
   "metadata": {},
   "outputs": [
    {
     "name": "stdout",
     "output_type": "stream",
     "text": [
      "5 0.817007816607\n",
      "10 0.844317049927\n",
      "15 0.844369625761\n",
      "20 0.858551286315\n",
      "25 0.859395056871\n",
      "30 0.854597327902\n",
      "35 0.854333865021\n",
      "40 0.853859348318\n",
      "45 0.851750658518\n",
      "50 0.851908719569\n",
      "55 0.846636751856\n",
      "60 0.846847555516\n",
      "65 0.845107883304\n",
      "70 0.845107952793\n",
      "75 0.844791622222\n",
      "80 0.842735522154\n",
      "85 0.843315385095\n",
      "90 0.841733885118\n",
      "95 0.840363327779\n",
      "100 0.840257912051\n",
      "Optimal percentile of features:25 \n",
      "\n",
      "Optimal number of features:13 \n",
      "\n"
     ]
    },
    {
     "data": {
      "text/plain": [
       "[<matplotlib.lines.Line2D at 0x12407fb70>]"
      ]
     },
     "execution_count": 421,
     "metadata": {},
     "output_type": "execute_result"
    },
    {
     "data": {
      "image/png": "[encoded data removed]",
      "text/plain": [
       "<matplotlib.figure.Figure at 0x1237d8080>"
      ]
     },
     "metadata": {},
     "output_type": "display_data"
    }
   ],
   "source": [
    "# Naive Bayes\n",
    "NBclf = naive_bayes.GaussianNB()\n",
    "\n",
    "percentiles = range(5, 101, 5)\n",
    "results = []\n",
    "for i in range(5, 101, 5):\n",
    "    fs = feature_selection.SelectPercentile(feature_selection.chi2, percentile=i)\n",
    "    train_norm_fs = fs.fit_transform(train_norm, target_train)\n",
    "    scores = cross_validation.cross_val_score(NBclf, train_norm_fs, target_train, cv=5)\n",
    "    print(i,scores.mean())\n",
    "    results = np.append(results, scores.mean())\n",
    "\n",
    "optimal_percentile = int(np.where(results == results.max())[0])\n",
    "print(\"Optimal percentile of features:{0}\".format(percentiles[optimal_percentile]), \"\\n\")\n",
    "optimal_num_features = int(percentiles[optimal_percentile]*len(df_final.columns)/100)\n",
    "print(\"Optimal number of features:{0}\".format(optimal_num_features), \"\\n\")\n",
    "\n",
    "# Plot percentile of features VS. cross-validation scores\n",
    "import pylab as pl\n",
    "pl.figure()\n",
    "pl.xlabel(\"Percentage of features selected\")\n",
    "pl.ylabel(\"Cross validation accuracy\")\n",
    "pl.plot(percentiles,results)"
   ]
  },
  {
   "cell_type": "code",
   "execution_count": 422,
   "metadata": {
    "collapsed": true
   },
   "outputs": [],
   "source": [
    "fs = feature_selection.SelectKBest(feature_selection.chi2, optimal_num_features)\n",
    "train_fs = fs.fit_transform(train, target_train)\n",
    "NBclf = naive_bayes.GaussianNB()\n",
    "NBclf.fit(train_fs, target_train)\n",
    "test_fs = fs.transform(test)"
   ]
  },
  {
   "cell_type": "code",
   "execution_count": 423,
   "metadata": {},
   "outputs": [
    {
     "name": "stdout",
     "output_type": "stream",
     "text": [
      "             precision    recall  f1-score   support\n",
      "\n",
      "          0       0.89      0.92      0.91      3661\n",
      "          1       0.70      0.61      0.65      1082\n",
      "\n",
      "avg / total       0.85      0.85      0.85      4743\n",
      "\n"
     ]
    }
   ],
   "source": [
    "NBpreds_test = NBclf.predict(test_fs)\n",
    "print(classification_report(target_test, NBpreds_test))"
   ]
  },
  {
   "cell_type": "code",
   "execution_count": 424,
   "metadata": {},
   "outputs": [
    {
     "name": "stdout",
     "output_type": "stream",
     "text": [
      "5 0.82085637319\n",
      "10 0.873154665372\n",
      "15 0.883013419415\n",
      "20 0.889182080966\n",
      "25 0.892977825451\n",
      "30 0.894032316279\n",
      "35 0.893610528286\n",
      "40 0.893083227281\n",
      "45 0.895350214396\n",
      "50 0.896088360756\n",
      "55 0.897564500597\n",
      "60 0.897986246896\n",
      "65 0.898407965399\n",
      "70 0.898460708007\n",
      "75 0.898513436718\n"
     ]
    },
    {
     "name": "stderr",
     "output_type": "stream",
     "text": [
      "/Users/yanyu/anaconda3/lib/python3.6/site-packages/sklearn/discriminant_analysis.py:388: UserWarning: Variables are collinear.\n",
      "  warnings.warn(\"Variables are collinear.\")\n",
      "/Users/yanyu/anaconda3/lib/python3.6/site-packages/sklearn/discriminant_analysis.py:388: UserWarning: Variables are collinear.\n",
      "  warnings.warn(\"Variables are collinear.\")\n",
      "/Users/yanyu/anaconda3/lib/python3.6/site-packages/sklearn/discriminant_analysis.py:388: UserWarning: Variables are collinear.\n",
      "  warnings.warn(\"Variables are collinear.\")\n",
      "/Users/yanyu/anaconda3/lib/python3.6/site-packages/sklearn/discriminant_analysis.py:388: UserWarning: Variables are collinear.\n",
      "  warnings.warn(\"Variables are collinear.\")\n",
      "/Users/yanyu/anaconda3/lib/python3.6/site-packages/sklearn/discriminant_analysis.py:388: UserWarning: Variables are collinear.\n",
      "  warnings.warn(\"Variables are collinear.\")\n",
      "/Users/yanyu/anaconda3/lib/python3.6/site-packages/sklearn/discriminant_analysis.py:388: UserWarning: Variables are collinear.\n",
      "  warnings.warn(\"Variables are collinear.\")\n",
      "/Users/yanyu/anaconda3/lib/python3.6/site-packages/sklearn/discriminant_analysis.py:388: UserWarning: Variables are collinear.\n",
      "  warnings.warn(\"Variables are collinear.\")\n",
      "/Users/yanyu/anaconda3/lib/python3.6/site-packages/sklearn/discriminant_analysis.py:388: UserWarning: Variables are collinear.\n",
      "  warnings.warn(\"Variables are collinear.\")\n",
      "/Users/yanyu/anaconda3/lib/python3.6/site-packages/sklearn/discriminant_analysis.py:388: UserWarning: Variables are collinear.\n",
      "  warnings.warn(\"Variables are collinear.\")\n",
      "/Users/yanyu/anaconda3/lib/python3.6/site-packages/sklearn/discriminant_analysis.py:388: UserWarning: Variables are collinear.\n",
      "  warnings.warn(\"Variables are collinear.\")\n",
      "/Users/yanyu/anaconda3/lib/python3.6/site-packages/sklearn/discriminant_analysis.py:388: UserWarning: Variables are collinear.\n",
      "  warnings.warn(\"Variables are collinear.\")\n",
      "/Users/yanyu/anaconda3/lib/python3.6/site-packages/sklearn/discriminant_analysis.py:388: UserWarning: Variables are collinear.\n",
      "  warnings.warn(\"Variables are collinear.\")\n"
     ]
    },
    {
     "name": "stdout",
     "output_type": "stream",
     "text": [
      "80 0.898513436718\n"
     ]
    },
    {
     "name": "stderr",
     "output_type": "stream",
     "text": [
      "/Users/yanyu/anaconda3/lib/python3.6/site-packages/sklearn/discriminant_analysis.py:388: UserWarning: Variables are collinear.\n",
      "  warnings.warn(\"Variables are collinear.\")\n",
      "/Users/yanyu/anaconda3/lib/python3.6/site-packages/sklearn/discriminant_analysis.py:388: UserWarning: Variables are collinear.\n",
      "  warnings.warn(\"Variables are collinear.\")\n",
      "/Users/yanyu/anaconda3/lib/python3.6/site-packages/sklearn/discriminant_analysis.py:388: UserWarning: Variables are collinear.\n",
      "  warnings.warn(\"Variables are collinear.\")\n",
      "/Users/yanyu/anaconda3/lib/python3.6/site-packages/sklearn/discriminant_analysis.py:388: UserWarning: Variables are collinear.\n",
      "  warnings.warn(\"Variables are collinear.\")\n"
     ]
    },
    {
     "name": "stdout",
     "output_type": "stream",
     "text": [
      "85 0.900780479425\n"
     ]
    },
    {
     "name": "stderr",
     "output_type": "stream",
     "text": [
      "/Users/yanyu/anaconda3/lib/python3.6/site-packages/sklearn/discriminant_analysis.py:388: UserWarning: Variables are collinear.\n",
      "  warnings.warn(\"Variables are collinear.\")\n",
      "/Users/yanyu/anaconda3/lib/python3.6/site-packages/sklearn/discriminant_analysis.py:388: UserWarning: Variables are collinear.\n",
      "  warnings.warn(\"Variables are collinear.\")\n",
      "/Users/yanyu/anaconda3/lib/python3.6/site-packages/sklearn/discriminant_analysis.py:388: UserWarning: Variables are collinear.\n",
      "  warnings.warn(\"Variables are collinear.\")\n",
      "/Users/yanyu/anaconda3/lib/python3.6/site-packages/sklearn/discriminant_analysis.py:388: UserWarning: Variables are collinear.\n",
      "  warnings.warn(\"Variables are collinear.\")\n",
      "/Users/yanyu/anaconda3/lib/python3.6/site-packages/sklearn/discriminant_analysis.py:388: UserWarning: Variables are collinear.\n",
      "  warnings.warn(\"Variables are collinear.\")\n"
     ]
    },
    {
     "name": "stdout",
     "output_type": "stream",
     "text": [
      "90 0.900727778511\n"
     ]
    },
    {
     "name": "stderr",
     "output_type": "stream",
     "text": [
      "/Users/yanyu/anaconda3/lib/python3.6/site-packages/sklearn/discriminant_analysis.py:388: UserWarning: Variables are collinear.\n",
      "  warnings.warn(\"Variables are collinear.\")\n",
      "/Users/yanyu/anaconda3/lib/python3.6/site-packages/sklearn/discriminant_analysis.py:388: UserWarning: Variables are collinear.\n",
      "  warnings.warn(\"Variables are collinear.\")\n",
      "/Users/yanyu/anaconda3/lib/python3.6/site-packages/sklearn/discriminant_analysis.py:388: UserWarning: Variables are collinear.\n",
      "  warnings.warn(\"Variables are collinear.\")\n",
      "/Users/yanyu/anaconda3/lib/python3.6/site-packages/sklearn/discriminant_analysis.py:388: UserWarning: Variables are collinear.\n",
      "  warnings.warn(\"Variables are collinear.\")\n",
      "/Users/yanyu/anaconda3/lib/python3.6/site-packages/sklearn/discriminant_analysis.py:388: UserWarning: Variables are collinear.\n",
      "  warnings.warn(\"Variables are collinear.\")\n"
     ]
    },
    {
     "name": "stdout",
     "output_type": "stream",
     "text": [
      "95 0.900675035902\n",
      "100 0.90130765535\n",
      "Optimal percentile of features:100 \n",
      "\n",
      "Optimal number of features:52 \n",
      "\n"
     ]
    },
    {
     "name": "stderr",
     "output_type": "stream",
     "text": [
      "/Users/yanyu/anaconda3/lib/python3.6/site-packages/sklearn/discriminant_analysis.py:388: UserWarning: Variables are collinear.\n",
      "  warnings.warn(\"Variables are collinear.\")\n",
      "/Users/yanyu/anaconda3/lib/python3.6/site-packages/sklearn/discriminant_analysis.py:388: UserWarning: Variables are collinear.\n",
      "  warnings.warn(\"Variables are collinear.\")\n",
      "/Users/yanyu/anaconda3/lib/python3.6/site-packages/sklearn/discriminant_analysis.py:388: UserWarning: Variables are collinear.\n",
      "  warnings.warn(\"Variables are collinear.\")\n",
      "/Users/yanyu/anaconda3/lib/python3.6/site-packages/sklearn/discriminant_analysis.py:388: UserWarning: Variables are collinear.\n",
      "  warnings.warn(\"Variables are collinear.\")\n"
     ]
    },
    {
     "data": {
      "text/plain": [
       "[<matplotlib.lines.Line2D at 0x121b1fac8>]"
      ]
     },
     "execution_count": 424,
     "metadata": {},
     "output_type": "execute_result"
    },
    {
     "data": {
      "image/png": "[encoded data removed]",
      "text/plain": [
       "<matplotlib.figure.Figure at 0x123452780>"
      ]
     },
     "metadata": {},
     "output_type": "display_data"
    }
   ],
   "source": [
    "# Linear Discriminant Analysis\n",
    "LDAclf = LinearDiscriminantAnalysis(n_components = 1)\n",
    "\n",
    "percentiles = range(5, 101, 5)\n",
    "results = []\n",
    "for i in range(5, 101, 5):\n",
    "    fs = feature_selection.SelectPercentile(feature_selection.chi2, percentile=i)\n",
    "    train_norm_fs = fs.fit_transform(train_norm, target_train)\n",
    "    scores = cross_validation.cross_val_score(LDAclf, train_norm_fs, target_train, cv=5)\n",
    "    print(i,scores.mean())\n",
    "    results = np.append(results, scores.mean())\n",
    "\n",
    "optimal_percentile = int(np.where(results == results.max())[0])\n",
    "print(\"Optimal percentile of features:{0}\".format(percentiles[optimal_percentile]), \"\\n\")\n",
    "optimal_num_features = int(percentiles[optimal_percentile]*len(df_final.columns)/100)\n",
    "print(\"Optimal number of features:{0}\".format(optimal_num_features), \"\\n\")\n",
    "\n",
    "# Plot percentile of features VS. cross-validation scores\n",
    "import pylab as pl\n",
    "pl.figure()\n",
    "pl.xlabel(\"Percentage of features selected\")\n",
    "pl.ylabel(\"Cross validation accuracy\")\n",
    "pl.plot(percentiles,results)"
   ]
  },
  {
   "cell_type": "markdown",
   "metadata": {
    "collapsed": true
   },
   "source": [
    "I don't have to reduce features for random forest"
   ]
  },
  {
   "cell_type": "markdown",
   "metadata": {},
   "source": [
    "# <font color='blue'> <p>The best model is Decision Tree (criterion = 'entropy', max_depth = 7, min_samples_leaf = 2, min_samples_split = 20) with 49 features. "
   ]
  },
  {
   "cell_type": "markdown",
   "metadata": {},
   "source": [
    "# <font color='blue'> <p>Clusting\n",
    "<font color='blue'> <p>We found a package, kmodes that can calculate the distance between categorical variables.\n",
    "And we try to group the instances into two clusters\n",
    "\n",
    "__Kmodes Description__\n",
    "\n",
    "Python implementations of the k-modes and k-prototypes clustering algorithms. Relies on numpy for a lot of the heavy lifting.\n",
    "\n",
    "k-modes is used for clustering categorical variables. It defines clusters based on the number of matching categories between data points. (This is in contrast to the more well-known k-means algorithm, which clusters numerical data based on Euclidean distance.) The k-prototypes algorithm combines k-modes and k-means and is able to cluster mixed numerical / categorical data.\n",
    "\n",
    "__References__\n",
    "\n",
    "[HUANG97] (1, 2) Huang, Z.: Clustering large data sets with mixed numeric and categorical values, Proceedings of the First Pacific Asia Knowledge Discovery and Data Mining Conference, Singapore, pp. 21-34, 1997.\n",
    "\n",
    "[HUANG98] Huang, Z.: Extensions to the k-modes algorithm for clustering large data sets with categorical values, Data Mining and Knowledge Discovery 2(3), pp. 283-304, 1998.\n",
    "\n",
    "[CAO09] Cao, F., Liang, J, Bai, L.: A new initialization method for categorical data clustering, Expert Systems with Applications 36(7), pp. 10223-10228., 2009."
   ]
  },
  {
   "cell_type": "code",
   "execution_count": 280,
   "metadata": {},
   "outputs": [
    {
     "name": "stdout",
     "output_type": "stream",
     "text": [
      "Collecting kmodes\n",
      "  Downloading https://files.pythonhosted.org/packages/1a/d5/54e0efa2ddf33234761f8c35471f4a2280bb4cef44fd39fa08f1e663946a/kmodes-0.9-py2.py3-none-any.whl\n",
      "Requirement already satisfied: scikit-learn<0.20.0,>=0.19.0 in /Users/yanyu/anaconda3/lib/python3.6/site-packages (from kmodes)\n",
      "Requirement already satisfied: numpy>=1.10.4 in /Users/yanyu/anaconda3/lib/python3.6/site-packages (from kmodes)\n",
      "Requirement already satisfied: scipy>=0.13.3 in /Users/yanyu/anaconda3/lib/python3.6/site-packages (from kmodes)\n",
      "Installing collected packages: kmodes\n",
      "Successfully installed kmodes-0.9\n",
      "\u001b[33mYou are using pip version 9.0.1, however version 10.0.1 is available.\n",
      "You should consider upgrading via the 'pip install --upgrade pip' command.\u001b[0m\n"
     ]
    }
   ],
   "source": [
    "!pip install kmodes"
   ]
  },
  {
   "cell_type": "code",
   "execution_count": 295,
   "metadata": {},
   "outputs": [
    {
     "name": "stdout",
     "output_type": "stream",
     "text": [
      "Initialization method and algorithm are deterministic. Setting n_init to 1.\n",
      "Init: initializing centroids\n",
      "Init: initializing clusters\n",
      "Starting iterations...\n",
      "Run: 1, iteration: 1/100, moves: 2473, ncost: 10206.416518131684\n",
      "Run: 1, iteration: 2/100, moves: 1680, ncost: 9773.597948868515\n",
      "Run: 1, iteration: 3/100, moves: 1334, ncost: 9678.7759278353\n",
      "Run: 1, iteration: 4/100, moves: 10, ncost: 9678.775450735293\n",
      "Run: 1, iteration: 5/100, moves: 0, ncost: 9678.775450735293\n"
     ]
    }
   ],
   "source": [
    "from kmodes.kprototypes import KPrototypes\n",
    "kproto = KPrototypes(n_clusters=2, init='Cao', verbose=2)\n",
    "clusters = kproto.fit_predict(train_norm, categorical=[1,2,3,4,5,6,18,19,20,21,22,23,24,25,26,27,28,29,30,31,32,33,34,35,36,37,38,39,40,41,42,43,44,45,46,47,48,49,50,51])"
   ]
  },
  {
   "cell_type": "code",
   "execution_count": 296,
   "metadata": {},
   "outputs": [
    {
     "name": "stdout",
     "output_type": "stream",
     "text": [
      "Completeness is  0.00201730340487\n",
      "Homogeneity is  0.00230480552456\n"
     ]
    }
   ],
   "source": [
    "from sklearn.metrics import completeness_score, homogeneity_score\n",
    "print('Completeness is ', completeness_score(target_train,clusters))\n",
    "print('Homogeneity is ', homogeneity_score(target_train,clusters))"
   ]
  }
 ],
 "metadata": {
  "kernelspec": {
   "display_name": "Python 2",
   "language": "python",
   "name": "python2"
  },
  "language_info": {
   "codemirror_mode": {
    "name": "ipython",
    "version": 2
   },
   "file_extension": ".py",
   "mimetype": "text/x-python",
   "name": "python",
   "nbconvert_exporter": "python",
   "pygments_lexer": "ipython2",
   "version": "2.7.14"
  }
 },
 "nbformat": 4,
 "nbformat_minor": 2
}
